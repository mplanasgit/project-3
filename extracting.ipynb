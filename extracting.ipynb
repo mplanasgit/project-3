{
 "cells": [
  {
   "cell_type": "markdown",
   "id": "8f321049",
   "metadata": {},
   "source": [
    "**Instructions**\n",
    "\n",
    "Gaming industry.\n",
    "\n",
    "**Scheme of the company:**\n",
    "\n",
    "- 20 Designers\n",
    "- 5 UI/UX Engineers\n",
    "- 10 Frontend Developers\n",
    "- 15 Data Engineers\n",
    "- 5 Backend Developers\n",
    "- 20 Account Managers\n",
    "- 1 Maintenance guy that loves basketball\n",
    "- 10 Executives\n",
    "- 1 CEO/President.\n",
    "\n",
    "\n",
    "**Requirements:**  \n",
    "\n",
    "- Designers like to go to design talks and share knowledge. There must be some nearby companies that also do design.\n",
    "- 30% of the company staff have at least 1 child.\n",
    "- Developers like to be near successful tech startups that have raised at least 1 Million dollars.\n",
    "- Executives like Starbucks A LOT. Ensure there's a starbucks not too far.\n",
    "- Account managers need to travel a lot.\n",
    "- Everyone in the company is between 25 and 40, give them some place to go party.\n",
    "- The CEO is vegan.\n",
    "- If you want to make the maintenance guy happy, a basketball stadium must be around 10 Km.\n",
    "- The office dog—\"Dobby\" needs a hairdresser every month. Ensure there's one not too far away."
   ]
  },
  {
   "cell_type": "markdown",
   "id": "b83f40ca",
   "metadata": {},
   "source": [
    "**Libraries**"
   ]
  },
  {
   "cell_type": "code",
   "execution_count": 46,
   "id": "925b2eb4",
   "metadata": {},
   "outputs": [],
   "source": [
    "from pymongo import MongoClient\n",
    "import pandas as pd\n",
    "import time\n",
    "import re\n",
    "import io\n",
    "import folium\n",
    "from folium import Choropleth, Circle, Marker, Icon, Map\n",
    "from folium.plugins import HeatMap, MarkerCluster\n",
    "#from geopy.geocoders import Nominatim"
   ]
  },
  {
   "cell_type": "markdown",
   "id": "9cf73523",
   "metadata": {},
   "source": [
    "# Extracting companies from the database"
   ]
  },
  {
   "cell_type": "markdown",
   "id": "6e2314d8",
   "metadata": {},
   "source": [
    "**Establishing connection to the database**"
   ]
  },
  {
   "cell_type": "code",
   "execution_count": 47,
   "id": "cd9ff23d",
   "metadata": {},
   "outputs": [
    {
     "data": {
      "text/plain": [
       "Collection(Database(MongoClient(host=['localhost:27017'], document_class=dict, tz_aware=False, connect=True), 'ironhack'), 'crunchbase')"
      ]
     },
     "execution_count": 47,
     "metadata": {},
     "output_type": "execute_result"
    }
   ],
   "source": [
    "client = MongoClient(\"localhost:27017\")\n",
    "db = client[\"ironhack\"]\n",
    "c = db.get_collection(\"crunchbase\")\n",
    "c"
   ]
  },
  {
   "cell_type": "code",
   "execution_count": 48,
   "id": "4bf7c849",
   "metadata": {},
   "outputs": [],
   "source": [
    "# Getting all the companies:\n",
    "result = list(c.find())"
   ]
  },
  {
   "cell_type": "markdown",
   "id": "90dbd001",
   "metadata": {},
   "source": [
    "**Exploring the *tags* and *categories***"
   ]
  },
  {
   "cell_type": "code",
   "execution_count": 49,
   "id": "6528d784",
   "metadata": {},
   "outputs": [],
   "source": [
    "# Looking at the distinct tags in the database:\n",
    "\n",
    "tags = []\n",
    "for i in range(len(result)):\n",
    "    tags.append(result[i]['tag_list'])\n",
    "tags = set(tags)\n",
    "# print(tags)"
   ]
  },
  {
   "cell_type": "code",
   "execution_count": 50,
   "id": "527a709f",
   "metadata": {},
   "outputs": [],
   "source": [
    "# Looking at the distinct categories in the database:\n",
    "\n",
    "categories = []\n",
    "for i in range(len(result)):\n",
    "    categories.append(result[i]['category_code'])\n",
    "categories = set(categories)\n",
    "# print(categories)"
   ]
  },
  {
   "cell_type": "markdown",
   "id": "587bfd34",
   "metadata": {},
   "source": [
    "**Things to consider when filtering:**\n",
    "\n",
    "- I want my company to be in a city with a **gaming industry hub**. Thus, I will select for those with **tags** related to video-games.\n",
    "- Videogame companies collaborate and outsource other software-related and design companies, so I might want to have them near my company aswell. Some **categories** are interesting: 'games_video', 'software' and 'design'. \n",
    "- I want the hub to be composed of **successful** companies, so the total amount of money they raised should be >1M ($/€).\n",
    "- I could filter the database by these tags and categories and then group the companies by country/city to identify a potential hub."
   ]
  },
  {
   "cell_type": "markdown",
   "id": "8a08db38",
   "metadata": {},
   "source": [
    "**Only gaming companies: 285**"
   ]
  },
  {
   "cell_type": "code",
   "execution_count": 51,
   "id": "29e31ca2",
   "metadata": {},
   "outputs": [
    {
     "data": {
      "text/plain": [
       "285"
      ]
     },
     "execution_count": 51,
     "metadata": {},
     "output_type": "execute_result"
    }
   ],
   "source": [
    "# Necessary filters: Companies whose 'offices' field is not empty and who have raised more than 1M $/€\n",
    "office_filter = {'offices' : {\"$ne\" : []}}\n",
    "money_filter = {'total_money_raised' : {\"$regex\" : \".*\\d+[MB]\"}}\n",
    "necessary = {\"$and\" : [office_filter, money_filter]}\n",
    "\n",
    "# If I only consider gaming companies:\n",
    "tag_filter = {'tag_list' : {\"$regex\": \".*gaming.*|.*game.*\"}}\n",
    "overview_filter = {'overview' : {\"$regex\": \".*gaming.*|.*game.*\"}}\n",
    "\n",
    "projection = {\"_id\":0, \"name\":1, 'total_money_raised':1, 'offices':1, 'tag_list':1}\n",
    "\n",
    "companies = list(c.find({\"$or\": [\n",
    "                                    {\"$and\": [necessary, tag_filter]},\n",
    "                                    {\"$and\": [necessary, overview_filter]}\n",
    "                                        ]}, projection))\n",
    "\n",
    "len(companies)"
   ]
  },
  {
   "cell_type": "markdown",
   "id": "dcfcf75a",
   "metadata": {},
   "source": [
    "**Gaming / design / tech companies: 430**"
   ]
  },
  {
   "cell_type": "code",
   "execution_count": 7,
   "id": "1a201570",
   "metadata": {},
   "outputs": [
    {
     "data": {
      "text/plain": [
       "430"
      ]
     },
     "execution_count": 7,
     "metadata": {},
     "output_type": "execute_result"
    }
   ],
   "source": [
    "# Necessary filters: Companies whose 'offices' field is not empty and who have raised more than 1M $/€\n",
    "office_filter = {'offices' : {\"$ne\" : []}}\n",
    "money_filter = {'total_money_raised' : {\"$regex\" : \".*\\d+[MB]\"}}\n",
    "necessary = {\"$and\" : [office_filter, money_filter]}\n",
    "\n",
    "# I need a city with a gaming hub, but that also has design and tech companies nearby for my employees:\n",
    "my_regex = \".*gaming.*|.*game.*|.*design.*|.*tech.*\"\n",
    "tag_filter = {'tag_list' : {\"$regex\": my_regex}}\n",
    "overview_filter = {'overview' : {\"$regex\": my_regex}}\n",
    "category_filter = {'category_code': {\"$regex\": my_regex}}\n",
    "\n",
    "projection = {\"_id\":0, \"name\":1, 'total_money_raised':1, 'offices':1, 'tag_list':1}\n",
    "\n",
    "companies = list(c.find({\"$or\": [\n",
    "                                    {\"$and\": [necessary, tag_filter, category_filter]},\n",
    "                                    {\"$and\": [necessary, overview_filter, category_filter]}\n",
    "                                        ]}, projection))\n",
    "\n",
    "len(companies)"
   ]
  },
  {
   "cell_type": "code",
   "execution_count": 52,
   "id": "484b0951",
   "metadata": {},
   "outputs": [
    {
     "data": {
      "text/html": [
       "<div>\n",
       "<style scoped>\n",
       "    .dataframe tbody tr th:only-of-type {\n",
       "        vertical-align: middle;\n",
       "    }\n",
       "\n",
       "    .dataframe tbody tr th {\n",
       "        vertical-align: top;\n",
       "    }\n",
       "\n",
       "    .dataframe thead th {\n",
       "        text-align: right;\n",
       "    }\n",
       "</style>\n",
       "<table border=\"1\" class=\"dataframe\">\n",
       "  <thead>\n",
       "    <tr style=\"text-align: right;\">\n",
       "      <th></th>\n",
       "      <th>name</th>\n",
       "      <th>tag_list</th>\n",
       "      <th>total_money_raised</th>\n",
       "      <th>offices</th>\n",
       "    </tr>\n",
       "  </thead>\n",
       "  <tbody>\n",
       "    <tr>\n",
       "      <th>0</th>\n",
       "      <td>Digg</td>\n",
       "      <td>community, social, news, bookmark, digg, techn...</td>\n",
       "      <td>$45M</td>\n",
       "      <td>[{'description': None, 'address1': '135 Missis...</td>\n",
       "    </tr>\n",
       "    <tr>\n",
       "      <th>1</th>\n",
       "      <td>Gizmoz</td>\n",
       "      <td>avatar, widget, 3d, facial, taylor</td>\n",
       "      <td>$18.1M</td>\n",
       "      <td>[{'description': None, 'address1': None, 'addr...</td>\n",
       "    </tr>\n",
       "    <tr>\n",
       "      <th>2</th>\n",
       "      <td>RockYou</td>\n",
       "      <td>widgets, photos, avatars, countdown, horoscope...</td>\n",
       "      <td>$136M</td>\n",
       "      <td>[{'description': '', 'address1': '585 Broadway...</td>\n",
       "    </tr>\n",
       "    <tr>\n",
       "      <th>3</th>\n",
       "      <td>spigit</td>\n",
       "      <td></td>\n",
       "      <td>$55.6M</td>\n",
       "      <td>[{'description': '', 'address1': '311 Ray Stre...</td>\n",
       "    </tr>\n",
       "    <tr>\n",
       "      <th>4</th>\n",
       "      <td>hi5</td>\n",
       "      <td>hi5, socialnetworking, musicnetwork, youyu</td>\n",
       "      <td>$52M</td>\n",
       "      <td>[{'description': '', 'address1': '55 Second St...</td>\n",
       "    </tr>\n",
       "  </tbody>\n",
       "</table>\n",
       "</div>"
      ],
      "text/plain": [
       "      name                                           tag_list  \\\n",
       "0     Digg  community, social, news, bookmark, digg, techn...   \n",
       "1   Gizmoz                 avatar, widget, 3d, facial, taylor   \n",
       "2  RockYou  widgets, photos, avatars, countdown, horoscope...   \n",
       "3   spigit                                                      \n",
       "4      hi5         hi5, socialnetworking, musicnetwork, youyu   \n",
       "\n",
       "  total_money_raised                                            offices  \n",
       "0               $45M  [{'description': None, 'address1': '135 Missis...  \n",
       "1             $18.1M  [{'description': None, 'address1': None, 'addr...  \n",
       "2              $136M  [{'description': '', 'address1': '585 Broadway...  \n",
       "3             $55.6M  [{'description': '', 'address1': '311 Ray Stre...  \n",
       "4               $52M  [{'description': '', 'address1': '55 Second St...  "
      ]
     },
     "execution_count": 52,
     "metadata": {},
     "output_type": "execute_result"
    }
   ],
   "source": [
    "companies_df = pd.DataFrame(companies)\n",
    "companies_df.head()"
   ]
  },
  {
   "cell_type": "markdown",
   "id": "144ae7ae",
   "metadata": {},
   "source": [
    "**Checking enrichment / filtering**"
   ]
  },
  {
   "cell_type": "code",
   "execution_count": 53,
   "id": "fd5b9267",
   "metadata": {},
   "outputs": [],
   "source": [
    "# When I print the tags again I see an enrichment of gaming-related tags.\n",
    "\n",
    "tags = []\n",
    "for i in range(len(companies)):\n",
    "    tags.append(companies[i]['tag_list'])\n",
    "tags = set(tags)\n",
    "# print(tags)"
   ]
  },
  {
   "cell_type": "code",
   "execution_count": 54,
   "id": "dfda1474",
   "metadata": {},
   "outputs": [],
   "source": [
    "# I selected companies with milions of $ or € raised.\n",
    "\n",
    "money = []\n",
    "for i in range(len(companies)):\n",
    "    money.append(companies[i]['total_money_raised'])\n",
    "money = set(money)\n",
    "# print(money)"
   ]
  },
  {
   "cell_type": "markdown",
   "id": "69bd64d3",
   "metadata": {},
   "source": [
    "**Extracting the city, state and country for each company**"
   ]
  },
  {
   "cell_type": "code",
   "execution_count": 55,
   "id": "44efe54f",
   "metadata": {},
   "outputs": [],
   "source": [
    "# I would like to get all offices and that they are added as new rows, \n",
    "# since I want to count how many gaming industry offices are there per city/country.\n",
    "\n",
    "companies_df = companies_df.explode('offices')\n",
    "companies_df = companies_df.reset_index()\n",
    "companies_df = companies_df.drop(columns = 'index', axis = 1)"
   ]
  },
  {
   "cell_type": "code",
   "execution_count": 56,
   "id": "8c8825bb",
   "metadata": {},
   "outputs": [
    {
     "data": {
      "text/html": [
       "<div>\n",
       "<style scoped>\n",
       "    .dataframe tbody tr th:only-of-type {\n",
       "        vertical-align: middle;\n",
       "    }\n",
       "\n",
       "    .dataframe tbody tr th {\n",
       "        vertical-align: top;\n",
       "    }\n",
       "\n",
       "    .dataframe thead th {\n",
       "        text-align: right;\n",
       "    }\n",
       "</style>\n",
       "<table border=\"1\" class=\"dataframe\">\n",
       "  <thead>\n",
       "    <tr style=\"text-align: right;\">\n",
       "      <th></th>\n",
       "      <th>name</th>\n",
       "      <th>tag_list</th>\n",
       "      <th>total_money_raised</th>\n",
       "      <th>offices</th>\n",
       "      <th>city</th>\n",
       "      <th>state_code</th>\n",
       "      <th>country_code</th>\n",
       "      <th>latitude</th>\n",
       "      <th>longitude</th>\n",
       "    </tr>\n",
       "  </thead>\n",
       "  <tbody>\n",
       "    <tr>\n",
       "      <th>0</th>\n",
       "      <td>Digg</td>\n",
       "      <td>community, social, news, bookmark, digg, techn...</td>\n",
       "      <td>$45M</td>\n",
       "      <td>{'description': None, 'address1': '135 Mississ...</td>\n",
       "      <td>San Francisco</td>\n",
       "      <td>CA</td>\n",
       "      <td>USA</td>\n",
       "      <td>37.764726</td>\n",
       "      <td>-122.394523</td>\n",
       "    </tr>\n",
       "    <tr>\n",
       "      <th>1</th>\n",
       "      <td>Gizmoz</td>\n",
       "      <td>avatar, widget, 3d, facial, taylor</td>\n",
       "      <td>$18.1M</td>\n",
       "      <td>{'description': None, 'address1': None, 'addre...</td>\n",
       "      <td>Menlo Park</td>\n",
       "      <td>CA</td>\n",
       "      <td>USA</td>\n",
       "      <td>37.484130</td>\n",
       "      <td>-122.169472</td>\n",
       "    </tr>\n",
       "    <tr>\n",
       "      <th>2</th>\n",
       "      <td>RockYou</td>\n",
       "      <td>widgets, photos, avatars, countdown, horoscope...</td>\n",
       "      <td>$136M</td>\n",
       "      <td>{'description': '', 'address1': '585 Broadway'...</td>\n",
       "      <td>Redwood City</td>\n",
       "      <td>CA</td>\n",
       "      <td>USA</td>\n",
       "      <td>37.484619</td>\n",
       "      <td>-122.206893</td>\n",
       "    </tr>\n",
       "    <tr>\n",
       "      <th>3</th>\n",
       "      <td>spigit</td>\n",
       "      <td></td>\n",
       "      <td>$55.6M</td>\n",
       "      <td>{'description': '', 'address1': '311 Ray Stree...</td>\n",
       "      <td>Pleasanton</td>\n",
       "      <td>CA</td>\n",
       "      <td>USA</td>\n",
       "      <td>37.663728</td>\n",
       "      <td>-121.873181</td>\n",
       "    </tr>\n",
       "    <tr>\n",
       "      <th>4</th>\n",
       "      <td>spigit</td>\n",
       "      <td></td>\n",
       "      <td>$55.6M</td>\n",
       "      <td>{'description': 'One Freedom Drive', 'address1...</td>\n",
       "      <td>Reston</td>\n",
       "      <td>VA</td>\n",
       "      <td>USA</td>\n",
       "      <td>38.959008</td>\n",
       "      <td>-77.359275</td>\n",
       "    </tr>\n",
       "  </tbody>\n",
       "</table>\n",
       "</div>"
      ],
      "text/plain": [
       "      name                                           tag_list  \\\n",
       "0     Digg  community, social, news, bookmark, digg, techn...   \n",
       "1   Gizmoz                 avatar, widget, 3d, facial, taylor   \n",
       "2  RockYou  widgets, photos, avatars, countdown, horoscope...   \n",
       "3   spigit                                                      \n",
       "4   spigit                                                      \n",
       "\n",
       "  total_money_raised                                            offices  \\\n",
       "0               $45M  {'description': None, 'address1': '135 Mississ...   \n",
       "1             $18.1M  {'description': None, 'address1': None, 'addre...   \n",
       "2              $136M  {'description': '', 'address1': '585 Broadway'...   \n",
       "3             $55.6M  {'description': '', 'address1': '311 Ray Stree...   \n",
       "4             $55.6M  {'description': 'One Freedom Drive', 'address1...   \n",
       "\n",
       "            city state_code country_code   latitude   longitude  \n",
       "0  San Francisco         CA          USA  37.764726 -122.394523  \n",
       "1     Menlo Park         CA          USA  37.484130 -122.169472  \n",
       "2   Redwood City         CA          USA  37.484619 -122.206893  \n",
       "3     Pleasanton         CA          USA  37.663728 -121.873181  \n",
       "4         Reston         VA          USA  38.959008  -77.359275  "
      ]
     },
     "execution_count": 56,
     "metadata": {},
     "output_type": "execute_result"
    }
   ],
   "source": [
    "# Appending to empty lists to add as new columns:\n",
    "\n",
    "city = []\n",
    "state_code = []\n",
    "country_code = []\n",
    "latitude = []\n",
    "longitude = []\n",
    "\n",
    "for index, row in companies_df.iterrows():\n",
    "    try:\n",
    "        city.append(row['offices']['city'])\n",
    "        state_code.append(row['offices']['state_code'])\n",
    "        country_code.append(row['offices']['country_code'])\n",
    "        latitude.append(row['offices']['latitude'])\n",
    "        longitude.append(row['offices']['longitude'])\n",
    "    except IndexError:\n",
    "        city.append(None)\n",
    "        state_code.append(None)\n",
    "        country_code.append(None)\n",
    "        latitude.append(None)\n",
    "        longitude.append(None)\n",
    "    \n",
    "companies_df['city'] = city\n",
    "companies_df['state_code'] = state_code\n",
    "companies_df['country_code'] = country_code\n",
    "companies_df['latitude'] = latitude\n",
    "companies_df['longitude'] = longitude\n",
    "\n",
    "companies_df.head()"
   ]
  },
  {
   "cell_type": "markdown",
   "id": "9173be26",
   "metadata": {},
   "source": [
    "**Cleaning and exploring**"
   ]
  },
  {
   "cell_type": "code",
   "execution_count": 57,
   "id": "3e998695",
   "metadata": {},
   "outputs": [
    {
     "data": {
      "text/html": [
       "<div>\n",
       "<style scoped>\n",
       "    .dataframe tbody tr th:only-of-type {\n",
       "        vertical-align: middle;\n",
       "    }\n",
       "\n",
       "    .dataframe tbody tr th {\n",
       "        vertical-align: top;\n",
       "    }\n",
       "\n",
       "    .dataframe thead th {\n",
       "        text-align: right;\n",
       "    }\n",
       "</style>\n",
       "<table border=\"1\" class=\"dataframe\">\n",
       "  <thead>\n",
       "    <tr style=\"text-align: right;\">\n",
       "      <th></th>\n",
       "      <th>name</th>\n",
       "      <th>city</th>\n",
       "      <th>state_code</th>\n",
       "      <th>country_code</th>\n",
       "      <th>latitude</th>\n",
       "      <th>longitude</th>\n",
       "    </tr>\n",
       "  </thead>\n",
       "  <tbody>\n",
       "    <tr>\n",
       "      <th>0</th>\n",
       "      <td>Digg</td>\n",
       "      <td>San Francisco</td>\n",
       "      <td>CA</td>\n",
       "      <td>USA</td>\n",
       "      <td>37.764726</td>\n",
       "      <td>-122.394523</td>\n",
       "    </tr>\n",
       "    <tr>\n",
       "      <th>1</th>\n",
       "      <td>Gizmoz</td>\n",
       "      <td>Menlo Park</td>\n",
       "      <td>CA</td>\n",
       "      <td>USA</td>\n",
       "      <td>37.484130</td>\n",
       "      <td>-122.169472</td>\n",
       "    </tr>\n",
       "    <tr>\n",
       "      <th>2</th>\n",
       "      <td>RockYou</td>\n",
       "      <td>Redwood City</td>\n",
       "      <td>CA</td>\n",
       "      <td>USA</td>\n",
       "      <td>37.484619</td>\n",
       "      <td>-122.206893</td>\n",
       "    </tr>\n",
       "    <tr>\n",
       "      <th>3</th>\n",
       "      <td>spigit</td>\n",
       "      <td>Pleasanton</td>\n",
       "      <td>CA</td>\n",
       "      <td>USA</td>\n",
       "      <td>37.663728</td>\n",
       "      <td>-121.873181</td>\n",
       "    </tr>\n",
       "    <tr>\n",
       "      <th>4</th>\n",
       "      <td>spigit</td>\n",
       "      <td>Reston</td>\n",
       "      <td>VA</td>\n",
       "      <td>USA</td>\n",
       "      <td>38.959008</td>\n",
       "      <td>-77.359275</td>\n",
       "    </tr>\n",
       "  </tbody>\n",
       "</table>\n",
       "</div>"
      ],
      "text/plain": [
       "      name           city state_code country_code   latitude   longitude\n",
       "0     Digg  San Francisco         CA          USA  37.764726 -122.394523\n",
       "1   Gizmoz     Menlo Park         CA          USA  37.484130 -122.169472\n",
       "2  RockYou   Redwood City         CA          USA  37.484619 -122.206893\n",
       "3   spigit     Pleasanton         CA          USA  37.663728 -121.873181\n",
       "4   spigit         Reston         VA          USA  38.959008  -77.359275"
      ]
     },
     "execution_count": 57,
     "metadata": {},
     "output_type": "execute_result"
    }
   ],
   "source": [
    "# Dropping the columns I will not use: I am interested in the gaming hub location.\n",
    "\n",
    "companies_df = companies_df.drop(columns = ['tag_list', 'offices', 'total_money_raised'])\n",
    "companies_df.head()"
   ]
  },
  {
   "cell_type": "code",
   "execution_count": 58,
   "id": "496db11f",
   "metadata": {},
   "outputs": [
    {
     "data": {
      "text/plain": [
       "country_code\n",
       "USA    221\n",
       "GBR     26\n",
       "ISR     15\n",
       "dtype: int64"
      ]
     },
     "execution_count": 58,
     "metadata": {},
     "output_type": "execute_result"
    }
   ],
   "source": [
    "# Top 3 countries with more companies\n",
    "companies_df.groupby('country_code').size().sort_values(ascending=False).head(3)"
   ]
  },
  {
   "cell_type": "code",
   "execution_count": 59,
   "id": "8dba1d94",
   "metadata": {},
   "outputs": [
    {
     "data": {
      "text/plain": [
       "state_code\n",
       "CA    134\n",
       "NY     24\n",
       "WA     14\n",
       "dtype: int64"
      ]
     },
     "execution_count": 59,
     "metadata": {},
     "output_type": "execute_result"
    }
   ],
   "source": [
    "# Top 3 states with more companies\n",
    "companies_df.groupby('state_code').size().sort_values(ascending=False).head(3)"
   ]
  },
  {
   "cell_type": "code",
   "execution_count": 60,
   "id": "dc9303b7",
   "metadata": {},
   "outputs": [
    {
     "data": {
      "text/plain": [
       "city\n",
       "San Francisco    53\n",
       "New York         22\n",
       "London           13\n",
       "                 11\n",
       "Los Angeles      10\n",
       "Beijing           8\n",
       "dtype: int64"
      ]
     },
     "execution_count": 60,
     "metadata": {},
     "output_type": "execute_result"
    }
   ],
   "source": [
    "# Top 3 cities with more companies\n",
    "companies_df.groupby('city').size().sort_values(ascending=False).head(6)"
   ]
  },
  {
   "cell_type": "code",
   "execution_count": 61,
   "id": "ca1c502d",
   "metadata": {},
   "outputs": [
    {
     "data": {
      "text/plain": [
       "city           country_code\n",
       "San Francisco  USA             53\n",
       "New York       USA             21\n",
       "London         GBR             13\n",
       "Los Angeles    USA             10\n",
       "Beijing        CHN              8\n",
       "Seattle        USA              8\n",
       "Mountain View  USA              6\n",
       "Austin         USA              6\n",
       "Tokyo          JPN              6\n",
       "Stockholm      SWE              5\n",
       "dtype: int64"
      ]
     },
     "execution_count": 61,
     "metadata": {},
     "output_type": "execute_result"
    }
   ],
   "source": [
    "companies_df.groupby(['city','country_code']).size().sort_values(ascending=False).head(10)"
   ]
  },
  {
   "cell_type": "code",
   "execution_count": 62,
   "id": "35669bf5",
   "metadata": {},
   "outputs": [],
   "source": [
    "# cities_with_space = gaming_df[gaming_df['city'] == \"\"]\n",
    "# cities_with_space\n",
    "\n",
    "# only 8 out of the 21 cities with spaces have data of latitude/longitude.\n",
    "# of those 8, 3 are in CA (USA), 2 in other states of USA, 1 in SWE, 1 in NLD and 1 in DEU\n",
    "# they would not affect the ranking"
   ]
  },
  {
   "cell_type": "markdown",
   "id": "7eba2e36",
   "metadata": {},
   "source": [
    "**Comparison of hubs: gaming vs gaming-design-tech**\n",
    "\n",
    "If I consider the **gaming hub only**, then the top cities are:\n",
    "1. San Francisco: 53\n",
    "2. New York: 21\n",
    "3. London (GBR): 13\n",
    "4. Los Angeles: 10\n",
    "5. Beijing: 8\n",
    "\n",
    "On the other hand, if I consider a **gaming-design-tech hub**, then the top cities are:\n",
    "1. San Francisco: 41\n",
    "2. New York: 21\n",
    "3. South San Francisco: 9\n",
    "3. Cambridge (USA): 8\n",
    "5. London (GBR): 7"
   ]
  },
  {
   "cell_type": "markdown",
   "id": "795181b8",
   "metadata": {},
   "source": [
    "**Next steps**\n",
    "- **San Francisco** and **New York** seem like the best cities **in general**.\n",
    "- **London** and **Cambridge (USA)** could also be good options.\n",
    "- I compared the maps filtering for gaming companies only **(gaming hub)** and filtering for **gaming-design-tech**, and they tend to accumulate in same places irrespectively of the of the kind of hub. Therefore, it doesn't make much of a difference.\n",
    "- Now I will have to see if these cities have all the requirements."
   ]
  },
  {
   "cell_type": "markdown",
   "id": "bfebfca3",
   "metadata": {},
   "source": [
    "# Building maps for each city\n",
    "To see whether these companies agglomerate in one region of the city, where I would locate my company."
   ]
  },
  {
   "cell_type": "markdown",
   "id": "66c7386c",
   "metadata": {},
   "source": [
    "**San Francisco**"
   ]
  },
  {
   "cell_type": "code",
   "execution_count": 19,
   "id": "ee2d2f50",
   "metadata": {},
   "outputs": [
    {
     "data": {
      "text/plain": [
       "(38, 6)"
      ]
     },
     "execution_count": 19,
     "metadata": {},
     "output_type": "execute_result"
    }
   ],
   "source": [
    "# Subset of the dataframe: San Francisco\n",
    "sanfrancisco = companies_df[(companies_df['city'] == \"San Francisco\") | (companies_df['city'] == \"South San Francisco\")]\n",
    "sanfrancisco = sanfrancisco[sanfrancisco['latitude'].notna()]\n",
    "sanfrancisco.shape"
   ]
  },
  {
   "cell_type": "code",
   "execution_count": 20,
   "id": "1a51aaf8",
   "metadata": {},
   "outputs": [],
   "source": [
    "# Building map\n",
    "sanfran_lat, sanfran_lon = 37.709209, -122.414242\n",
    "map_sanfran = Map(location = [sanfran_lat, sanfran_lon], zoom_start = 10)\n",
    "\n",
    "# Adding markers\n",
    "for index, row in sanfrancisco.iterrows():\n",
    "    company = {\"location\": [row[\"latitude\"], row[\"longitude\"]], \"tooltip\": row[\"name\"]}\n",
    "    new_marker = Marker(**company, radius = 2)\n",
    "    new_marker.add_to(map_sanfran)"
   ]
  },
  {
   "cell_type": "code",
   "execution_count": 21,
   "id": "fcc4a8df",
   "metadata": {},
   "outputs": [],
   "source": [
    "# map_sanfran # Company in the center: Kongregate / Osprey Pharmaceuticals USA"
   ]
  },
  {
   "cell_type": "markdown",
   "id": "0044d1de",
   "metadata": {},
   "source": [
    "- Most companies agglomerate to the **north-east coast** of San Francisco.\n",
    "- Some companies categorized as belonging to San Francisco are actually in Palo Alto."
   ]
  },
  {
   "cell_type": "markdown",
   "id": "fe6766fc",
   "metadata": {},
   "source": [
    "**New York**"
   ]
  },
  {
   "cell_type": "code",
   "execution_count": 22,
   "id": "aa19c4c0",
   "metadata": {},
   "outputs": [
    {
     "data": {
      "text/plain": [
       "(15, 6)"
      ]
     },
     "execution_count": 22,
     "metadata": {},
     "output_type": "execute_result"
    }
   ],
   "source": [
    "# Subset of the dataframe: New York\n",
    "newyork = companies_df[(companies_df['city'] == \"New York\")]\n",
    "newyork = newyork[newyork['latitude'].notna()]\n",
    "newyork.shape"
   ]
  },
  {
   "cell_type": "code",
   "execution_count": 23,
   "id": "175cf31e",
   "metadata": {},
   "outputs": [],
   "source": [
    "# Building map\n",
    "newyork_lat, newyork_lon = 40.730610, -73.935242\n",
    "map_newyork = Map(location = [newyork_lat, newyork_lon], zoom_start = 10)\n",
    "\n",
    "# Adding markers\n",
    "for index, row in newyork.iterrows():\n",
    "    company = {\"location\": [row[\"latitude\"], row[\"longitude\"]], \"tooltip\": row[\"name\"]}\n",
    "    new_marker = Marker(**company, radius = 2)\n",
    "    new_marker.add_to(map_newyork)"
   ]
  },
  {
   "cell_type": "code",
   "execution_count": 24,
   "id": "8d219c6f",
   "metadata": {},
   "outputs": [],
   "source": [
    "# map_newyork # Company right in the center: Cellufun"
   ]
  },
  {
   "cell_type": "markdown",
   "id": "24c7623e",
   "metadata": {},
   "source": [
    "**London**"
   ]
  },
  {
   "cell_type": "code",
   "execution_count": 28,
   "id": "ed48b44e",
   "metadata": {},
   "outputs": [
    {
     "data": {
      "text/plain": [
       "(5, 6)"
      ]
     },
     "execution_count": 28,
     "metadata": {},
     "output_type": "execute_result"
    }
   ],
   "source": [
    "# Subset of the dataframe: London\n",
    "london = companies_df[(companies_df['city'] == \"London\")]\n",
    "london = london[london['latitude'].notna()]\n",
    "london.shape"
   ]
  },
  {
   "cell_type": "code",
   "execution_count": 42,
   "id": "dec816c5",
   "metadata": {},
   "outputs": [],
   "source": [
    "# Building map\n",
    "london_lat, london_lon = 51.509865, -0.118092\n",
    "map_london = Map(location = [london_lat, london_lon], zoom_start = 12)\n",
    "\n",
    "# Adding markers\n",
    "for index, row in london.iterrows():\n",
    "    company = {\"location\": [row[\"latitude\"], row[\"longitude\"]], \"tooltip\": row[\"name\"]}\n",
    "    new_marker = Marker(**company, radius = 2)\n",
    "    new_marker.add_to(map_london)"
   ]
  },
  {
   "cell_type": "code",
   "execution_count": 44,
   "id": "3d3f7529",
   "metadata": {},
   "outputs": [],
   "source": [
    "# map_london # Company in the middle: Playfish"
   ]
  },
  {
   "cell_type": "markdown",
   "id": "9d97e550",
   "metadata": {},
   "source": [
    "**Cambridge (USA)**"
   ]
  },
  {
   "cell_type": "code",
   "execution_count": 39,
   "id": "5c2c519c",
   "metadata": {},
   "outputs": [
    {
     "data": {
      "text/plain": [
       "(5, 6)"
      ]
     },
     "execution_count": 39,
     "metadata": {},
     "output_type": "execute_result"
    }
   ],
   "source": [
    "# Subset of the dataframe: Cambridge\n",
    "cambridge = companies_df[(companies_df['city'] == \"Cambridge\")]\n",
    "cambridge = cambridge[cambridge['latitude'].notna()]\n",
    "cambridge.shape"
   ]
  },
  {
   "cell_type": "code",
   "execution_count": 40,
   "id": "d41dbb49",
   "metadata": {},
   "outputs": [],
   "source": [
    "# Building map\n",
    "cambridge_lat, cambridge_lon = 42.373611, -71.110558\n",
    "map_cambridge = Map(location = [cambridge_lat, cambridge_lon], zoom_start = 12)\n",
    "\n",
    "# Adding markers\n",
    "for index, row in cambridge.iterrows():\n",
    "    company = {\"location\": [row[\"latitude\"], row[\"longitude\"]], \"tooltip\": row[\"name\"]}\n",
    "    new_marker = Marker(**company, radius = 2)\n",
    "    new_marker.add_to(map_cambridge)"
   ]
  },
  {
   "cell_type": "code",
   "execution_count": 38,
   "id": "989fc60e",
   "metadata": {},
   "outputs": [],
   "source": [
    "# map_cambridge # Company right in the center: Aileron Therapeutics"
   ]
  }
 ],
 "metadata": {
  "kernelspec": {
   "display_name": "Python 3 (ipykernel)",
   "language": "python",
   "name": "python3"
  },
  "language_info": {
   "codemirror_mode": {
    "name": "ipython",
    "version": 3
   },
   "file_extension": ".py",
   "mimetype": "text/x-python",
   "name": "python",
   "nbconvert_exporter": "python",
   "pygments_lexer": "ipython3",
   "version": "3.9.13"
  },
  "toc": {
   "base_numbering": 1,
   "nav_menu": {},
   "number_sections": true,
   "sideBar": true,
   "skip_h1_title": false,
   "title_cell": "Table of Contents",
   "title_sidebar": "Contents",
   "toc_cell": false,
   "toc_position": {},
   "toc_section_display": true,
   "toc_window_display": false
  }
 },
 "nbformat": 4,
 "nbformat_minor": 5
}
