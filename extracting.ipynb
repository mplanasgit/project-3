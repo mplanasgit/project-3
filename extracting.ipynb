{
 "cells": [
  {
   "cell_type": "markdown",
   "id": "8f321049",
   "metadata": {},
   "source": [
    "**Instructions**\n",
    "\n",
    "Gaming industry.\n",
    "\n",
    "**Scheme of the company:**\n",
    "\n",
    "- 20 Designers\n",
    "- 5 UI/UX Engineers\n",
    "- 10 Frontend Developers\n",
    "- 15 Data Engineers\n",
    "- 5 Backend Developers\n",
    "- 20 Account Managers\n",
    "- 1 Maintenance guy that loves basketball\n",
    "- 10 Executives\n",
    "- 1 CEO/President.\n",
    "\n",
    "\n",
    "**Requirements:**  \n",
    "\n",
    "- Designers like to go to design talks and share knowledge. There must be some nearby companies that also do design.\n",
    "- 30% of the company staff have at least 1 child.\n",
    "- Developers like to be near successful tech startups that have raised at least 1 Million dollars.\n",
    "- Executives like Starbucks A LOT. Ensure there's a starbucks not too far.\n",
    "- Account managers need to travel a lot.\n",
    "- Everyone in the company is between 25 and 40, give them some place to go party.\n",
    "- The CEO is vegan.\n",
    "- If you want to make the maintenance guy happy, a basketball stadium must be around 10 Km.\n",
    "- The office dog—\"Dobby\" needs a hairdresser every month. Ensure there's one not too far away."
   ]
  },
  {
   "cell_type": "markdown",
   "id": "b83f40ca",
   "metadata": {},
   "source": [
    "**Libraries**"
   ]
  },
  {
   "cell_type": "code",
   "execution_count": 43,
   "id": "925b2eb4",
   "metadata": {},
   "outputs": [],
   "source": [
    "from pymongo import MongoClient\n",
    "import pandas as pd\n",
    "import time\n",
    "import re\n",
    "import io\n",
    "import folium\n",
    "from folium import Choropleth, Circle, Marker, Icon, Map\n",
    "from folium.plugins import HeatMap, MarkerCluster\n",
    "#from geopy.geocoders import Nominatim"
   ]
  },
  {
   "cell_type": "markdown",
   "id": "9cf73523",
   "metadata": {},
   "source": [
    "# Extracting companies from the database"
   ]
  },
  {
   "cell_type": "markdown",
   "id": "3a5744b4",
   "metadata": {},
   "source": [
    "**Establishing connection to the database**"
   ]
  },
  {
   "cell_type": "code",
   "execution_count": 44,
   "id": "cd9ff23d",
   "metadata": {},
   "outputs": [
    {
     "data": {
      "text/plain": [
       "Collection(Database(MongoClient(host=['localhost:27017'], document_class=dict, tz_aware=False, connect=True), 'ironhack'), 'crunchbase')"
      ]
     },
     "execution_count": 44,
     "metadata": {},
     "output_type": "execute_result"
    }
   ],
   "source": [
    "client = MongoClient(\"localhost:27017\")\n",
    "db = client[\"ironhack\"]\n",
    "c = db.get_collection(\"crunchbase\")\n",
    "c"
   ]
  },
  {
   "cell_type": "code",
   "execution_count": 45,
   "id": "4bf7c849",
   "metadata": {},
   "outputs": [],
   "source": [
    "# Getting all the companies:\n",
    "result = list(c.find())"
   ]
  },
  {
   "cell_type": "markdown",
   "id": "f9ac9bcc",
   "metadata": {},
   "source": [
    "**Exploring the *tags* and *categories***"
   ]
  },
  {
   "cell_type": "code",
   "execution_count": 46,
   "id": "6528d784",
   "metadata": {},
   "outputs": [],
   "source": [
    "# Looking at the distinct tags in the database:\n",
    "\n",
    "tags = []\n",
    "for i in range(len(result)):\n",
    "    tags.append(result[i]['tag_list'])\n",
    "tags = set(tags)\n",
    "# print(tags)"
   ]
  },
  {
   "cell_type": "code",
   "execution_count": 47,
   "id": "527a709f",
   "metadata": {},
   "outputs": [],
   "source": [
    "# Looking at the distinct categories in the database:\n",
    "\n",
    "categories = []\n",
    "for i in range(len(result)):\n",
    "    categories.append(result[i]['category_code'])\n",
    "categories = set(categories)\n",
    "# print(categories)"
   ]
  },
  {
   "cell_type": "markdown",
   "id": "587bfd34",
   "metadata": {},
   "source": [
    "**Things to consider when filtering:**\n",
    "\n",
    "- I want my company to be in a city with a **gaming industry hub**. Thus, I will select for those with **tags** related to video-games.\n",
    "- Videogame companies collaborate and outsource other software-related and design companies, so I might want to have them near my company aswell. Some **categories** are interesting: 'games_video', 'software' and 'design'. \n",
    "- I want the hub to be composed of **successful** companies, so the total amount of money they raised should be >1M ($/€).\n",
    "- I could filter the database by these tags and categories and then group the companies by country/city to identify a potential hub."
   ]
  },
  {
   "cell_type": "code",
   "execution_count": 48,
   "id": "1a201570",
   "metadata": {},
   "outputs": [
    {
     "data": {
      "text/plain": [
       "430"
      ]
     },
     "execution_count": 48,
     "metadata": {},
     "output_type": "execute_result"
    }
   ],
   "source": [
    "# Necessary filters: Companies whose 'offices' field is not empty and who have raised more than 1M $/€\n",
    "office_filter = {'offices' : {\"$ne\" : []}}\n",
    "money_filter = {'total_money_raised' : {\"$regex\" : \".*\\d+[MB]\"}}\n",
    "necessary = {\"$and\" : [office_filter, money_filter]}\n",
    "\n",
    "# I need a city with a gaming hub, but that also has design and tech companies nearby for my employees:\n",
    "my_regex = \".*gaming.*|.*game.*|.*design.*|.*tech.*\"\n",
    "tag_filter = {'tag_list' : {\"$regex\": my_regex}}\n",
    "overview_filter = {'overview' : {\"$regex\": my_regex}}\n",
    "category_filter = {'category_code': {\"$regex\": my_regex}}\n",
    "\n",
    "projection = {\"_id\":0, \"name\":1, 'total_money_raised':1, 'offices':1, 'tag_list':1}\n",
    "\n",
    "gaming_companies = list(c.find({\"$or\": [\n",
    "                                    {\"$and\": [necessary, tag_filter, category_filter]},\n",
    "                                    {\"$and\": [necessary, overview_filter, category_filter]}\n",
    "                                        ]}, projection))\n",
    "\n",
    "len(gaming_companies)"
   ]
  },
  {
   "cell_type": "code",
   "execution_count": 49,
   "id": "484b0951",
   "metadata": {},
   "outputs": [
    {
     "data": {
      "text/html": [
       "<div>\n",
       "<style scoped>\n",
       "    .dataframe tbody tr th:only-of-type {\n",
       "        vertical-align: middle;\n",
       "    }\n",
       "\n",
       "    .dataframe tbody tr th {\n",
       "        vertical-align: top;\n",
       "    }\n",
       "\n",
       "    .dataframe thead th {\n",
       "        text-align: right;\n",
       "    }\n",
       "</style>\n",
       "<table border=\"1\" class=\"dataframe\">\n",
       "  <thead>\n",
       "    <tr style=\"text-align: right;\">\n",
       "      <th></th>\n",
       "      <th>name</th>\n",
       "      <th>tag_list</th>\n",
       "      <th>total_money_raised</th>\n",
       "      <th>offices</th>\n",
       "    </tr>\n",
       "  </thead>\n",
       "  <tbody>\n",
       "    <tr>\n",
       "      <th>0</th>\n",
       "      <td>Joost</td>\n",
       "      <td>iptv, babelgum, television, video, thevenicepr...</td>\n",
       "      <td>$45M</td>\n",
       "      <td>[{'description': '', 'address1': '100 5th Ave ...</td>\n",
       "    </tr>\n",
       "    <tr>\n",
       "      <th>1</th>\n",
       "      <td>Babelgum</td>\n",
       "      <td>iptv, web2ireland</td>\n",
       "      <td>$13.2M</td>\n",
       "      <td>[{'description': '', 'address1': '', 'address2...</td>\n",
       "    </tr>\n",
       "    <tr>\n",
       "      <th>2</th>\n",
       "      <td>Veoh</td>\n",
       "      <td>veoh, video, veohtv, socialvideo, videosharing...</td>\n",
       "      <td>$69.8M</td>\n",
       "      <td>[{'description': '', 'address1': '10180 Telesi...</td>\n",
       "    </tr>\n",
       "    <tr>\n",
       "      <th>3</th>\n",
       "      <td>YouTube</td>\n",
       "      <td>channels, movies, rentals, share, usergenerate...</td>\n",
       "      <td>$11.5M</td>\n",
       "      <td>[{'description': 'Corporate Headquarters', 'ad...</td>\n",
       "    </tr>\n",
       "    <tr>\n",
       "      <th>4</th>\n",
       "      <td>Pando Networks</td>\n",
       "      <td>p2p, video, streaming, download, cdn</td>\n",
       "      <td>$11M</td>\n",
       "      <td>[{'description': None, 'address1': '520 Broadw...</td>\n",
       "    </tr>\n",
       "  </tbody>\n",
       "</table>\n",
       "</div>"
      ],
      "text/plain": [
       "             name                                           tag_list  \\\n",
       "0           Joost  iptv, babelgum, television, video, thevenicepr...   \n",
       "1        Babelgum                                  iptv, web2ireland   \n",
       "2            Veoh  veoh, video, veohtv, socialvideo, videosharing...   \n",
       "3         YouTube  channels, movies, rentals, share, usergenerate...   \n",
       "4  Pando Networks               p2p, video, streaming, download, cdn   \n",
       "\n",
       "  total_money_raised                                            offices  \n",
       "0               $45M  [{'description': '', 'address1': '100 5th Ave ...  \n",
       "1             $13.2M  [{'description': '', 'address1': '', 'address2...  \n",
       "2             $69.8M  [{'description': '', 'address1': '10180 Telesi...  \n",
       "3             $11.5M  [{'description': 'Corporate Headquarters', 'ad...  \n",
       "4               $11M  [{'description': None, 'address1': '520 Broadw...  "
      ]
     },
     "execution_count": 49,
     "metadata": {},
     "output_type": "execute_result"
    }
   ],
   "source": [
    "gaming_df = pd.DataFrame(gaming_companies)\n",
    "gaming_df.head()"
   ]
  },
  {
   "cell_type": "markdown",
   "id": "ae5b74d1",
   "metadata": {},
   "source": [
    "**Checking enrichment / filtering**"
   ]
  },
  {
   "cell_type": "code",
   "execution_count": 50,
   "id": "fd5b9267",
   "metadata": {},
   "outputs": [],
   "source": [
    "# When I print the tags again I see an enrichment of gaming-related tags.\n",
    "\n",
    "tags = []\n",
    "for i in range(len(gaming_companies)):\n",
    "    tags.append(gaming_companies[i]['tag_list'])\n",
    "tags = set(tags)\n",
    "# print(tags)"
   ]
  },
  {
   "cell_type": "code",
   "execution_count": 51,
   "id": "dfda1474",
   "metadata": {},
   "outputs": [],
   "source": [
    "# I selected companies with milions of $ or € raised.\n",
    "\n",
    "money = []\n",
    "for i in range(len(gaming_companies)):\n",
    "    money.append(gaming_companies[i]['total_money_raised'])\n",
    "money = set(money)\n",
    "# print(money)"
   ]
  },
  {
   "cell_type": "markdown",
   "id": "c3dd5d66",
   "metadata": {},
   "source": [
    "**Extracting the city, state and country for each company**"
   ]
  },
  {
   "cell_type": "code",
   "execution_count": 52,
   "id": "44efe54f",
   "metadata": {},
   "outputs": [],
   "source": [
    "# I would like to get all offices and that they are added as new rows, \n",
    "# since I want to count how many gaming industry offices are there per city/country.\n",
    "\n",
    "gaming_df = gaming_df.explode('offices')\n",
    "gaming_df = gaming_df.reset_index()\n",
    "gaming_df = gaming_df.drop(columns = 'index', axis = 1)"
   ]
  },
  {
   "cell_type": "code",
   "execution_count": 53,
   "id": "8c8825bb",
   "metadata": {},
   "outputs": [
    {
     "data": {
      "text/html": [
       "<div>\n",
       "<style scoped>\n",
       "    .dataframe tbody tr th:only-of-type {\n",
       "        vertical-align: middle;\n",
       "    }\n",
       "\n",
       "    .dataframe tbody tr th {\n",
       "        vertical-align: top;\n",
       "    }\n",
       "\n",
       "    .dataframe thead th {\n",
       "        text-align: right;\n",
       "    }\n",
       "</style>\n",
       "<table border=\"1\" class=\"dataframe\">\n",
       "  <thead>\n",
       "    <tr style=\"text-align: right;\">\n",
       "      <th></th>\n",
       "      <th>name</th>\n",
       "      <th>tag_list</th>\n",
       "      <th>total_money_raised</th>\n",
       "      <th>offices</th>\n",
       "      <th>city</th>\n",
       "      <th>state_code</th>\n",
       "      <th>country_code</th>\n",
       "      <th>latitude</th>\n",
       "      <th>longitude</th>\n",
       "    </tr>\n",
       "  </thead>\n",
       "  <tbody>\n",
       "    <tr>\n",
       "      <th>0</th>\n",
       "      <td>Joost</td>\n",
       "      <td>iptv, babelgum, television, video, thevenicepr...</td>\n",
       "      <td>$45M</td>\n",
       "      <td>{'description': '', 'address1': '100 5th Ave F...</td>\n",
       "      <td>New York</td>\n",
       "      <td>NY</td>\n",
       "      <td>USA</td>\n",
       "      <td>40.746497</td>\n",
       "      <td>-74.009447</td>\n",
       "    </tr>\n",
       "    <tr>\n",
       "      <th>1</th>\n",
       "      <td>Babelgum</td>\n",
       "      <td>iptv, web2ireland</td>\n",
       "      <td>$13.2M</td>\n",
       "      <td>{'description': '', 'address1': '', 'address2'...</td>\n",
       "      <td>London</td>\n",
       "      <td>None</td>\n",
       "      <td>GBR</td>\n",
       "      <td>53.344104</td>\n",
       "      <td>-6.267494</td>\n",
       "    </tr>\n",
       "    <tr>\n",
       "      <th>2</th>\n",
       "      <td>Veoh</td>\n",
       "      <td>veoh, video, veohtv, socialvideo, videosharing...</td>\n",
       "      <td>$69.8M</td>\n",
       "      <td>{'description': '', 'address1': '10180 Telesis...</td>\n",
       "      <td>San Diego</td>\n",
       "      <td>CA</td>\n",
       "      <td>USA</td>\n",
       "      <td>32.902266</td>\n",
       "      <td>-117.208340</td>\n",
       "    </tr>\n",
       "    <tr>\n",
       "      <th>3</th>\n",
       "      <td>YouTube</td>\n",
       "      <td>channels, movies, rentals, share, usergenerate...</td>\n",
       "      <td>$11.5M</td>\n",
       "      <td>{'description': 'Corporate Headquarters', 'add...</td>\n",
       "      <td>San Bruno</td>\n",
       "      <td>CA</td>\n",
       "      <td>USA</td>\n",
       "      <td>37.627971</td>\n",
       "      <td>-122.426804</td>\n",
       "    </tr>\n",
       "    <tr>\n",
       "      <th>4</th>\n",
       "      <td>Pando Networks</td>\n",
       "      <td>p2p, video, streaming, download, cdn</td>\n",
       "      <td>$11M</td>\n",
       "      <td>{'description': None, 'address1': '520 Broadwa...</td>\n",
       "      <td>New York</td>\n",
       "      <td>NY</td>\n",
       "      <td>USA</td>\n",
       "      <td>40.722655</td>\n",
       "      <td>-73.998730</td>\n",
       "    </tr>\n",
       "  </tbody>\n",
       "</table>\n",
       "</div>"
      ],
      "text/plain": [
       "             name                                           tag_list  \\\n",
       "0           Joost  iptv, babelgum, television, video, thevenicepr...   \n",
       "1        Babelgum                                  iptv, web2ireland   \n",
       "2            Veoh  veoh, video, veohtv, socialvideo, videosharing...   \n",
       "3         YouTube  channels, movies, rentals, share, usergenerate...   \n",
       "4  Pando Networks               p2p, video, streaming, download, cdn   \n",
       "\n",
       "  total_money_raised                                            offices  \\\n",
       "0               $45M  {'description': '', 'address1': '100 5th Ave F...   \n",
       "1             $13.2M  {'description': '', 'address1': '', 'address2'...   \n",
       "2             $69.8M  {'description': '', 'address1': '10180 Telesis...   \n",
       "3             $11.5M  {'description': 'Corporate Headquarters', 'add...   \n",
       "4               $11M  {'description': None, 'address1': '520 Broadwa...   \n",
       "\n",
       "        city state_code country_code   latitude   longitude  \n",
       "0   New York         NY          USA  40.746497  -74.009447  \n",
       "1     London       None          GBR  53.344104   -6.267494  \n",
       "2  San Diego         CA          USA  32.902266 -117.208340  \n",
       "3  San Bruno         CA          USA  37.627971 -122.426804  \n",
       "4   New York         NY          USA  40.722655  -73.998730  "
      ]
     },
     "execution_count": 53,
     "metadata": {},
     "output_type": "execute_result"
    }
   ],
   "source": [
    "# Appending to empty lists to add as new columns:\n",
    "\n",
    "city = []\n",
    "state_code = []\n",
    "country_code = []\n",
    "latitude = []\n",
    "longitude = []\n",
    "\n",
    "for index, row in gaming_df.iterrows():\n",
    "    try:\n",
    "        city.append(row['offices']['city'])\n",
    "        state_code.append(row['offices']['state_code'])\n",
    "        country_code.append(row['offices']['country_code'])\n",
    "        latitude.append(row['offices']['latitude'])\n",
    "        longitude.append(row['offices']['longitude'])\n",
    "    except IndexError:\n",
    "        city.append(None)\n",
    "        state_code.append(None)\n",
    "        country_code.append(None)\n",
    "        latitude.append(None)\n",
    "        longitude.append(None)\n",
    "    \n",
    "gaming_df['city'] = city\n",
    "gaming_df['state_code'] = state_code\n",
    "gaming_df['country_code'] = country_code\n",
    "gaming_df['latitude'] = latitude\n",
    "gaming_df['longitude'] = longitude\n",
    "\n",
    "gaming_df.head()"
   ]
  },
  {
   "cell_type": "markdown",
   "id": "8e412b04",
   "metadata": {},
   "source": [
    "**Cleaning and exploring**"
   ]
  },
  {
   "cell_type": "code",
   "execution_count": 54,
   "id": "3e998695",
   "metadata": {},
   "outputs": [
    {
     "data": {
      "text/html": [
       "<div>\n",
       "<style scoped>\n",
       "    .dataframe tbody tr th:only-of-type {\n",
       "        vertical-align: middle;\n",
       "    }\n",
       "\n",
       "    .dataframe tbody tr th {\n",
       "        vertical-align: top;\n",
       "    }\n",
       "\n",
       "    .dataframe thead th {\n",
       "        text-align: right;\n",
       "    }\n",
       "</style>\n",
       "<table border=\"1\" class=\"dataframe\">\n",
       "  <thead>\n",
       "    <tr style=\"text-align: right;\">\n",
       "      <th></th>\n",
       "      <th>name</th>\n",
       "      <th>city</th>\n",
       "      <th>state_code</th>\n",
       "      <th>country_code</th>\n",
       "      <th>latitude</th>\n",
       "      <th>longitude</th>\n",
       "    </tr>\n",
       "  </thead>\n",
       "  <tbody>\n",
       "    <tr>\n",
       "      <th>0</th>\n",
       "      <td>Joost</td>\n",
       "      <td>New York</td>\n",
       "      <td>NY</td>\n",
       "      <td>USA</td>\n",
       "      <td>40.746497</td>\n",
       "      <td>-74.009447</td>\n",
       "    </tr>\n",
       "    <tr>\n",
       "      <th>1</th>\n",
       "      <td>Babelgum</td>\n",
       "      <td>London</td>\n",
       "      <td>None</td>\n",
       "      <td>GBR</td>\n",
       "      <td>53.344104</td>\n",
       "      <td>-6.267494</td>\n",
       "    </tr>\n",
       "    <tr>\n",
       "      <th>2</th>\n",
       "      <td>Veoh</td>\n",
       "      <td>San Diego</td>\n",
       "      <td>CA</td>\n",
       "      <td>USA</td>\n",
       "      <td>32.902266</td>\n",
       "      <td>-117.208340</td>\n",
       "    </tr>\n",
       "    <tr>\n",
       "      <th>3</th>\n",
       "      <td>YouTube</td>\n",
       "      <td>San Bruno</td>\n",
       "      <td>CA</td>\n",
       "      <td>USA</td>\n",
       "      <td>37.627971</td>\n",
       "      <td>-122.426804</td>\n",
       "    </tr>\n",
       "    <tr>\n",
       "      <th>4</th>\n",
       "      <td>Pando Networks</td>\n",
       "      <td>New York</td>\n",
       "      <td>NY</td>\n",
       "      <td>USA</td>\n",
       "      <td>40.722655</td>\n",
       "      <td>-73.998730</td>\n",
       "    </tr>\n",
       "  </tbody>\n",
       "</table>\n",
       "</div>"
      ],
      "text/plain": [
       "             name       city state_code country_code   latitude   longitude\n",
       "0           Joost   New York         NY          USA  40.746497  -74.009447\n",
       "1        Babelgum     London       None          GBR  53.344104   -6.267494\n",
       "2            Veoh  San Diego         CA          USA  32.902266 -117.208340\n",
       "3         YouTube  San Bruno         CA          USA  37.627971 -122.426804\n",
       "4  Pando Networks   New York         NY          USA  40.722655  -73.998730"
      ]
     },
     "execution_count": 54,
     "metadata": {},
     "output_type": "execute_result"
    }
   ],
   "source": [
    "# Dropping the columns I will not use: I am interested in the gaming hub location.\n",
    "\n",
    "gaming_df = gaming_df.drop(columns = ['tag_list', 'offices', 'total_money_raised'])\n",
    "gaming_df.head()"
   ]
  },
  {
   "cell_type": "code",
   "execution_count": 55,
   "id": "496db11f",
   "metadata": {},
   "outputs": [
    {
     "data": {
      "text/plain": [
       "country_code\n",
       "USA    341\n",
       "GBR     23\n",
       "DEU     18\n",
       "dtype: int64"
      ]
     },
     "execution_count": 55,
     "metadata": {},
     "output_type": "execute_result"
    }
   ],
   "source": [
    "# Top 3 countries with more companies\n",
    "gaming_df.groupby('country_code').size().sort_values(ascending=False).head(3)"
   ]
  },
  {
   "cell_type": "code",
   "execution_count": 56,
   "id": "8dba1d94",
   "metadata": {},
   "outputs": [
    {
     "data": {
      "text/plain": [
       "state_code\n",
       "CA    161\n",
       "MA     28\n",
       "NY     25\n",
       "dtype: int64"
      ]
     },
     "execution_count": 56,
     "metadata": {},
     "output_type": "execute_result"
    }
   ],
   "source": [
    "# Top 3 states with more companies\n",
    "gaming_df.groupby('state_code').size().sort_values(ascending=False).head(3)"
   ]
  },
  {
   "cell_type": "code",
   "execution_count": 57,
   "id": "dc9303b7",
   "metadata": {},
   "outputs": [
    {
     "data": {
      "text/plain": [
       "city\n",
       "San Francisco          41\n",
       "                       21\n",
       "New York               21\n",
       "Cambridge              11\n",
       "South San Francisco     9\n",
       "London                  8\n",
       "dtype: int64"
      ]
     },
     "execution_count": 57,
     "metadata": {},
     "output_type": "execute_result"
    }
   ],
   "source": [
    "# Top 3 cities with more companies\n",
    "gaming_df.groupby('city').size().sort_values(ascending=False).head(6)"
   ]
  },
  {
   "cell_type": "code",
   "execution_count": 58,
   "id": "643edc52",
   "metadata": {},
   "outputs": [],
   "source": [
    "# cities_with_space = gaming_df[gaming_df['city'] == \"\"]\n",
    "# cities_with_space\n",
    "\n",
    "# only 8 out of the 21 cities with spaces have data of latitude/longitude.\n",
    "# of those 8, 3 are in CA (USA), 2 in other states of USA, 1 in SWE, 1 in NLD and 1 in DEU\n",
    "# they would not affect the ranking"
   ]
  },
  {
   "cell_type": "markdown",
   "id": "795181b8",
   "metadata": {},
   "source": [
    "**Next steps:**\n",
    "1. San Francisco seems like the best gaming/tech/design industry hub.  \n",
    "2. New York and Cambridge or London could also be good options.\n",
    "    - Cambridge is much smaller than London: good for density of companies, bad for my emplpoyee's interests\n",
    "3. Now I will have to see if these cities have all the requirements."
   ]
  },
  {
   "cell_type": "markdown",
   "id": "7ea059d6",
   "metadata": {},
   "source": [
    "# Building maps for each city\n",
    "This is to see whether these companies agglomerate in one region of the city"
   ]
  },
  {
   "cell_type": "code",
   "execution_count": 59,
   "id": "ee2d2f50",
   "metadata": {},
   "outputs": [
    {
     "data": {
      "text/plain": [
       "(38, 6)"
      ]
     },
     "execution_count": 59,
     "metadata": {},
     "output_type": "execute_result"
    }
   ],
   "source": [
    "# subset of the dataframe: San Francisco\n",
    "sanfrancisco = gaming_df[(gaming_df['city'] == \"San Francisco\") | (gaming_df['city'] == \"South San Francisco\")]\n",
    "sanfrancisco = sanfrancisco[sanfrancisco['latitude'].notna()]\n",
    "sanfrancisco.shape"
   ]
  },
  {
   "cell_type": "code",
   "execution_count": 60,
   "id": "aa19c4c0",
   "metadata": {},
   "outputs": [
    {
     "data": {
      "text/plain": [
       "(15, 6)"
      ]
     },
     "execution_count": 60,
     "metadata": {},
     "output_type": "execute_result"
    }
   ],
   "source": [
    "# subset of the dataframe: New York\n",
    "newyork = gaming_df[(gaming_df['city'] == \"New York\")]\n",
    "newyork = newyork[newyork['latitude'].notna()]\n",
    "newyork.shape"
   ]
  },
  {
   "cell_type": "code",
   "execution_count": 61,
   "id": "5c2c519c",
   "metadata": {},
   "outputs": [
    {
     "data": {
      "text/plain": [
       "(5, 6)"
      ]
     },
     "execution_count": 61,
     "metadata": {},
     "output_type": "execute_result"
    }
   ],
   "source": [
    "# subset of the dataframe: Cambridge\n",
    "cambridge = gaming_df[(gaming_df['city'] == \"Cambridge\")]\n",
    "cambridge = cambridge[cambridge['latitude'].notna()]\n",
    "cambridge.shape"
   ]
  },
  {
   "cell_type": "code",
   "execution_count": 62,
   "id": "ed48b44e",
   "metadata": {},
   "outputs": [
    {
     "data": {
      "text/plain": [
       "(5, 6)"
      ]
     },
     "execution_count": 62,
     "metadata": {},
     "output_type": "execute_result"
    }
   ],
   "source": [
    "# subset of the dataframe: London\n",
    "london = gaming_df[(gaming_df['city'] == \"London\")]\n",
    "london = london[london['latitude'].notna()]\n",
    "london.shape"
   ]
  },
  {
   "cell_type": "code",
   "execution_count": null,
   "id": "1a51aaf8",
   "metadata": {},
   "outputs": [],
   "source": []
  },
  {
   "cell_type": "code",
   "execution_count": null,
   "id": "4392a65a",
   "metadata": {},
   "outputs": [],
   "source": []
  },
  {
   "cell_type": "code",
   "execution_count": null,
   "id": "5966bd8a",
   "metadata": {},
   "outputs": [],
   "source": []
  }
 ],
 "metadata": {
  "kernelspec": {
   "display_name": "Python 3 (ipykernel)",
   "language": "python",
   "name": "python3"
  },
  "language_info": {
   "codemirror_mode": {
    "name": "ipython",
    "version": 3
   },
   "file_extension": ".py",
   "mimetype": "text/x-python",
   "name": "python",
   "nbconvert_exporter": "python",
   "pygments_lexer": "ipython3",
   "version": "3.9.13"
  },
  "toc": {
   "base_numbering": 1,
   "nav_menu": {},
   "number_sections": true,
   "sideBar": true,
   "skip_h1_title": false,
   "title_cell": "Table of Contents",
   "title_sidebar": "Contents",
   "toc_cell": false,
   "toc_position": {},
   "toc_section_display": true,
   "toc_window_display": false
  }
 },
 "nbformat": 4,
 "nbformat_minor": 5
}
