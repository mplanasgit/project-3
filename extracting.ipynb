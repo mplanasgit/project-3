{
 "cells": [
  {
   "cell_type": "markdown",
   "id": "c6cf96ce",
   "metadata": {},
   "source": [
    "# Notebook for: Database filtering and extraction"
   ]
  },
  {
   "cell_type": "markdown",
   "id": "8f321049",
   "metadata": {},
   "source": [
    "Find the best place to locate a gaming company.\n",
    "\n",
    "**Scheme of the company:**\n",
    "\n",
    "- 20 Designers\n",
    "- 5 UI/UX Engineers\n",
    "- 10 Frontend Developers\n",
    "- 15 Data Engineers\n",
    "- 5 Backend Developers\n",
    "- 20 Account Managers\n",
    "- 1 Maintenance guy that loves basketball\n",
    "- 10 Executives\n",
    "- 1 CEO/President.\n",
    "\n",
    "\n",
    "**Requirements:**  \n",
    "\n",
    "- Designers like to go to design talks and share knowledge. There must be some nearby companies that also do design.\n",
    "- 30% of the company staff have at least 1 child.\n",
    "- Developers like to be near successful tech startups that have raised at least 1 Million dollars.\n",
    "- Executives like Starbucks A LOT. Ensure there's a starbucks not too far.\n",
    "- Account managers need to travel a lot.\n",
    "- Everyone in the company is between 25 and 40, give them some place to go party.\n",
    "- The CEO is vegan.\n",
    "- If you want to make the maintenance guy happy, a basketball stadium must be around 10 Km.\n",
    "- The office dog—\"Dobby\" needs a hairdresser every month. Ensure there's one not too far away."
   ]
  },
  {
   "cell_type": "markdown",
   "id": "b83f40ca",
   "metadata": {},
   "source": [
    "# Libraries"
   ]
  },
  {
   "cell_type": "code",
   "execution_count": 1,
   "id": "925b2eb4",
   "metadata": {},
   "outputs": [],
   "source": [
    "from pymongo import MongoClient\n",
    "import pandas as pd\n",
    "import time\n",
    "import re\n",
    "import io\n",
    "import folium\n",
    "from folium import Choropleth, Circle, Marker, Icon, Map"
   ]
  },
  {
   "cell_type": "markdown",
   "id": "9cf73523",
   "metadata": {},
   "source": [
    "# Extracting companies from the database"
   ]
  },
  {
   "cell_type": "markdown",
   "id": "452fda4c",
   "metadata": {},
   "source": [
    "**Establishing connection to the database**"
   ]
  },
  {
   "cell_type": "code",
   "execution_count": 2,
   "id": "cd9ff23d",
   "metadata": {},
   "outputs": [
    {
     "data": {
      "text/plain": [
       "Collection(Database(MongoClient(host=['localhost:27017'], document_class=dict, tz_aware=False, connect=True), 'ironhack'), 'crunchbase')"
      ]
     },
     "execution_count": 2,
     "metadata": {},
     "output_type": "execute_result"
    }
   ],
   "source": [
    "client = MongoClient(\"localhost:27017\")\n",
    "db = client[\"ironhack\"]\n",
    "c = db.get_collection(\"crunchbase\")\n",
    "c"
   ]
  },
  {
   "cell_type": "code",
   "execution_count": 3,
   "id": "4bf7c849",
   "metadata": {},
   "outputs": [],
   "source": [
    "# Getting all the companies:\n",
    "result = list(c.find())"
   ]
  },
  {
   "cell_type": "markdown",
   "id": "9fe1b50f",
   "metadata": {},
   "source": [
    "**Exploring the *tags* and *categories***"
   ]
  },
  {
   "cell_type": "code",
   "execution_count": 4,
   "id": "6528d784",
   "metadata": {},
   "outputs": [],
   "source": [
    "# Looking at the distinct tags in the database:\n",
    "\n",
    "tags = []\n",
    "for i in range(len(result)):\n",
    "    tags.append(result[i]['tag_list'])\n",
    "tags = set(tags)\n",
    "# print(tags)"
   ]
  },
  {
   "cell_type": "code",
   "execution_count": 5,
   "id": "527a709f",
   "metadata": {},
   "outputs": [],
   "source": [
    "# Looking at the distinct categories in the database:\n",
    "\n",
    "categories = []\n",
    "for i in range(len(result)):\n",
    "    categories.append(result[i]['category_code'])\n",
    "categories = set(categories)\n",
    "# print(categories)"
   ]
  },
  {
   "cell_type": "markdown",
   "id": "587bfd34",
   "metadata": {},
   "source": [
    "**Things to consider when filtering:**\n",
    "\n",
    "- I want my company to be in a city with a **gaming industry hub**. Thus, I will select for those with **tags** related to video-games.\n",
    "- Videogame companies collaborate and outsource other software-related and design companies, so I might want to have them near my company aswell. Some **categories** are interesting: 'games_video', 'software' and 'design'. \n",
    "- I want the hub to be composed of **successful** companies, so the total amount of money they raised should be >1M ($/€).\n",
    "- I could filter the database by these tags and categories and then group the companies by country/city to identify a potential hub."
   ]
  },
  {
   "cell_type": "markdown",
   "id": "6c8e3207",
   "metadata": {},
   "source": [
    "**Only gaming companies: 285**"
   ]
  },
  {
   "cell_type": "code",
   "execution_count": 6,
   "id": "728370db",
   "metadata": {},
   "outputs": [
    {
     "data": {
      "text/plain": [
       "285"
      ]
     },
     "execution_count": 6,
     "metadata": {},
     "output_type": "execute_result"
    }
   ],
   "source": [
    "# Necessary filters: Companies whose 'offices' field is not empty and who have raised more than 1M $/€\n",
    "office_filter = {'offices' : {\"$ne\" : []}}\n",
    "money_filter = {'total_money_raised' : {\"$regex\" : \".*\\d+[MB]\"}}\n",
    "necessary = {\"$and\" : [office_filter, money_filter]}\n",
    "\n",
    "# If I only consider gaming companies:\n",
    "tag_filter = {'tag_list' : {\"$regex\": \".*gaming.*|.*game.*\"}}\n",
    "overview_filter = {'overview' : {\"$regex\": \".*gaming.*|.*game.*\"}}\n",
    "\n",
    "projection = {\"_id\":0, \"name\":1, 'total_money_raised':1, 'offices':1, 'tag_list':1}\n",
    "\n",
    "companies = list(c.find({\"$or\": [\n",
    "                                    {\"$and\": [necessary, tag_filter]},\n",
    "                                    {\"$and\": [necessary, overview_filter]}\n",
    "                                        ]}, projection))\n",
    "\n",
    "len(companies)"
   ]
  },
  {
   "cell_type": "markdown",
   "id": "9a9e3191",
   "metadata": {},
   "source": [
    "**Gaming / design / tech companies: 430**"
   ]
  },
  {
   "cell_type": "markdown",
   "id": "ab217043",
   "metadata": {},
   "source": [
    "Designers and developers account for the 41% of the company. Thus it makes sense that I satisfy their requirements by identifying a gaming-design-tech hub. "
   ]
  },
  {
   "cell_type": "code",
   "execution_count": 7,
   "id": "1a201570",
   "metadata": {},
   "outputs": [
    {
     "data": {
      "text/plain": [
       "430"
      ]
     },
     "execution_count": 7,
     "metadata": {},
     "output_type": "execute_result"
    }
   ],
   "source": [
    "# Necessary filters: Companies whose 'offices' field is not empty and who have raised more than 1M $/€\n",
    "office_filter = {'offices' : {\"$ne\" : []}}\n",
    "money_filter = {'total_money_raised' : {\"$regex\" : \".*\\d+[MB]\"}}\n",
    "necessary = {\"$and\" : [office_filter, money_filter]}\n",
    "\n",
    "# I need a city with a gaming hub, but that also has design and tech companies nearby for my employees:\n",
    "my_regex = \".*gaming.*|.*game.*|.*design.*|.*tech.*\"\n",
    "tag_filter = {'tag_list' : {\"$regex\": my_regex}}\n",
    "overview_filter = {'overview' : {\"$regex\": my_regex}}\n",
    "category_filter = {'category_code': {\"$regex\": my_regex}}\n",
    "\n",
    "projection = {\"_id\":0, \"name\":1, 'total_money_raised':1, 'offices':1, 'tag_list':1}\n",
    "\n",
    "companies = list(c.find({\"$or\": [\n",
    "                                    {\"$and\": [necessary, tag_filter, category_filter]},\n",
    "                                    {\"$and\": [necessary, overview_filter, category_filter]}\n",
    "                                        ]}, projection))\n",
    "\n",
    "len(companies)"
   ]
  },
  {
   "cell_type": "code",
   "execution_count": 8,
   "id": "484b0951",
   "metadata": {},
   "outputs": [
    {
     "data": {
      "text/html": [
       "<div>\n",
       "<style scoped>\n",
       "    .dataframe tbody tr th:only-of-type {\n",
       "        vertical-align: middle;\n",
       "    }\n",
       "\n",
       "    .dataframe tbody tr th {\n",
       "        vertical-align: top;\n",
       "    }\n",
       "\n",
       "    .dataframe thead th {\n",
       "        text-align: right;\n",
       "    }\n",
       "</style>\n",
       "<table border=\"1\" class=\"dataframe\">\n",
       "  <thead>\n",
       "    <tr style=\"text-align: right;\">\n",
       "      <th></th>\n",
       "      <th>name</th>\n",
       "      <th>tag_list</th>\n",
       "      <th>total_money_raised</th>\n",
       "      <th>offices</th>\n",
       "    </tr>\n",
       "  </thead>\n",
       "  <tbody>\n",
       "    <tr>\n",
       "      <th>0</th>\n",
       "      <td>Joost</td>\n",
       "      <td>iptv, babelgum, television, video, thevenicepr...</td>\n",
       "      <td>$45M</td>\n",
       "      <td>[{'description': '', 'address1': '100 5th Ave ...</td>\n",
       "    </tr>\n",
       "    <tr>\n",
       "      <th>1</th>\n",
       "      <td>Babelgum</td>\n",
       "      <td>iptv, web2ireland</td>\n",
       "      <td>$13.2M</td>\n",
       "      <td>[{'description': '', 'address1': '', 'address2...</td>\n",
       "    </tr>\n",
       "    <tr>\n",
       "      <th>2</th>\n",
       "      <td>Veoh</td>\n",
       "      <td>veoh, video, veohtv, socialvideo, videosharing...</td>\n",
       "      <td>$69.8M</td>\n",
       "      <td>[{'description': '', 'address1': '10180 Telesi...</td>\n",
       "    </tr>\n",
       "    <tr>\n",
       "      <th>3</th>\n",
       "      <td>YouTube</td>\n",
       "      <td>channels, movies, rentals, share, usergenerate...</td>\n",
       "      <td>$11.5M</td>\n",
       "      <td>[{'description': 'Corporate Headquarters', 'ad...</td>\n",
       "    </tr>\n",
       "    <tr>\n",
       "      <th>4</th>\n",
       "      <td>Pando Networks</td>\n",
       "      <td>p2p, video, streaming, download, cdn</td>\n",
       "      <td>$11M</td>\n",
       "      <td>[{'description': None, 'address1': '520 Broadw...</td>\n",
       "    </tr>\n",
       "  </tbody>\n",
       "</table>\n",
       "</div>"
      ],
      "text/plain": [
       "             name                                           tag_list  \\\n",
       "0           Joost  iptv, babelgum, television, video, thevenicepr...   \n",
       "1        Babelgum                                  iptv, web2ireland   \n",
       "2            Veoh  veoh, video, veohtv, socialvideo, videosharing...   \n",
       "3         YouTube  channels, movies, rentals, share, usergenerate...   \n",
       "4  Pando Networks               p2p, video, streaming, download, cdn   \n",
       "\n",
       "  total_money_raised                                            offices  \n",
       "0               $45M  [{'description': '', 'address1': '100 5th Ave ...  \n",
       "1             $13.2M  [{'description': '', 'address1': '', 'address2...  \n",
       "2             $69.8M  [{'description': '', 'address1': '10180 Telesi...  \n",
       "3             $11.5M  [{'description': 'Corporate Headquarters', 'ad...  \n",
       "4               $11M  [{'description': None, 'address1': '520 Broadw...  "
      ]
     },
     "execution_count": 8,
     "metadata": {},
     "output_type": "execute_result"
    }
   ],
   "source": [
    "companies_df = pd.DataFrame(companies)\n",
    "companies_df.head()"
   ]
  },
  {
   "cell_type": "markdown",
   "id": "a8a04faa",
   "metadata": {},
   "source": [
    "**Checking enrichment / filtering**"
   ]
  },
  {
   "cell_type": "code",
   "execution_count": 9,
   "id": "fd5b9267",
   "metadata": {},
   "outputs": [],
   "source": [
    "# When I print the tags again I see an enrichment of gaming-related tags.\n",
    "\n",
    "tags = []\n",
    "for i in range(len(companies)):\n",
    "    tags.append(companies[i]['tag_list'])\n",
    "tags = set(tags)\n",
    "# print(tags)"
   ]
  },
  {
   "cell_type": "code",
   "execution_count": 10,
   "id": "dfda1474",
   "metadata": {},
   "outputs": [],
   "source": [
    "# I selected companies with milions of $ or € raised.\n",
    "\n",
    "money = []\n",
    "for i in range(len(companies)):\n",
    "    money.append(companies[i]['total_money_raised'])\n",
    "money = set(money)\n",
    "# print(money)"
   ]
  },
  {
   "cell_type": "markdown",
   "id": "81ce33e4",
   "metadata": {},
   "source": [
    "**Extracting the city, state and country for each company**"
   ]
  },
  {
   "cell_type": "code",
   "execution_count": 11,
   "id": "44efe54f",
   "metadata": {},
   "outputs": [],
   "source": [
    "# I would like to get all offices and that they are added as new rows, \n",
    "# since I want to count how many gaming industry offices are there per city/country.\n",
    "\n",
    "companies_df = companies_df.explode('offices')\n",
    "companies_df = companies_df.reset_index()\n",
    "companies_df = companies_df.drop(columns = 'index', axis = 1)"
   ]
  },
  {
   "cell_type": "code",
   "execution_count": 12,
   "id": "8c8825bb",
   "metadata": {},
   "outputs": [
    {
     "data": {
      "text/html": [
       "<div>\n",
       "<style scoped>\n",
       "    .dataframe tbody tr th:only-of-type {\n",
       "        vertical-align: middle;\n",
       "    }\n",
       "\n",
       "    .dataframe tbody tr th {\n",
       "        vertical-align: top;\n",
       "    }\n",
       "\n",
       "    .dataframe thead th {\n",
       "        text-align: right;\n",
       "    }\n",
       "</style>\n",
       "<table border=\"1\" class=\"dataframe\">\n",
       "  <thead>\n",
       "    <tr style=\"text-align: right;\">\n",
       "      <th></th>\n",
       "      <th>name</th>\n",
       "      <th>tag_list</th>\n",
       "      <th>total_money_raised</th>\n",
       "      <th>offices</th>\n",
       "      <th>city</th>\n",
       "      <th>state_code</th>\n",
       "      <th>country_code</th>\n",
       "      <th>latitude</th>\n",
       "      <th>longitude</th>\n",
       "    </tr>\n",
       "  </thead>\n",
       "  <tbody>\n",
       "    <tr>\n",
       "      <th>0</th>\n",
       "      <td>Joost</td>\n",
       "      <td>iptv, babelgum, television, video, thevenicepr...</td>\n",
       "      <td>$45M</td>\n",
       "      <td>{'description': '', 'address1': '100 5th Ave F...</td>\n",
       "      <td>New York</td>\n",
       "      <td>NY</td>\n",
       "      <td>USA</td>\n",
       "      <td>40.746497</td>\n",
       "      <td>-74.009447</td>\n",
       "    </tr>\n",
       "    <tr>\n",
       "      <th>1</th>\n",
       "      <td>Babelgum</td>\n",
       "      <td>iptv, web2ireland</td>\n",
       "      <td>$13.2M</td>\n",
       "      <td>{'description': '', 'address1': '', 'address2'...</td>\n",
       "      <td>London</td>\n",
       "      <td>None</td>\n",
       "      <td>GBR</td>\n",
       "      <td>53.344104</td>\n",
       "      <td>-6.267494</td>\n",
       "    </tr>\n",
       "    <tr>\n",
       "      <th>2</th>\n",
       "      <td>Veoh</td>\n",
       "      <td>veoh, video, veohtv, socialvideo, videosharing...</td>\n",
       "      <td>$69.8M</td>\n",
       "      <td>{'description': '', 'address1': '10180 Telesis...</td>\n",
       "      <td>San Diego</td>\n",
       "      <td>CA</td>\n",
       "      <td>USA</td>\n",
       "      <td>32.902266</td>\n",
       "      <td>-117.208340</td>\n",
       "    </tr>\n",
       "    <tr>\n",
       "      <th>3</th>\n",
       "      <td>YouTube</td>\n",
       "      <td>channels, movies, rentals, share, usergenerate...</td>\n",
       "      <td>$11.5M</td>\n",
       "      <td>{'description': 'Corporate Headquarters', 'add...</td>\n",
       "      <td>San Bruno</td>\n",
       "      <td>CA</td>\n",
       "      <td>USA</td>\n",
       "      <td>37.627971</td>\n",
       "      <td>-122.426804</td>\n",
       "    </tr>\n",
       "    <tr>\n",
       "      <th>4</th>\n",
       "      <td>Pando Networks</td>\n",
       "      <td>p2p, video, streaming, download, cdn</td>\n",
       "      <td>$11M</td>\n",
       "      <td>{'description': None, 'address1': '520 Broadwa...</td>\n",
       "      <td>New York</td>\n",
       "      <td>NY</td>\n",
       "      <td>USA</td>\n",
       "      <td>40.722655</td>\n",
       "      <td>-73.998730</td>\n",
       "    </tr>\n",
       "  </tbody>\n",
       "</table>\n",
       "</div>"
      ],
      "text/plain": [
       "             name                                           tag_list  \\\n",
       "0           Joost  iptv, babelgum, television, video, thevenicepr...   \n",
       "1        Babelgum                                  iptv, web2ireland   \n",
       "2            Veoh  veoh, video, veohtv, socialvideo, videosharing...   \n",
       "3         YouTube  channels, movies, rentals, share, usergenerate...   \n",
       "4  Pando Networks               p2p, video, streaming, download, cdn   \n",
       "\n",
       "  total_money_raised                                            offices  \\\n",
       "0               $45M  {'description': '', 'address1': '100 5th Ave F...   \n",
       "1             $13.2M  {'description': '', 'address1': '', 'address2'...   \n",
       "2             $69.8M  {'description': '', 'address1': '10180 Telesis...   \n",
       "3             $11.5M  {'description': 'Corporate Headquarters', 'add...   \n",
       "4               $11M  {'description': None, 'address1': '520 Broadwa...   \n",
       "\n",
       "        city state_code country_code   latitude   longitude  \n",
       "0   New York         NY          USA  40.746497  -74.009447  \n",
       "1     London       None          GBR  53.344104   -6.267494  \n",
       "2  San Diego         CA          USA  32.902266 -117.208340  \n",
       "3  San Bruno         CA          USA  37.627971 -122.426804  \n",
       "4   New York         NY          USA  40.722655  -73.998730  "
      ]
     },
     "execution_count": 12,
     "metadata": {},
     "output_type": "execute_result"
    }
   ],
   "source": [
    "# Appending to empty lists to add as new columns:\n",
    "\n",
    "city = []\n",
    "state_code = []\n",
    "country_code = []\n",
    "latitude = []\n",
    "longitude = []\n",
    "\n",
    "for index, row in companies_df.iterrows():\n",
    "    try:\n",
    "        city.append(row['offices']['city'])\n",
    "        state_code.append(row['offices']['state_code'])\n",
    "        country_code.append(row['offices']['country_code'])\n",
    "        latitude.append(row['offices']['latitude'])\n",
    "        longitude.append(row['offices']['longitude'])\n",
    "    except IndexError:\n",
    "        city.append(None)\n",
    "        state_code.append(None)\n",
    "        country_code.append(None)\n",
    "        latitude.append(None)\n",
    "        longitude.append(None)\n",
    "    \n",
    "companies_df['city'] = city\n",
    "companies_df['state_code'] = state_code\n",
    "companies_df['country_code'] = country_code\n",
    "companies_df['latitude'] = latitude\n",
    "companies_df['longitude'] = longitude\n",
    "\n",
    "companies_df.head()"
   ]
  },
  {
   "cell_type": "markdown",
   "id": "b7fac12d",
   "metadata": {},
   "source": [
    "**Cleaning and exploring**"
   ]
  },
  {
   "cell_type": "code",
   "execution_count": 13,
   "id": "3e998695",
   "metadata": {},
   "outputs": [
    {
     "data": {
      "text/html": [
       "<div>\n",
       "<style scoped>\n",
       "    .dataframe tbody tr th:only-of-type {\n",
       "        vertical-align: middle;\n",
       "    }\n",
       "\n",
       "    .dataframe tbody tr th {\n",
       "        vertical-align: top;\n",
       "    }\n",
       "\n",
       "    .dataframe thead th {\n",
       "        text-align: right;\n",
       "    }\n",
       "</style>\n",
       "<table border=\"1\" class=\"dataframe\">\n",
       "  <thead>\n",
       "    <tr style=\"text-align: right;\">\n",
       "      <th></th>\n",
       "      <th>name</th>\n",
       "      <th>city</th>\n",
       "      <th>state_code</th>\n",
       "      <th>country_code</th>\n",
       "      <th>latitude</th>\n",
       "      <th>longitude</th>\n",
       "    </tr>\n",
       "  </thead>\n",
       "  <tbody>\n",
       "    <tr>\n",
       "      <th>0</th>\n",
       "      <td>Joost</td>\n",
       "      <td>New York</td>\n",
       "      <td>NY</td>\n",
       "      <td>USA</td>\n",
       "      <td>40.746497</td>\n",
       "      <td>-74.009447</td>\n",
       "    </tr>\n",
       "    <tr>\n",
       "      <th>1</th>\n",
       "      <td>Babelgum</td>\n",
       "      <td>London</td>\n",
       "      <td>None</td>\n",
       "      <td>GBR</td>\n",
       "      <td>53.344104</td>\n",
       "      <td>-6.267494</td>\n",
       "    </tr>\n",
       "    <tr>\n",
       "      <th>2</th>\n",
       "      <td>Veoh</td>\n",
       "      <td>San Diego</td>\n",
       "      <td>CA</td>\n",
       "      <td>USA</td>\n",
       "      <td>32.902266</td>\n",
       "      <td>-117.208340</td>\n",
       "    </tr>\n",
       "    <tr>\n",
       "      <th>3</th>\n",
       "      <td>YouTube</td>\n",
       "      <td>San Bruno</td>\n",
       "      <td>CA</td>\n",
       "      <td>USA</td>\n",
       "      <td>37.627971</td>\n",
       "      <td>-122.426804</td>\n",
       "    </tr>\n",
       "    <tr>\n",
       "      <th>4</th>\n",
       "      <td>Pando Networks</td>\n",
       "      <td>New York</td>\n",
       "      <td>NY</td>\n",
       "      <td>USA</td>\n",
       "      <td>40.722655</td>\n",
       "      <td>-73.998730</td>\n",
       "    </tr>\n",
       "  </tbody>\n",
       "</table>\n",
       "</div>"
      ],
      "text/plain": [
       "             name       city state_code country_code   latitude   longitude\n",
       "0           Joost   New York         NY          USA  40.746497  -74.009447\n",
       "1        Babelgum     London       None          GBR  53.344104   -6.267494\n",
       "2            Veoh  San Diego         CA          USA  32.902266 -117.208340\n",
       "3         YouTube  San Bruno         CA          USA  37.627971 -122.426804\n",
       "4  Pando Networks   New York         NY          USA  40.722655  -73.998730"
      ]
     },
     "execution_count": 13,
     "metadata": {},
     "output_type": "execute_result"
    }
   ],
   "source": [
    "# Dropping the columns I will not use: I am interested in the gaming hub location.\n",
    "\n",
    "companies_df = companies_df.drop(columns = ['tag_list', 'offices', 'total_money_raised'])\n",
    "companies_df.head()"
   ]
  },
  {
   "cell_type": "code",
   "execution_count": 14,
   "id": "496db11f",
   "metadata": {},
   "outputs": [
    {
     "data": {
      "text/plain": [
       "country_code\n",
       "USA    341\n",
       "GBR     23\n",
       "DEU     18\n",
       "dtype: int64"
      ]
     },
     "execution_count": 14,
     "metadata": {},
     "output_type": "execute_result"
    }
   ],
   "source": [
    "# Top 3 countries with more companies\n",
    "companies_df.groupby('country_code').size().sort_values(ascending=False).head(3)"
   ]
  },
  {
   "cell_type": "code",
   "execution_count": 15,
   "id": "8dba1d94",
   "metadata": {},
   "outputs": [
    {
     "data": {
      "text/plain": [
       "state_code\n",
       "CA    161\n",
       "MA     28\n",
       "NY     25\n",
       "dtype: int64"
      ]
     },
     "execution_count": 15,
     "metadata": {},
     "output_type": "execute_result"
    }
   ],
   "source": [
    "# Top 3 states with more companies\n",
    "companies_df.groupby('state_code').size().sort_values(ascending=False).head(3)"
   ]
  },
  {
   "cell_type": "code",
   "execution_count": 16,
   "id": "dc9303b7",
   "metadata": {},
   "outputs": [
    {
     "data": {
      "text/plain": [
       "city\n",
       "San Francisco          41\n",
       "                       21\n",
       "New York               21\n",
       "Cambridge              11\n",
       "South San Francisco     9\n",
       "London                  8\n",
       "dtype: int64"
      ]
     },
     "execution_count": 16,
     "metadata": {},
     "output_type": "execute_result"
    }
   ],
   "source": [
    "# Top 3 cities with more companies\n",
    "companies_df.groupby('city').size().sort_values(ascending=False).head(6)"
   ]
  },
  {
   "cell_type": "code",
   "execution_count": 17,
   "id": "584c1027",
   "metadata": {},
   "outputs": [
    {
     "data": {
      "text/plain": [
       "city                 country_code\n",
       "San Francisco        USA             41\n",
       "New York             USA             21\n",
       "South San Francisco  USA              9\n",
       "Cambridge            USA              8\n",
       "Austin               USA              8\n",
       "Seattle              USA              8\n",
       "Los Angeles          USA              7\n",
       "Shanghai             CHN              7\n",
       "Fremont              USA              7\n",
       "London               GBR              7\n",
       "dtype: int64"
      ]
     },
     "execution_count": 17,
     "metadata": {},
     "output_type": "execute_result"
    }
   ],
   "source": [
    "companies_df.groupby(['city','country_code']).size().sort_values(ascending=False).head(10)"
   ]
  },
  {
   "cell_type": "code",
   "execution_count": 18,
   "id": "31a101cd",
   "metadata": {},
   "outputs": [],
   "source": [
    "# cities_with_space = gaming_df[gaming_df['city'] == \"\"]\n",
    "# cities_with_space\n",
    "\n",
    "# only 8 out of the 21 cities with spaces have data of latitude/longitude.\n",
    "# of those 8, 3 are in CA (USA), 2 in other states of USA, 1 in SWE, 1 in NLD and 1 in DEU\n",
    "# they would not affect the ranking"
   ]
  },
  {
   "cell_type": "markdown",
   "id": "7f288589",
   "metadata": {},
   "source": [
    "**Exporting**"
   ]
  },
  {
   "cell_type": "code",
   "execution_count": 19,
   "id": "de8d46dd",
   "metadata": {},
   "outputs": [],
   "source": [
    "companies_df.to_csv('./data/companies.csv', index = False)"
   ]
  },
  {
   "cell_type": "markdown",
   "id": "b6aa3e01",
   "metadata": {},
   "source": [
    "**Comparison of hubs: gaming vs gaming-design-tech**\n",
    "\n",
    "If I consider the **gaming hub only**, then the top cities are:\n",
    "1. San Francisco: 53\n",
    "2. New York: 21\n",
    "3. London (GBR): 13\n",
    "4. Los Angeles: 10\n",
    "5. Beijing: 8\n",
    "\n",
    "On the other hand, if I consider a **gaming-design-tech hub**, then the top cities are:\n",
    "1. San Francisco: 41\n",
    "2. New York: 21\n",
    "3. South San Francisco: 9\n",
    "3. Cambridge (USA): 8\n",
    "5. London (GBR): 7"
   ]
  },
  {
   "cell_type": "markdown",
   "id": "795181b8",
   "metadata": {},
   "source": [
    "**Next steps**\n",
    "- **San Francisco** and **New York** seem like the best cities **in general**.\n",
    "- **London (GBR)** and **Cambridge (USA)** could also be good options. Between the two I would choose **London**, since there are more gaming companies.\n",
    "- I compared the maps filtering for gaming companies only **(gaming hub)** and filtering for **gaming-design-tech**, and they tend to accumulate in same places irrespectively of the of the kind of hub. Therefore, it doesn't make much of a difference.\n",
    "- Now I will have to see if these cities have all the requirements."
   ]
  },
  {
   "cell_type": "markdown",
   "id": "198571a7",
   "metadata": {},
   "source": [
    "# Building maps for each city\n",
    "To see whether these companies agglomerate in one region of the city, where I would locate my company."
   ]
  },
  {
   "cell_type": "markdown",
   "id": "ed58d499",
   "metadata": {},
   "source": [
    "**San Francisco**"
   ]
  },
  {
   "cell_type": "code",
   "execution_count": 20,
   "id": "ee2d2f50",
   "metadata": {},
   "outputs": [
    {
     "data": {
      "text/plain": [
       "(29, 6)"
      ]
     },
     "execution_count": 20,
     "metadata": {},
     "output_type": "execute_result"
    }
   ],
   "source": [
    "# Subset of the dataframe: San Francisco\n",
    "sanfrancisco = companies_df[(companies_df['city'] == \"San Francisco\")]\n",
    "sanfrancisco = sanfrancisco[sanfrancisco['latitude'].notna()]\n",
    "sanfrancisco.shape"
   ]
  },
  {
   "cell_type": "code",
   "execution_count": 21,
   "id": "1a51aaf8",
   "metadata": {},
   "outputs": [],
   "source": [
    "# Building map\n",
    "sanfran_lat, sanfran_lon = 37.709209, -122.414242\n",
    "map_sanfran = Map(location = [sanfran_lat, sanfran_lon], zoom_start = 10)\n",
    "\n",
    "# Adding markers\n",
    "for index, row in sanfrancisco.iterrows():\n",
    "    company = {\"location\": [row[\"latitude\"], row[\"longitude\"]], \"tooltip\": row[\"name\"]}\n",
    "    new_marker = Marker(**company, radius = 2)\n",
    "    new_marker.add_to(map_sanfran)"
   ]
  },
  {
   "cell_type": "code",
   "execution_count": 36,
   "id": "34226fa9",
   "metadata": {},
   "outputs": [],
   "source": [
    "# map_sanfran # Company in the center: Globant (37.781929,-122.404176) / Tagged (37.775300,-122.418600)\n",
    "# sanfrancisco"
   ]
  },
  {
   "cell_type": "code",
   "execution_count": 23,
   "id": "4392a65a",
   "metadata": {},
   "outputs": [],
   "source": [
    "for index, row in sanfrancisco.iterrows():\n",
    "    company = {\"location\": [row[\"latitude\"], row[\"longitude\"]], \"tooltip\": row[\"name\"]}\n",
    "    new_marker = Marker(**company, radius = 2)\n",
    "    new_marker.add_to(map_sanfran)"
   ]
  },
  {
   "cell_type": "markdown",
   "id": "9b69e0aa",
   "metadata": {},
   "source": [
    "- Most companies agglomerate to the **north-east coast** of San Francisco.\n",
    "- Some companies categorized as belonging to San Francisco are actually in Palo Alto."
   ]
  },
  {
   "cell_type": "markdown",
   "id": "0fbf07ca",
   "metadata": {},
   "source": [
    "**New York**"
   ]
  },
  {
   "cell_type": "code",
   "execution_count": 24,
   "id": "aa19c4c0",
   "metadata": {},
   "outputs": [
    {
     "data": {
      "text/plain": [
       "(15, 6)"
      ]
     },
     "execution_count": 24,
     "metadata": {},
     "output_type": "execute_result"
    }
   ],
   "source": [
    "# Subset of the dataframe: New York\n",
    "newyork = companies_df[(companies_df['city'] == \"New York\")]\n",
    "newyork = newyork[newyork['latitude'].notna()]\n",
    "newyork.shape"
   ]
  },
  {
   "cell_type": "code",
   "execution_count": 25,
   "id": "b0dda7d7",
   "metadata": {},
   "outputs": [],
   "source": [
    "# Building map\n",
    "newyork_lat, newyork_lon = 40.730610, -73.935242\n",
    "map_newyork = Map(location = [newyork_lat, newyork_lon], zoom_start = 10)\n",
    "\n",
    "# Adding markers\n",
    "for index, row in newyork.iterrows():\n",
    "    company = {\"location\": [row[\"latitude\"], row[\"longitude\"]], \"tooltip\": row[\"name\"]}\n",
    "    new_marker = Marker(**company, radius = 2)\n",
    "    new_marker.add_to(map_newyork)"
   ]
  },
  {
   "cell_type": "code",
   "execution_count": 26,
   "id": "70e23f3c",
   "metadata": {},
   "outputs": [],
   "source": [
    "# map_newyork # Company right in the center: Cellufun (40.739930,-73.993049)\n",
    "# newyork"
   ]
  },
  {
   "cell_type": "markdown",
   "id": "17c55c62",
   "metadata": {},
   "source": [
    "**South San Francisco**"
   ]
  },
  {
   "cell_type": "code",
   "execution_count": 27,
   "id": "2499c0c9",
   "metadata": {},
   "outputs": [
    {
     "data": {
      "text/plain": [
       "(9, 6)"
      ]
     },
     "execution_count": 27,
     "metadata": {},
     "output_type": "execute_result"
    }
   ],
   "source": [
    "# Subset of the dataframe: South San Francisco\n",
    "south_sanfrancisco = companies_df[(companies_df['city'] == \"South San Francisco\")]\n",
    "south_sanfrancisco = south_sanfrancisco[south_sanfrancisco['latitude'].notna()]\n",
    "south_sanfrancisco.shape"
   ]
  },
  {
   "cell_type": "markdown",
   "id": "351b768a",
   "metadata": {},
   "source": [
    "**London (GBR)**"
   ]
  },
  {
   "cell_type": "code",
   "execution_count": 28,
   "id": "ed48b44e",
   "metadata": {},
   "outputs": [
    {
     "name": "stdout",
     "output_type": "stream",
     "text": [
      "(5, 6)\n",
      "country_code\n",
      "GBR    4\n",
      "USA    1\n",
      "dtype: int64\n"
     ]
    }
   ],
   "source": [
    "# Subset of the dataframe: London\n",
    "london = companies_df[(companies_df['city'] == \"London\")]\n",
    "london = london[london['latitude'].notna()]\n",
    "print(london.shape)\n",
    "print(london.groupby('country_code').size())"
   ]
  },
  {
   "cell_type": "code",
   "execution_count": 29,
   "id": "e9e9e0ad",
   "metadata": {},
   "outputs": [],
   "source": [
    "# Building map\n",
    "london_lat, london_lon = 51.509865, -0.118092\n",
    "map_london = Map(location = [london_lat, london_lon], zoom_start = 12)\n",
    "\n",
    "# Adding markers\n",
    "for index, row in london.iterrows():\n",
    "    company = {\"location\": [row[\"latitude\"], row[\"longitude\"]], \"tooltip\": row[\"name\"]}\n",
    "    new_marker = Marker(**company, radius = 2)\n",
    "    new_marker.add_to(map_london)"
   ]
  },
  {
   "cell_type": "code",
   "execution_count": 30,
   "id": "f4a3b365",
   "metadata": {},
   "outputs": [],
   "source": [
    "# map_london # Company in the middle: spigit (51.517038, 0.139476)\n",
    "# london"
   ]
  },
  {
   "cell_type": "markdown",
   "id": "0a1236f5",
   "metadata": {},
   "source": [
    "**Cambridge (USA)**"
   ]
  },
  {
   "cell_type": "code",
   "execution_count": 31,
   "id": "5c2c519c",
   "metadata": {},
   "outputs": [
    {
     "name": "stdout",
     "output_type": "stream",
     "text": [
      "(5, 6)\n",
      "country_code\n",
      "USA    5\n",
      "dtype: int64\n"
     ]
    }
   ],
   "source": [
    "# Subset of the dataframe: Cambridge\n",
    "cambridge = companies_df[(companies_df['city'] == \"Cambridge\")]\n",
    "cambridge = cambridge[cambridge['latitude'].notna()]\n",
    "print(cambridge.shape)\n",
    "print(cambridge.groupby('country_code').size())"
   ]
  },
  {
   "cell_type": "code",
   "execution_count": 32,
   "id": "f520ee28",
   "metadata": {},
   "outputs": [],
   "source": [
    "# Building map\n",
    "cambridge_lat, cambridge_lon = 42.373611, -71.110558\n",
    "map_cambridge = Map(location = [cambridge_lat, cambridge_lon], zoom_start = 12)\n",
    "\n",
    "# Adding markers\n",
    "for index, row in cambridge.iterrows():\n",
    "    company = {\"location\": [row[\"latitude\"], row[\"longitude\"]], \"tooltip\": row[\"name\"]}\n",
    "    new_marker = Marker(**company, radius = 2)\n",
    "    new_marker.add_to(map_cambridge)"
   ]
  },
  {
   "cell_type": "code",
   "execution_count": 33,
   "id": "7f57e56b",
   "metadata": {},
   "outputs": [],
   "source": [
    "# map_cambridge # Company right in the center: Aileron Therapeutics"
   ]
  },
  {
   "cell_type": "markdown",
   "id": "6e55ef65",
   "metadata": {},
   "source": [
    "**Conclusions:**\n",
    "- San Francisco (USA), New York (USA) and London (GBR) are the best cities based on gaming / gaming-design-tech hubs, which are the requirements of designers and developers of the company.\n",
    "- I will compare which of the three is the best city based on the rest of requirements."
   ]
  },
  {
   "cell_type": "markdown",
   "id": "4195af52",
   "metadata": {},
   "source": [
    "**Exporting all datasets**"
   ]
  },
  {
   "cell_type": "code",
   "execution_count": 34,
   "id": "33f010ce",
   "metadata": {},
   "outputs": [],
   "source": [
    "sanfrancisco.to_csv('./data/companies_sanfrancisco.csv', index = False)\n",
    "newyork.to_csv('./data/companies_newyork.csv', index = False)\n",
    "london.to_csv('./data/companies_london.csv', index = False)\n",
    "south_sanfrancisco.to_csv('./data/companies_south_sanfrancisco.csv', index = False)"
   ]
  }
 ],
 "metadata": {
  "kernelspec": {
   "display_name": "Python 3 (ipykernel)",
   "language": "python",
   "name": "python3"
  },
  "language_info": {
   "codemirror_mode": {
    "name": "ipython",
    "version": 3
   },
   "file_extension": ".py",
   "mimetype": "text/x-python",
   "name": "python",
   "nbconvert_exporter": "python",
   "pygments_lexer": "ipython3",
   "version": "3.9.13"
  },
  "toc": {
   "base_numbering": 1,
   "nav_menu": {},
   "number_sections": true,
   "sideBar": true,
   "skip_h1_title": false,
   "title_cell": "Table of Contents",
   "title_sidebar": "Contents",
   "toc_cell": false,
   "toc_position": {},
   "toc_section_display": true,
   "toc_window_display": false
  }
 },
 "nbformat": 4,
 "nbformat_minor": 5
}
