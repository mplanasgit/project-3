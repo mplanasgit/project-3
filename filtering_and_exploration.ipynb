{
 "cells": [
  {
   "cell_type": "markdown",
   "id": "c6cf96ce",
   "metadata": {},
   "source": [
    "**Notebook to filter the database and explore the data** \n",
    "\n",
    "---"
   ]
  },
  {
   "cell_type": "markdown",
   "id": "8f321049",
   "metadata": {},
   "source": [
    "**Objective:**  \n",
    "\n",
    "Find the best place to locate a **gaming** company based on the requisites of the employees.\n",
    "- Using the crunchbase databse to access the information of around 20.000 companies.\n",
    "- The database needs to be filtered according to our needs."
   ]
  },
  {
   "cell_type": "markdown",
   "id": "b83f40ca",
   "metadata": {},
   "source": [
    "**Libraries**"
   ]
  },
  {
   "cell_type": "code",
   "execution_count": 1,
   "id": "925b2eb4",
   "metadata": {},
   "outputs": [],
   "source": [
    "from pymongo import MongoClient\n",
    "import pandas as pd\n",
    "import time\n",
    "import re\n",
    "import io\n",
    "import folium\n",
    "from folium import Choropleth, Circle, Marker, Icon, Map"
   ]
  },
  {
   "cell_type": "markdown",
   "id": "9cf73523",
   "metadata": {},
   "source": [
    "# Extracting companies from the database"
   ]
  },
  {
   "cell_type": "markdown",
   "id": "452fda4c",
   "metadata": {},
   "source": [
    "**Establishing connection to the database**"
   ]
  },
  {
   "cell_type": "code",
   "execution_count": 37,
   "id": "d99895e7",
   "metadata": {},
   "outputs": [],
   "source": [
    "def getCollection(client, database, collection):\n",
    "    '''This function receives a client, database and collection strings \n",
    "    in order to connect to a database stored in MongoDB and access a specified collection.\n",
    "    All parameters are entered as str.\n",
    "    '''\n",
    "    \n",
    "    client = MongoClient(client)\n",
    "    db = client[database]\n",
    "    c = db.get_collection(collection)\n",
    "    \n",
    "    return c"
   ]
  },
  {
   "cell_type": "code",
   "execution_count": 38,
   "id": "e87f7775",
   "metadata": {},
   "outputs": [],
   "source": [
    "c = getCollection(\"localhost:27017\", \"ironhack\", \"crunchbase\")"
   ]
  },
  {
   "cell_type": "code",
   "execution_count": 39,
   "id": "4bf7c849",
   "metadata": {},
   "outputs": [],
   "source": [
    "# Getting all the companies from the collection:\n",
    "result = list(c.find())"
   ]
  },
  {
   "cell_type": "markdown",
   "id": "9fe1b50f",
   "metadata": {},
   "source": [
    "**Exploring the *tags* and *categories***"
   ]
  },
  {
   "cell_type": "code",
   "execution_count": 40,
   "id": "16419a1d",
   "metadata": {},
   "outputs": [],
   "source": [
    "def getField(result, field):\n",
    "    '''This function returns all the unique values for a specified field (str) \n",
    "    from a collection search (result).\n",
    "    '''\n",
    "    \n",
    "    field_list = []\n",
    "    for i in range(len(result)):\n",
    "        field_list.append(result[i][field])\n",
    "    field_list = set(field_list)\n",
    "    \n",
    "    return field_list"
   ]
  },
  {
   "cell_type": "code",
   "execution_count": 41,
   "id": "aaa65e67",
   "metadata": {},
   "outputs": [],
   "source": [
    "# Looking at the distinct tags in the database:\n",
    "tags = getField(result,\"tag_list\")\n",
    "# tags"
   ]
  },
  {
   "cell_type": "code",
   "execution_count": 42,
   "id": "527a709f",
   "metadata": {},
   "outputs": [],
   "source": [
    "# Looking at the distinct categories in the database:\n",
    "categories = getField(result,\"category_code\")\n",
    "# categories"
   ]
  },
  {
   "cell_type": "markdown",
   "id": "587bfd34",
   "metadata": {},
   "source": [
    "**Things to consider when filtering:**\n",
    "\n",
    "- I want my company to be in a city with a **gaming industry hub**. Thus, I will select for those with **tags** related to video-games.\n",
    "- Videogame companies collaborate and outsource other software-related and design companies, so I might want to have them near my company aswell. Some **categories** are interesting: 'games_video', 'software' and 'design'. \n",
    "- I want the hub to be composed of **successful** companies, so the total amount of money they raised should be >1M ($/€).\n",
    "- I could filter the database by these tags and categories and then group the companies by country/city to identify a potential hub."
   ]
  },
  {
   "cell_type": "markdown",
   "id": "6c8e3207",
   "metadata": {},
   "source": [
    "**Only gaming companies: a total of 285**  \n",
    "\n",
    "The following code returns the total number of strictly gaming companies. I checked the cities where these companies tend to accumulate. The result of the search is detailed below (right before section #2). I would like my company to be in one of those cities, but I will also explore cities *enriched* with design and tech companies as they are my employee's requirements."
   ]
  },
  {
   "cell_type": "code",
   "execution_count": 43,
   "id": "728370db",
   "metadata": {},
   "outputs": [
    {
     "data": {
      "text/plain": [
       "285"
      ]
     },
     "execution_count": 43,
     "metadata": {},
     "output_type": "execute_result"
    }
   ],
   "source": [
    "# Necessary filters: Companies whose 'offices' field is not empty and who have raised more than 1M $/€\n",
    "office_filter = {'offices' : {\"$ne\" : []}}\n",
    "money_filter = {'total_money_raised' : {\"$regex\" : \".*\\d+[MB]\"}}\n",
    "necessary = {\"$and\" : [office_filter, money_filter]}\n",
    "\n",
    "# If I only consider gaming companies:\n",
    "tag_filter = {'tag_list' : {\"$regex\": \".*gaming.*|.*game.*\"}}\n",
    "overview_filter = {'overview' : {\"$regex\": \".*gaming.*|.*game.*\"}}\n",
    "\n",
    "projection = {\"_id\":0, \"name\":1, 'total_money_raised':1, 'offices':1, 'tag_list':1}\n",
    "\n",
    "companies = list(c.find({\"$or\": [\n",
    "                                    {\"$and\": [necessary, tag_filter]},\n",
    "                                    {\"$and\": [necessary, overview_filter]}\n",
    "                                        ]}, projection))\n",
    "\n",
    "len(companies)"
   ]
  },
  {
   "cell_type": "markdown",
   "id": "ab217043",
   "metadata": {},
   "source": [
    "**Gaming / design / tech companies: a total of 430**  \n",
    "\n",
    "Designers and developers account for the 41% of the company. Thus it makes sense that I satisfy their requirements by identifying a gaming-design-tech hub. "
   ]
  },
  {
   "cell_type": "code",
   "execution_count": 44,
   "id": "1a201570",
   "metadata": {},
   "outputs": [
    {
     "data": {
      "text/plain": [
       "430"
      ]
     },
     "execution_count": 44,
     "metadata": {},
     "output_type": "execute_result"
    }
   ],
   "source": [
    "# Necessary filters: Companies whose 'offices' field is not empty and who have raised more than 1M $/€\n",
    "office_filter = {'offices' : {\"$ne\" : []}}\n",
    "money_filter = {'total_money_raised' : {\"$regex\" : \".*\\d+[MB]\"}}\n",
    "necessary = {\"$and\" : [office_filter, money_filter]}\n",
    "\n",
    "# I need a city with a gaming hub, but that also has design and tech companies nearby for my employees:\n",
    "my_regex = \".*gaming.*|.*game.*|.*design.*|.*tech.*\"\n",
    "tag_filter = {'tag_list' : {\"$regex\": my_regex}}\n",
    "overview_filter = {'overview' : {\"$regex\": my_regex}}\n",
    "category_filter = {'category_code': {\"$regex\": my_regex}}\n",
    "\n",
    "projection = {\"_id\":0, \"name\":1, 'total_money_raised':1, 'offices':1, 'tag_list':1}\n",
    "\n",
    "companies = list(c.find({\"$or\": [\n",
    "                                    {\"$and\": [necessary, tag_filter, category_filter]},\n",
    "                                    {\"$and\": [necessary, overview_filter, category_filter]}\n",
    "                                        ]}, projection))\n",
    "\n",
    "len(companies)"
   ]
  },
  {
   "cell_type": "code",
   "execution_count": 45,
   "id": "484b0951",
   "metadata": {},
   "outputs": [
    {
     "data": {
      "text/html": [
       "<div>\n",
       "<style scoped>\n",
       "    .dataframe tbody tr th:only-of-type {\n",
       "        vertical-align: middle;\n",
       "    }\n",
       "\n",
       "    .dataframe tbody tr th {\n",
       "        vertical-align: top;\n",
       "    }\n",
       "\n",
       "    .dataframe thead th {\n",
       "        text-align: right;\n",
       "    }\n",
       "</style>\n",
       "<table border=\"1\" class=\"dataframe\">\n",
       "  <thead>\n",
       "    <tr style=\"text-align: right;\">\n",
       "      <th></th>\n",
       "      <th>name</th>\n",
       "      <th>tag_list</th>\n",
       "      <th>total_money_raised</th>\n",
       "      <th>offices</th>\n",
       "    </tr>\n",
       "  </thead>\n",
       "  <tbody>\n",
       "    <tr>\n",
       "      <th>0</th>\n",
       "      <td>Joost</td>\n",
       "      <td>iptv, babelgum, television, video, thevenicepr...</td>\n",
       "      <td>$45M</td>\n",
       "      <td>[{'description': '', 'address1': '100 5th Ave ...</td>\n",
       "    </tr>\n",
       "    <tr>\n",
       "      <th>1</th>\n",
       "      <td>Babelgum</td>\n",
       "      <td>iptv, web2ireland</td>\n",
       "      <td>$13.2M</td>\n",
       "      <td>[{'description': '', 'address1': '', 'address2...</td>\n",
       "    </tr>\n",
       "    <tr>\n",
       "      <th>2</th>\n",
       "      <td>Veoh</td>\n",
       "      <td>veoh, video, veohtv, socialvideo, videosharing...</td>\n",
       "      <td>$69.8M</td>\n",
       "      <td>[{'description': '', 'address1': '10180 Telesi...</td>\n",
       "    </tr>\n",
       "    <tr>\n",
       "      <th>3</th>\n",
       "      <td>YouTube</td>\n",
       "      <td>channels, movies, rentals, share, usergenerate...</td>\n",
       "      <td>$11.5M</td>\n",
       "      <td>[{'description': 'Corporate Headquarters', 'ad...</td>\n",
       "    </tr>\n",
       "    <tr>\n",
       "      <th>4</th>\n",
       "      <td>Pando Networks</td>\n",
       "      <td>p2p, video, streaming, download, cdn</td>\n",
       "      <td>$11M</td>\n",
       "      <td>[{'description': None, 'address1': '520 Broadw...</td>\n",
       "    </tr>\n",
       "  </tbody>\n",
       "</table>\n",
       "</div>"
      ],
      "text/plain": [
       "             name                                           tag_list  \\\n",
       "0           Joost  iptv, babelgum, television, video, thevenicepr...   \n",
       "1        Babelgum                                  iptv, web2ireland   \n",
       "2            Veoh  veoh, video, veohtv, socialvideo, videosharing...   \n",
       "3         YouTube  channels, movies, rentals, share, usergenerate...   \n",
       "4  Pando Networks               p2p, video, streaming, download, cdn   \n",
       "\n",
       "  total_money_raised                                            offices  \n",
       "0               $45M  [{'description': '', 'address1': '100 5th Ave ...  \n",
       "1             $13.2M  [{'description': '', 'address1': '', 'address2...  \n",
       "2             $69.8M  [{'description': '', 'address1': '10180 Telesi...  \n",
       "3             $11.5M  [{'description': 'Corporate Headquarters', 'ad...  \n",
       "4               $11M  [{'description': None, 'address1': '520 Broadw...  "
      ]
     },
     "execution_count": 45,
     "metadata": {},
     "output_type": "execute_result"
    }
   ],
   "source": [
    "companies_df = pd.DataFrame(companies)\n",
    "companies_df.head()"
   ]
  },
  {
   "cell_type": "markdown",
   "id": "a8a04faa",
   "metadata": {},
   "source": [
    "**Checking enrichment / filtering**"
   ]
  },
  {
   "cell_type": "code",
   "execution_count": 46,
   "id": "fd5b9267",
   "metadata": {},
   "outputs": [],
   "source": [
    "# When I print the tags again I see an enrichment of gaming-related tags.\n",
    "tags = getField(companies,\"tag_list\")\n",
    "# print(tags)"
   ]
  },
  {
   "cell_type": "code",
   "execution_count": 47,
   "id": "dfda1474",
   "metadata": {},
   "outputs": [],
   "source": [
    "# I selected companies with >1M of $/€ raised.\n",
    "money = getField(companies,\"total_money_raised\")\n",
    "# print(money)"
   ]
  },
  {
   "cell_type": "markdown",
   "id": "81ce33e4",
   "metadata": {},
   "source": [
    "**Extracting the city, state and country for each company**  \n",
    "\n",
    "First, I would like to get all offices and that they are added as new rows, since I want to count how many gaming industry offices are there per city/country. Defining an explode function:"
   ]
  },
  {
   "cell_type": "code",
   "execution_count": 48,
   "id": "a11ec9ee",
   "metadata": {},
   "outputs": [],
   "source": [
    "def explodeColumns(df, column):\n",
    "    '''This function receives a df and the name of a column (str),\n",
    "    and applies the explode method to it.\n",
    "    '''\n",
    "    \n",
    "    df = df.explode(column)\n",
    "    df = df.reset_index()\n",
    "    df = df.drop(columns = 'index', axis = 1)\n",
    "    \n",
    "    return df"
   ]
  },
  {
   "cell_type": "code",
   "execution_count": 49,
   "id": "71f5eb59",
   "metadata": {},
   "outputs": [],
   "source": [
    "companies_df = explodeColumns(companies_df, \"offices\")"
   ]
  },
  {
   "cell_type": "code",
   "execution_count": 53,
   "id": "8c8825bb",
   "metadata": {},
   "outputs": [
    {
     "data": {
      "text/html": [
       "<div>\n",
       "<style scoped>\n",
       "    .dataframe tbody tr th:only-of-type {\n",
       "        vertical-align: middle;\n",
       "    }\n",
       "\n",
       "    .dataframe tbody tr th {\n",
       "        vertical-align: top;\n",
       "    }\n",
       "\n",
       "    .dataframe thead th {\n",
       "        text-align: right;\n",
       "    }\n",
       "</style>\n",
       "<table border=\"1\" class=\"dataframe\">\n",
       "  <thead>\n",
       "    <tr style=\"text-align: right;\">\n",
       "      <th></th>\n",
       "      <th>name</th>\n",
       "      <th>tag_list</th>\n",
       "      <th>total_money_raised</th>\n",
       "      <th>offices</th>\n",
       "      <th>city</th>\n",
       "      <th>state_code</th>\n",
       "      <th>country_code</th>\n",
       "      <th>latitude</th>\n",
       "      <th>longitude</th>\n",
       "    </tr>\n",
       "  </thead>\n",
       "  <tbody>\n",
       "    <tr>\n",
       "      <th>0</th>\n",
       "      <td>Joost</td>\n",
       "      <td>iptv, babelgum, television, video, thevenicepr...</td>\n",
       "      <td>$45M</td>\n",
       "      <td>{'description': '', 'address1': '100 5th Ave F...</td>\n",
       "      <td>New York</td>\n",
       "      <td>NY</td>\n",
       "      <td>USA</td>\n",
       "      <td>40.746497</td>\n",
       "      <td>-74.009447</td>\n",
       "    </tr>\n",
       "    <tr>\n",
       "      <th>1</th>\n",
       "      <td>Babelgum</td>\n",
       "      <td>iptv, web2ireland</td>\n",
       "      <td>$13.2M</td>\n",
       "      <td>{'description': '', 'address1': '', 'address2'...</td>\n",
       "      <td>London</td>\n",
       "      <td>None</td>\n",
       "      <td>GBR</td>\n",
       "      <td>53.344104</td>\n",
       "      <td>-6.267494</td>\n",
       "    </tr>\n",
       "    <tr>\n",
       "      <th>2</th>\n",
       "      <td>Veoh</td>\n",
       "      <td>veoh, video, veohtv, socialvideo, videosharing...</td>\n",
       "      <td>$69.8M</td>\n",
       "      <td>{'description': '', 'address1': '10180 Telesis...</td>\n",
       "      <td>San Diego</td>\n",
       "      <td>CA</td>\n",
       "      <td>USA</td>\n",
       "      <td>32.902266</td>\n",
       "      <td>-117.208340</td>\n",
       "    </tr>\n",
       "    <tr>\n",
       "      <th>3</th>\n",
       "      <td>YouTube</td>\n",
       "      <td>channels, movies, rentals, share, usergenerate...</td>\n",
       "      <td>$11.5M</td>\n",
       "      <td>{'description': 'Corporate Headquarters', 'add...</td>\n",
       "      <td>San Bruno</td>\n",
       "      <td>CA</td>\n",
       "      <td>USA</td>\n",
       "      <td>37.627971</td>\n",
       "      <td>-122.426804</td>\n",
       "    </tr>\n",
       "    <tr>\n",
       "      <th>4</th>\n",
       "      <td>Pando Networks</td>\n",
       "      <td>p2p, video, streaming, download, cdn</td>\n",
       "      <td>$11M</td>\n",
       "      <td>{'description': None, 'address1': '520 Broadwa...</td>\n",
       "      <td>New York</td>\n",
       "      <td>NY</td>\n",
       "      <td>USA</td>\n",
       "      <td>40.722655</td>\n",
       "      <td>-73.998730</td>\n",
       "    </tr>\n",
       "  </tbody>\n",
       "</table>\n",
       "</div>"
      ],
      "text/plain": [
       "             name                                           tag_list  \\\n",
       "0           Joost  iptv, babelgum, television, video, thevenicepr...   \n",
       "1        Babelgum                                  iptv, web2ireland   \n",
       "2            Veoh  veoh, video, veohtv, socialvideo, videosharing...   \n",
       "3         YouTube  channels, movies, rentals, share, usergenerate...   \n",
       "4  Pando Networks               p2p, video, streaming, download, cdn   \n",
       "\n",
       "  total_money_raised                                            offices  \\\n",
       "0               $45M  {'description': '', 'address1': '100 5th Ave F...   \n",
       "1             $13.2M  {'description': '', 'address1': '', 'address2'...   \n",
       "2             $69.8M  {'description': '', 'address1': '10180 Telesis...   \n",
       "3             $11.5M  {'description': 'Corporate Headquarters', 'add...   \n",
       "4               $11M  {'description': None, 'address1': '520 Broadwa...   \n",
       "\n",
       "        city state_code country_code   latitude   longitude  \n",
       "0   New York         NY          USA  40.746497  -74.009447  \n",
       "1     London       None          GBR  53.344104   -6.267494  \n",
       "2  San Diego         CA          USA  32.902266 -117.208340  \n",
       "3  San Bruno         CA          USA  37.627971 -122.426804  \n",
       "4   New York         NY          USA  40.722655  -73.998730  "
      ]
     },
     "execution_count": 53,
     "metadata": {},
     "output_type": "execute_result"
    }
   ],
   "source": [
    "# Appending to empty lists to add as new columns:\n",
    "\n",
    "city = []\n",
    "state_code = []\n",
    "country_code = []\n",
    "latitude = []\n",
    "longitude = []\n",
    "\n",
    "for index, row in companies_df.iterrows():\n",
    "    try:\n",
    "        city.append(row['offices']['city'])\n",
    "        state_code.append(row['offices']['state_code'])\n",
    "        country_code.append(row['offices']['country_code'])\n",
    "        latitude.append(row['offices']['latitude'])\n",
    "        longitude.append(row['offices']['longitude'])\n",
    "    except IndexError:\n",
    "        city.append(None)\n",
    "        state_code.append(None)\n",
    "        country_code.append(None)\n",
    "        latitude.append(None)\n",
    "        longitude.append(None)\n",
    "    \n",
    "companies_df['city'] = city\n",
    "companies_df['state_code'] = state_code\n",
    "companies_df['country_code'] = country_code\n",
    "companies_df['latitude'] = latitude\n",
    "companies_df['longitude'] = longitude\n",
    "\n",
    "companies_df.head()"
   ]
  },
  {
   "cell_type": "markdown",
   "id": "b7fac12d",
   "metadata": {},
   "source": [
    "## Cleaning and exploring"
   ]
  },
  {
   "cell_type": "code",
   "execution_count": 54,
   "id": "3e998695",
   "metadata": {},
   "outputs": [
    {
     "data": {
      "text/html": [
       "<div>\n",
       "<style scoped>\n",
       "    .dataframe tbody tr th:only-of-type {\n",
       "        vertical-align: middle;\n",
       "    }\n",
       "\n",
       "    .dataframe tbody tr th {\n",
       "        vertical-align: top;\n",
       "    }\n",
       "\n",
       "    .dataframe thead th {\n",
       "        text-align: right;\n",
       "    }\n",
       "</style>\n",
       "<table border=\"1\" class=\"dataframe\">\n",
       "  <thead>\n",
       "    <tr style=\"text-align: right;\">\n",
       "      <th></th>\n",
       "      <th>name</th>\n",
       "      <th>city</th>\n",
       "      <th>state_code</th>\n",
       "      <th>country_code</th>\n",
       "      <th>latitude</th>\n",
       "      <th>longitude</th>\n",
       "    </tr>\n",
       "  </thead>\n",
       "  <tbody>\n",
       "    <tr>\n",
       "      <th>0</th>\n",
       "      <td>Joost</td>\n",
       "      <td>New York</td>\n",
       "      <td>NY</td>\n",
       "      <td>USA</td>\n",
       "      <td>40.746497</td>\n",
       "      <td>-74.009447</td>\n",
       "    </tr>\n",
       "    <tr>\n",
       "      <th>1</th>\n",
       "      <td>Babelgum</td>\n",
       "      <td>London</td>\n",
       "      <td>None</td>\n",
       "      <td>GBR</td>\n",
       "      <td>53.344104</td>\n",
       "      <td>-6.267494</td>\n",
       "    </tr>\n",
       "    <tr>\n",
       "      <th>2</th>\n",
       "      <td>Veoh</td>\n",
       "      <td>San Diego</td>\n",
       "      <td>CA</td>\n",
       "      <td>USA</td>\n",
       "      <td>32.902266</td>\n",
       "      <td>-117.208340</td>\n",
       "    </tr>\n",
       "    <tr>\n",
       "      <th>3</th>\n",
       "      <td>YouTube</td>\n",
       "      <td>San Bruno</td>\n",
       "      <td>CA</td>\n",
       "      <td>USA</td>\n",
       "      <td>37.627971</td>\n",
       "      <td>-122.426804</td>\n",
       "    </tr>\n",
       "    <tr>\n",
       "      <th>4</th>\n",
       "      <td>Pando Networks</td>\n",
       "      <td>New York</td>\n",
       "      <td>NY</td>\n",
       "      <td>USA</td>\n",
       "      <td>40.722655</td>\n",
       "      <td>-73.998730</td>\n",
       "    </tr>\n",
       "  </tbody>\n",
       "</table>\n",
       "</div>"
      ],
      "text/plain": [
       "             name       city state_code country_code   latitude   longitude\n",
       "0           Joost   New York         NY          USA  40.746497  -74.009447\n",
       "1        Babelgum     London       None          GBR  53.344104   -6.267494\n",
       "2            Veoh  San Diego         CA          USA  32.902266 -117.208340\n",
       "3         YouTube  San Bruno         CA          USA  37.627971 -122.426804\n",
       "4  Pando Networks   New York         NY          USA  40.722655  -73.998730"
      ]
     },
     "execution_count": 54,
     "metadata": {},
     "output_type": "execute_result"
    }
   ],
   "source": [
    "# Dropping the columns I will not use: I am interested in the gaming hub location.\n",
    "\n",
    "companies_df = companies_df.drop(columns = ['tag_list', 'offices', 'total_money_raised'])\n",
    "companies_df.head()"
   ]
  },
  {
   "cell_type": "code",
   "execution_count": 14,
   "id": "496db11f",
   "metadata": {},
   "outputs": [
    {
     "data": {
      "text/plain": [
       "country_code\n",
       "USA    341\n",
       "GBR     23\n",
       "DEU     18\n",
       "dtype: int64"
      ]
     },
     "execution_count": 14,
     "metadata": {},
     "output_type": "execute_result"
    }
   ],
   "source": [
    "# Top 3 countries with more companies\n",
    "companies_df.groupby('country_code').size().sort_values(ascending=False).head(3)"
   ]
  },
  {
   "cell_type": "code",
   "execution_count": 15,
   "id": "8dba1d94",
   "metadata": {},
   "outputs": [
    {
     "data": {
      "text/plain": [
       "state_code\n",
       "CA    161\n",
       "MA     28\n",
       "NY     25\n",
       "dtype: int64"
      ]
     },
     "execution_count": 15,
     "metadata": {},
     "output_type": "execute_result"
    }
   ],
   "source": [
    "# Top 3 states with more companies\n",
    "companies_df.groupby('state_code').size().sort_values(ascending=False).head(3)"
   ]
  },
  {
   "cell_type": "code",
   "execution_count": 16,
   "id": "dc9303b7",
   "metadata": {},
   "outputs": [
    {
     "data": {
      "text/plain": [
       "city\n",
       "San Francisco          41\n",
       "                       21\n",
       "New York               21\n",
       "Cambridge              11\n",
       "South San Francisco     9\n",
       "London                  8\n",
       "dtype: int64"
      ]
     },
     "execution_count": 16,
     "metadata": {},
     "output_type": "execute_result"
    }
   ],
   "source": [
    "# Top 3 cities with more companies\n",
    "companies_df.groupby('city').size().sort_values(ascending=False).head(6)"
   ]
  },
  {
   "cell_type": "code",
   "execution_count": 17,
   "id": "584c1027",
   "metadata": {},
   "outputs": [
    {
     "data": {
      "text/plain": [
       "city                 country_code\n",
       "San Francisco        USA             41\n",
       "New York             USA             21\n",
       "South San Francisco  USA              9\n",
       "Cambridge            USA              8\n",
       "Austin               USA              8\n",
       "Seattle              USA              8\n",
       "Los Angeles          USA              7\n",
       "Shanghai             CHN              7\n",
       "Fremont              USA              7\n",
       "London               GBR              7\n",
       "dtype: int64"
      ]
     },
     "execution_count": 17,
     "metadata": {},
     "output_type": "execute_result"
    }
   ],
   "source": [
    "companies_df.groupby(['city','country_code']).size().sort_values(ascending=False).head(10)"
   ]
  },
  {
   "cell_type": "code",
   "execution_count": 18,
   "id": "31a101cd",
   "metadata": {},
   "outputs": [],
   "source": [
    "# cities_with_space = gaming_df[gaming_df['city'] == \"\"]\n",
    "# cities_with_space\n",
    "\n",
    "# only 8 out of the 21 cities with spaces have data of latitude/longitude.\n",
    "# of those 8, 3 are in CA (USA), 2 in other states of USA, 1 in SWE, 1 in NLD and 1 in DEU\n",
    "# they would not affect the ranking"
   ]
  },
  {
   "cell_type": "markdown",
   "id": "7f288589",
   "metadata": {},
   "source": [
    "**Exporting**"
   ]
  },
  {
   "cell_type": "code",
   "execution_count": 19,
   "id": "de8d46dd",
   "metadata": {},
   "outputs": [],
   "source": [
    "companies_df.to_csv('./data/companies.csv', index = False)"
   ]
  },
  {
   "cell_type": "markdown",
   "id": "b6aa3e01",
   "metadata": {},
   "source": [
    "## Comparison of hubs: gaming vs gaming-design-tech\n",
    "\n",
    "If I consider the **gaming hub only**, then the top cities are:\n",
    "1. San Francisco: 53\n",
    "2. New York: 21\n",
    "3. London (GBR): 13\n",
    "4. Los Angeles: 10\n",
    "5. Beijing: 8\n",
    "\n",
    "On the other hand, if I consider a **gaming-design-tech hub**, then the top cities are:\n",
    "1. San Francisco: 41\n",
    "2. New York: 21\n",
    "3. South San Francisco: 9\n",
    "3. Cambridge (USA): 8\n",
    "5. London (GBR): 7"
   ]
  },
  {
   "cell_type": "markdown",
   "id": "795181b8",
   "metadata": {},
   "source": [
    "**Next steps**\n",
    "- **San Francisco** and **New York** seem like the best cities **in general**.\n",
    "- **London (GBR)** and **Cambridge (USA)** could also be good options. Between the two I would choose **London**, since there are more gaming companies.\n",
    "- I compared the maps filtering for gaming companies only **(gaming hub)** and filtering for **gaming-design-tech**, and they tend to accumulate in same places irrespectively of the of the kind of hub. Therefore, it doesn't make much of a difference.\n",
    "- Now I will have to see if these cities have all the requirements."
   ]
  },
  {
   "cell_type": "markdown",
   "id": "198571a7",
   "metadata": {},
   "source": [
    "# Building maps for each city\n",
    "To see whether these companies agglomerate in one region of the city, where I would locate my company."
   ]
  },
  {
   "cell_type": "markdown",
   "id": "ed3151fb",
   "metadata": {},
   "source": [
    "**Coordinates**  \n",
    "\n",
    "Got them from Google Maps"
   ]
  },
  {
   "cell_type": "code",
   "execution_count": 59,
   "id": "ec1dc676",
   "metadata": {},
   "outputs": [],
   "source": [
    "sanfran_coordinates = [37.709209, -122.414242]\n",
    "newyork_coordinates = [40.730610, -73.935242]\n",
    "london_coordinates = [51.509865, -0.118092]\n",
    "cambridge_coordinates = [42.373611, -71.110558]"
   ]
  },
  {
   "cell_type": "markdown",
   "id": "1a5ff533",
   "metadata": {},
   "source": [
    "**Function to create a map centered on specified coordinates**"
   ]
  },
  {
   "cell_type": "code",
   "execution_count": 64,
   "id": "b19294bd",
   "metadata": {},
   "outputs": [],
   "source": [
    "def createMap_addMarkers(coordinates, df):\n",
    "    '''This function receives a list of coodinates in the format [latitude, longitude]\n",
    "    and a df and creates a map around it. It adds the markers of every row of your df.\n",
    "    '''\n",
    "    # Creating the map\n",
    "    mapa = Map(location = coordinates, zoom_start = 10, control_scale = True)\n",
    "    # Creating and adding markers\n",
    "    for index, row in df.iterrows():\n",
    "        company = {\"location\": [row[\"latitude\"], row[\"longitude\"]], \"tooltip\": row[\"name\"]}\n",
    "        new_marker = Marker(**company, radius = 2)\n",
    "        new_marker.add_to(mapa)\n",
    "    \n",
    "    return mapa"
   ]
  },
  {
   "cell_type": "markdown",
   "id": "ed58d499",
   "metadata": {},
   "source": [
    "## San Francisco"
   ]
  },
  {
   "cell_type": "code",
   "execution_count": 65,
   "id": "ee2d2f50",
   "metadata": {},
   "outputs": [
    {
     "data": {
      "text/plain": [
       "(29, 6)"
      ]
     },
     "execution_count": 65,
     "metadata": {},
     "output_type": "execute_result"
    }
   ],
   "source": [
    "# Subset of the dataframe: San Francisco\n",
    "sanfrancisco = companies_df[(companies_df['city'] == \"San Francisco\")]\n",
    "sanfrancisco = sanfrancisco[sanfrancisco['latitude'].notna()]\n",
    "sanfrancisco.shape"
   ]
  },
  {
   "cell_type": "code",
   "execution_count": 67,
   "id": "6ddee965",
   "metadata": {},
   "outputs": [],
   "source": [
    "map_sanfran = createMap_addMarkers(sanfran_coordinates, sanfrancisco)\n",
    "# map_sanfran\n",
    "# Company in the center: Globant (37.781929,-122.404176) / Tagged (37.775300,-122.418600)"
   ]
  },
  {
   "cell_type": "markdown",
   "id": "9b69e0aa",
   "metadata": {},
   "source": [
    "- Most companies agglomerate to the **north-east coast** of San Francisco.\n",
    "- Some companies categorized as belonging to San Francisco are actually in Palo Alto."
   ]
  },
  {
   "cell_type": "markdown",
   "id": "0fbf07ca",
   "metadata": {},
   "source": [
    "## New York"
   ]
  },
  {
   "cell_type": "code",
   "execution_count": 68,
   "id": "aa19c4c0",
   "metadata": {},
   "outputs": [
    {
     "data": {
      "text/plain": [
       "(15, 6)"
      ]
     },
     "execution_count": 68,
     "metadata": {},
     "output_type": "execute_result"
    }
   ],
   "source": [
    "# Subset of the dataframe: New York\n",
    "newyork = companies_df[(companies_df['city'] == \"New York\")]\n",
    "newyork = newyork[newyork['latitude'].notna()]\n",
    "newyork.shape"
   ]
  },
  {
   "cell_type": "code",
   "execution_count": 70,
   "id": "b0dda7d7",
   "metadata": {},
   "outputs": [],
   "source": [
    "map_newyork = createMap_addMarkers(newyork_coordinates, newyork)\n",
    "# map_newyork\n",
    "# Company right in the center: Cellufun (40.739930,-73.993049)"
   ]
  },
  {
   "cell_type": "markdown",
   "id": "351b768a",
   "metadata": {},
   "source": [
    "## London (GBR)"
   ]
  },
  {
   "cell_type": "code",
   "execution_count": 71,
   "id": "ed48b44e",
   "metadata": {},
   "outputs": [
    {
     "name": "stdout",
     "output_type": "stream",
     "text": [
      "(5, 6)\n",
      "country_code\n",
      "GBR    4\n",
      "USA    1\n",
      "dtype: int64\n"
     ]
    }
   ],
   "source": [
    "# Subset of the dataframe: London\n",
    "london = companies_df[(companies_df['city'] == \"London\")]\n",
    "london = london[london['latitude'].notna()]\n",
    "print(london.shape)\n",
    "print(london.groupby('country_code').size())"
   ]
  },
  {
   "cell_type": "code",
   "execution_count": 74,
   "id": "f4a3b365",
   "metadata": {},
   "outputs": [],
   "source": [
    "map_london = createMap_addMarkers(london_coordinates, london)\n",
    "# map_london\n",
    "# Company in the middle: spigit (51.517038, 0.139476)"
   ]
  },
  {
   "cell_type": "markdown",
   "id": "0a1236f5",
   "metadata": {},
   "source": [
    "## Cambridge (USA)"
   ]
  },
  {
   "cell_type": "code",
   "execution_count": 75,
   "id": "5c2c519c",
   "metadata": {},
   "outputs": [
    {
     "name": "stdout",
     "output_type": "stream",
     "text": [
      "(5, 6)\n",
      "country_code\n",
      "USA    5\n",
      "dtype: int64\n"
     ]
    }
   ],
   "source": [
    "# Subset of the dataframe: Cambridge\n",
    "cambridge = companies_df[(companies_df['city'] == \"Cambridge\")]\n",
    "cambridge = cambridge[cambridge['latitude'].notna()]\n",
    "print(cambridge.shape)\n",
    "print(cambridge.groupby('country_code').size())"
   ]
  },
  {
   "cell_type": "code",
   "execution_count": 77,
   "id": "f520ee28",
   "metadata": {},
   "outputs": [],
   "source": [
    "map_cambridge = createMap_addMarkers(cambridge_coordinates, cambridge)\n",
    "# map_cambridge\n",
    "# Company right in the center: Aileron Therapeutics"
   ]
  },
  {
   "cell_type": "markdown",
   "id": "6bcc3289",
   "metadata": {},
   "source": [
    "## South San Francisco"
   ]
  },
  {
   "cell_type": "code",
   "execution_count": 27,
   "id": "b803f55e",
   "metadata": {},
   "outputs": [
    {
     "data": {
      "text/plain": [
       "(9, 6)"
      ]
     },
     "execution_count": 27,
     "metadata": {},
     "output_type": "execute_result"
    }
   ],
   "source": [
    "# Subset of the dataframe: South San Francisco\n",
    "south_sanfrancisco = companies_df[(companies_df['city'] == \"South San Francisco\")]\n",
    "south_sanfrancisco = south_sanfrancisco[south_sanfrancisco['latitude'].notna()]\n",
    "south_sanfrancisco.shape"
   ]
  },
  {
   "cell_type": "markdown",
   "id": "6e55ef65",
   "metadata": {},
   "source": [
    "# Conclusions:\n",
    "- San Francisco (USA), New York (USA) and London (GBR) are the best cities based on gaming / gaming-design-tech hubs, which are the requirements of designers and developers of the company.\n",
    "- I will compare which of the three is the best city based on the rest of requirements."
   ]
  },
  {
   "cell_type": "markdown",
   "id": "4195af52",
   "metadata": {},
   "source": [
    "**Exporting all datasets**"
   ]
  },
  {
   "cell_type": "code",
   "execution_count": 34,
   "id": "33f010ce",
   "metadata": {},
   "outputs": [],
   "source": [
    "sanfrancisco.to_csv('./data/companies_sanfrancisco.csv', index = False)\n",
    "newyork.to_csv('./data/companies_newyork.csv', index = False)\n",
    "london.to_csv('./data/companies_london.csv', index = False)\n",
    "south_sanfrancisco.to_csv('./data/companies_south_sanfrancisco.csv', index = False)"
   ]
  }
 ],
 "metadata": {
  "kernelspec": {
   "display_name": "Python 3 (ipykernel)",
   "language": "python",
   "name": "python3"
  },
  "language_info": {
   "codemirror_mode": {
    "name": "ipython",
    "version": 3
   },
   "file_extension": ".py",
   "mimetype": "text/x-python",
   "name": "python",
   "nbconvert_exporter": "python",
   "pygments_lexer": "ipython3",
   "version": "3.9.13"
  },
  "toc": {
   "base_numbering": 1,
   "nav_menu": {},
   "number_sections": true,
   "sideBar": true,
   "skip_h1_title": false,
   "title_cell": "Table of Contents",
   "title_sidebar": "Contents",
   "toc_cell": false,
   "toc_position": {},
   "toc_section_display": true,
   "toc_window_display": false
  }
 },
 "nbformat": 4,
 "nbformat_minor": 5
}
