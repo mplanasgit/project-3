{
 "cells": [
  {
   "cell_type": "markdown",
   "id": "dc433e37",
   "metadata": {},
   "source": [
    "**Notebook to do API requests**\n",
    "\n",
    "---"
   ]
  },
  {
   "cell_type": "markdown",
   "id": "62948a8b",
   "metadata": {},
   "source": [
    "**Libraries**"
   ]
  },
  {
   "cell_type": "code",
   "execution_count": 1,
   "id": "9cc97f6b",
   "metadata": {},
   "outputs": [],
   "source": [
    "import foursquare as fsq\n",
    "import os\n",
    "import pandas as pd\n",
    "import io\n",
    "import requests\n",
    "from dotenv import load_dotenv\n",
    "import geopandas as gpd"
   ]
  },
  {
   "cell_type": "markdown",
   "id": "7393472a",
   "metadata": {},
   "source": [
    "# Foursquare API requests"
   ]
  },
  {
   "cell_type": "markdown",
   "id": "e77ae383",
   "metadata": {},
   "source": [
    "I will be requesting information from **Foursquare** using the coordinates of the company that located at the center of the respective gaming-design-tech hub:\n",
    "- San Francisco: Globant (37.781929, -122.404176)\n",
    "- South San Francisco: NGM Biopharmaceuticals (37.656246, -122.399735)\n",
    "- New York: Cellufun (40.739930, -73.993049)\n",
    "- London (GBR): paymo (51.514165, -0.109017)"
   ]
  },
  {
   "cell_type": "markdown",
   "id": "3737e4f7",
   "metadata": {},
   "source": [
    "Based on my employees requirements I did requests on Foursquare where I specified the **query** (string, first parameter), the **city** (coordinates), the **radius** of the search (first number), the **category** in foursquare (second number) (not always, only in the `getFoursquareCategory` function), and I **limited** the response to 5 results. The resuls were sorted by distance.\n",
    "\n",
    "```python\n",
    "    schools = getFoursquareCategory(\"school\", city, 2000, 12058, token_fsq, limit=5)\n",
    "    clubs = getFoursquareCategory(\"night club\", city, 2000, 10032, token_fsq, limit=5)\n",
    "    starbucks = getFoursquare(\"starbucks\", city, 2000, token_fsq, limit=5)\n",
    "    basketball = getFoursquare(\"basketball stadium\", city, 10000, token_fsq, limit=5)\n",
    "    dog = getFoursquareCategory(\"dog grooming\", city, 10000, 11134, token_fsq, limit=5)\n",
    "    airport = getFoursquareCategory(\"airport\", city, 50000, 19040, token_fsq, limit=5)\n",
    "    vegan = getFoursquareCategory(\"vegan restaurant\", city, 2000, 13377, token_fsq, limit=5)\n",
    "```"
   ]
  },
  {
   "cell_type": "markdown",
   "id": "3311ad73",
   "metadata": {},
   "source": [
    "**Defining coordinates based on other companies' location**"
   ]
  },
  {
   "cell_type": "code",
   "execution_count": 2,
   "id": "d6ffa41a",
   "metadata": {},
   "outputs": [],
   "source": [
    "sanfran = [37.781929, -122.404176]\n",
    "south_sanfran = [37.656246, -122.399735]\n",
    "newyork = [40.739930, -73.993049]\n",
    "london = [51.514165, -0.109017]"
   ]
  },
  {
   "cell_type": "markdown",
   "id": "3757f859",
   "metadata": {},
   "source": [
    "**Loading token**"
   ]
  },
  {
   "cell_type": "code",
   "execution_count": 3,
   "id": "50c59261",
   "metadata": {},
   "outputs": [
    {
     "data": {
      "text/plain": [
       "True"
      ]
     },
     "execution_count": 3,
     "metadata": {},
     "output_type": "execute_result"
    }
   ],
   "source": [
    "load_dotenv()"
   ]
  },
  {
   "cell_type": "code",
   "execution_count": 4,
   "id": "cc558617",
   "metadata": {},
   "outputs": [],
   "source": [
    "token_fsq = os.getenv(\"new_key\")"
   ]
  },
  {
   "cell_type": "markdown",
   "id": "1b42b337",
   "metadata": {},
   "source": [
    "## San Francisco"
   ]
  },
  {
   "cell_type": "code",
   "execution_count": 5,
   "id": "d7a0775e",
   "metadata": {},
   "outputs": [],
   "source": [
    "sanfran_df = fsq.getEverythingFoursquare(sanfran, token_fsq)"
   ]
  },
  {
   "cell_type": "code",
   "execution_count": 7,
   "id": "bfa5a413",
   "metadata": {},
   "outputs": [],
   "source": [
    "sanfran_geodf = fsq.geoDataframe(sanfran_df)"
   ]
  },
  {
   "cell_type": "code",
   "execution_count": 24,
   "id": "39f60a02",
   "metadata": {},
   "outputs": [
    {
     "data": {
      "text/html": [
       "<div>\n",
       "<style scoped>\n",
       "    .dataframe tbody tr th:only-of-type {\n",
       "        vertical-align: middle;\n",
       "    }\n",
       "\n",
       "    .dataframe tbody tr th {\n",
       "        vertical-align: top;\n",
       "    }\n",
       "\n",
       "    .dataframe thead th {\n",
       "        text-align: right;\n",
       "    }\n",
       "</style>\n",
       "<table border=\"1\" class=\"dataframe\">\n",
       "  <thead>\n",
       "    <tr style=\"text-align: right;\">\n",
       "      <th></th>\n",
       "      <th>query</th>\n",
       "      <th>name</th>\n",
       "      <th>address</th>\n",
       "      <th>distance</th>\n",
       "      <th>lat</th>\n",
       "      <th>lon</th>\n",
       "      <th>type</th>\n",
       "      <th>geometry</th>\n",
       "    </tr>\n",
       "  </thead>\n",
       "  <tbody>\n",
       "    <tr>\n",
       "      <th>0</th>\n",
       "      <td>school</td>\n",
       "      <td>AltSchool Yerba Buena</td>\n",
       "      <td>300 4th St, San Francisco, CA 94107</td>\n",
       "      <td>255</td>\n",
       "      <td>37.781815</td>\n",
       "      <td>-122.401127</td>\n",
       "      <td>{'typepoint': {'type': 'Point', 'coordinates':...</td>\n",
       "      <td>POINT (-122.40113 37.78182)</td>\n",
       "    </tr>\n",
       "    <tr>\n",
       "      <th>1</th>\n",
       "      <td>school</td>\n",
       "      <td>San Francisco Unified School District</td>\n",
       "      <td>825 Shotwell St, San Francisco, CA 94110</td>\n",
       "      <td>348</td>\n",
       "      <td>37.780650</td>\n",
       "      <td>-122.400556</td>\n",
       "      <td>{'typepoint': {'type': 'Point', 'coordinates':...</td>\n",
       "      <td>POINT (-122.40056 37.78065)</td>\n",
       "    </tr>\n",
       "    <tr>\n",
       "      <th>2</th>\n",
       "      <td>school</td>\n",
       "      <td>American College of Early Childhood Education</td>\n",
       "      <td>760 Market St, San Francisco, CA 94102</td>\n",
       "      <td>503</td>\n",
       "      <td>37.786362</td>\n",
       "      <td>-122.405338</td>\n",
       "      <td>{'typepoint': {'type': 'Point', 'coordinates':...</td>\n",
       "      <td>POINT (-122.40534 37.78636)</td>\n",
       "    </tr>\n",
       "    <tr>\n",
       "      <th>3</th>\n",
       "      <td>school</td>\n",
       "      <td>Bessie Carmichael Elementary School</td>\n",
       "      <td>55 Sherman St, San Francisco, CA 94103</td>\n",
       "      <td>561</td>\n",
       "      <td>37.777146</td>\n",
       "      <td>-122.406228</td>\n",
       "      <td>{'typepoint': {'type': 'Point', 'coordinates':...</td>\n",
       "      <td>POINT (-122.40623 37.77715)</td>\n",
       "    </tr>\n",
       "    <tr>\n",
       "      <th>4</th>\n",
       "      <td>school</td>\n",
       "      <td>Bessie Carmichael Pre-K School</td>\n",
       "      <td>55 Sherman St, San Francisco, CA 94103</td>\n",
       "      <td>612</td>\n",
       "      <td>37.776734</td>\n",
       "      <td>-122.406491</td>\n",
       "      <td>{'typepoint': {'type': 'Point', 'coordinates':...</td>\n",
       "      <td>POINT (-122.40649 37.77673)</td>\n",
       "    </tr>\n",
       "  </tbody>\n",
       "</table>\n",
       "</div>"
      ],
      "text/plain": [
       "    query                                           name  \\\n",
       "0  school                          AltSchool Yerba Buena   \n",
       "1  school          San Francisco Unified School District   \n",
       "2  school  American College of Early Childhood Education   \n",
       "3  school            Bessie Carmichael Elementary School   \n",
       "4  school                 Bessie Carmichael Pre-K School   \n",
       "\n",
       "                                    address  distance        lat         lon  \\\n",
       "0       300 4th St, San Francisco, CA 94107       255  37.781815 -122.401127   \n",
       "1  825 Shotwell St, San Francisco, CA 94110       348  37.780650 -122.400556   \n",
       "2    760 Market St, San Francisco, CA 94102       503  37.786362 -122.405338   \n",
       "3    55 Sherman St, San Francisco, CA 94103       561  37.777146 -122.406228   \n",
       "4    55 Sherman St, San Francisco, CA 94103       612  37.776734 -122.406491   \n",
       "\n",
       "                                                type  \\\n",
       "0  {'typepoint': {'type': 'Point', 'coordinates':...   \n",
       "1  {'typepoint': {'type': 'Point', 'coordinates':...   \n",
       "2  {'typepoint': {'type': 'Point', 'coordinates':...   \n",
       "3  {'typepoint': {'type': 'Point', 'coordinates':...   \n",
       "4  {'typepoint': {'type': 'Point', 'coordinates':...   \n",
       "\n",
       "                      geometry  \n",
       "0  POINT (-122.40113 37.78182)  \n",
       "1  POINT (-122.40056 37.78065)  \n",
       "2  POINT (-122.40534 37.78636)  \n",
       "3  POINT (-122.40623 37.77715)  \n",
       "4  POINT (-122.40649 37.77673)  "
      ]
     },
     "execution_count": 24,
     "metadata": {},
     "output_type": "execute_result"
    }
   ],
   "source": [
    "sanfran_df.head()"
   ]
  },
  {
   "cell_type": "markdown",
   "id": "80404a1d",
   "metadata": {},
   "source": [
    "**Exporting dataset**"
   ]
  },
  {
   "cell_type": "code",
   "execution_count": 8,
   "id": "723dce07",
   "metadata": {},
   "outputs": [],
   "source": [
    "# sanfran_df.to_csv('../data/sanfrancisco_activities.csv', index = False)\n",
    "# sanfran_geodf.to_csv('../data/sanfrancisco_geo_activities.csv', index = False)"
   ]
  },
  {
   "cell_type": "markdown",
   "id": "98b3858a",
   "metadata": {},
   "source": [
    "## South San Francisco"
   ]
  },
  {
   "cell_type": "code",
   "execution_count": 9,
   "id": "8108dac4",
   "metadata": {},
   "outputs": [],
   "source": [
    "south_sanfran_df = fsq.getEverythingFoursquare(south_sanfran, token_fsq)"
   ]
  },
  {
   "cell_type": "code",
   "execution_count": 11,
   "id": "e5b6502d",
   "metadata": {},
   "outputs": [],
   "source": [
    "south_sanfran_geodf = fsq.geoDataframe(south_sanfran_df)"
   ]
  },
  {
   "cell_type": "code",
   "execution_count": 23,
   "id": "fecf79ac",
   "metadata": {},
   "outputs": [
    {
     "data": {
      "text/html": [
       "<div>\n",
       "<style scoped>\n",
       "    .dataframe tbody tr th:only-of-type {\n",
       "        vertical-align: middle;\n",
       "    }\n",
       "\n",
       "    .dataframe tbody tr th {\n",
       "        vertical-align: top;\n",
       "    }\n",
       "\n",
       "    .dataframe thead th {\n",
       "        text-align: right;\n",
       "    }\n",
       "</style>\n",
       "<table border=\"1\" class=\"dataframe\">\n",
       "  <thead>\n",
       "    <tr style=\"text-align: right;\">\n",
       "      <th></th>\n",
       "      <th>query</th>\n",
       "      <th>name</th>\n",
       "      <th>address</th>\n",
       "      <th>distance</th>\n",
       "      <th>lat</th>\n",
       "      <th>lon</th>\n",
       "      <th>type</th>\n",
       "      <th>geometry</th>\n",
       "    </tr>\n",
       "  </thead>\n",
       "  <tbody>\n",
       "    <tr>\n",
       "      <th>0</th>\n",
       "      <td>school</td>\n",
       "      <td>Martin Elementary School</td>\n",
       "      <td>35 School St, South San Francisco, CA 94080</td>\n",
       "      <td>1195</td>\n",
       "      <td>37.663471</td>\n",
       "      <td>-122.410062</td>\n",
       "      <td>{'typepoint': {'type': 'Point', 'coordinates':...</td>\n",
       "      <td>POINT (-122.41006 37.66347)</td>\n",
       "    </tr>\n",
       "    <tr>\n",
       "      <th>1</th>\n",
       "      <td>school</td>\n",
       "      <td>Academic Insight</td>\n",
       "      <td>325 Corey Way, South San Francisco, CA 94080</td>\n",
       "      <td>1259</td>\n",
       "      <td>37.644996</td>\n",
       "      <td>-122.401457</td>\n",
       "      <td>{'typepoint': {'type': 'Point', 'coordinates':...</td>\n",
       "      <td>POINT (-122.40146 37.64500)</td>\n",
       "    </tr>\n",
       "    <tr>\n",
       "      <th>2</th>\n",
       "      <td>school</td>\n",
       "      <td>All Souls Catholic School</td>\n",
       "      <td>479 Miller Ave (Spruce), South San Francisco, ...</td>\n",
       "      <td>1369</td>\n",
       "      <td>37.657254</td>\n",
       "      <td>-122.415280</td>\n",
       "      <td>{'typepoint': {'type': 'Point', 'coordinates':...</td>\n",
       "      <td>POINT (-122.41528 37.65725)</td>\n",
       "    </tr>\n",
       "    <tr>\n",
       "      <th>3</th>\n",
       "      <td>school</td>\n",
       "      <td>All Souls Catholic School</td>\n",
       "      <td>479 Miller Ave (Spruce), South San Francisco, ...</td>\n",
       "      <td>1369</td>\n",
       "      <td>37.657254</td>\n",
       "      <td>-122.415280</td>\n",
       "      <td>{'typepoint': {'type': 'Point', 'coordinates':...</td>\n",
       "      <td>POINT (-122.41528 37.65725)</td>\n",
       "    </tr>\n",
       "    <tr>\n",
       "      <th>4</th>\n",
       "      <td>school</td>\n",
       "      <td>Spruce Elementary School</td>\n",
       "      <td>501 Spruce Ave, South San Francisco, CA 94080</td>\n",
       "      <td>1408</td>\n",
       "      <td>37.658973</td>\n",
       "      <td>-122.416312</td>\n",
       "      <td>{'typepoint': {'type': 'Point', 'coordinates':...</td>\n",
       "      <td>POINT (-122.41631 37.65897)</td>\n",
       "    </tr>\n",
       "  </tbody>\n",
       "</table>\n",
       "</div>"
      ],
      "text/plain": [
       "    query                       name  \\\n",
       "0  school   Martin Elementary School   \n",
       "1  school           Academic Insight   \n",
       "2  school  All Souls Catholic School   \n",
       "3  school  All Souls Catholic School   \n",
       "4  school   Spruce Elementary School   \n",
       "\n",
       "                                             address  distance        lat  \\\n",
       "0        35 School St, South San Francisco, CA 94080      1195  37.663471   \n",
       "1       325 Corey Way, South San Francisco, CA 94080      1259  37.644996   \n",
       "2  479 Miller Ave (Spruce), South San Francisco, ...      1369  37.657254   \n",
       "3  479 Miller Ave (Spruce), South San Francisco, ...      1369  37.657254   \n",
       "4      501 Spruce Ave, South San Francisco, CA 94080      1408  37.658973   \n",
       "\n",
       "          lon                                               type  \\\n",
       "0 -122.410062  {'typepoint': {'type': 'Point', 'coordinates':...   \n",
       "1 -122.401457  {'typepoint': {'type': 'Point', 'coordinates':...   \n",
       "2 -122.415280  {'typepoint': {'type': 'Point', 'coordinates':...   \n",
       "3 -122.415280  {'typepoint': {'type': 'Point', 'coordinates':...   \n",
       "4 -122.416312  {'typepoint': {'type': 'Point', 'coordinates':...   \n",
       "\n",
       "                      geometry  \n",
       "0  POINT (-122.41006 37.66347)  \n",
       "1  POINT (-122.40146 37.64500)  \n",
       "2  POINT (-122.41528 37.65725)  \n",
       "3  POINT (-122.41528 37.65725)  \n",
       "4  POINT (-122.41631 37.65897)  "
      ]
     },
     "execution_count": 23,
     "metadata": {},
     "output_type": "execute_result"
    }
   ],
   "source": [
    "south_sanfran_df.head()"
   ]
  },
  {
   "cell_type": "markdown",
   "id": "72697bc7",
   "metadata": {},
   "source": [
    "**Exporting dataset**"
   ]
  },
  {
   "cell_type": "code",
   "execution_count": 12,
   "id": "2e353634",
   "metadata": {},
   "outputs": [],
   "source": [
    "# south_sanfran_df.to_csv('../data/south_sanfrancisco_activities.csv', index = False)\n",
    "# south_sanfran_geodf.to_csv('../data/south_sanfrancisco_geo_activities.csv', index = False)"
   ]
  },
  {
   "cell_type": "markdown",
   "id": "ea707eda",
   "metadata": {},
   "source": [
    "## New York"
   ]
  },
  {
   "cell_type": "code",
   "execution_count": 13,
   "id": "a0c9d7cc",
   "metadata": {},
   "outputs": [],
   "source": [
    "newyork_df = fsq.getEverythingFoursquare(newyork, token_fsq)"
   ]
  },
  {
   "cell_type": "code",
   "execution_count": 15,
   "id": "9695d1bc",
   "metadata": {},
   "outputs": [],
   "source": [
    "newyork_geodf = fsq.geoDataframe(newyork_df)"
   ]
  },
  {
   "cell_type": "code",
   "execution_count": 22,
   "id": "deb88db0",
   "metadata": {
    "scrolled": true
   },
   "outputs": [
    {
     "data": {
      "text/html": [
       "<div>\n",
       "<style scoped>\n",
       "    .dataframe tbody tr th:only-of-type {\n",
       "        vertical-align: middle;\n",
       "    }\n",
       "\n",
       "    .dataframe tbody tr th {\n",
       "        vertical-align: top;\n",
       "    }\n",
       "\n",
       "    .dataframe thead th {\n",
       "        text-align: right;\n",
       "    }\n",
       "</style>\n",
       "<table border=\"1\" class=\"dataframe\">\n",
       "  <thead>\n",
       "    <tr style=\"text-align: right;\">\n",
       "      <th></th>\n",
       "      <th>query</th>\n",
       "      <th>name</th>\n",
       "      <th>address</th>\n",
       "      <th>distance</th>\n",
       "      <th>lat</th>\n",
       "      <th>lon</th>\n",
       "      <th>type</th>\n",
       "      <th>geometry</th>\n",
       "    </tr>\n",
       "  </thead>\n",
       "  <tbody>\n",
       "    <tr>\n",
       "      <th>0</th>\n",
       "      <td>school</td>\n",
       "      <td>Holocaust Education Foundation</td>\n",
       "      <td>20 W 20th St, New York, NY 10011</td>\n",
       "      <td>52</td>\n",
       "      <td>40.740084</td>\n",
       "      <td>-73.992460</td>\n",
       "      <td>{'typepoint': {'type': 'Point', 'coordinates':...</td>\n",
       "      <td>POINT (-73.99246 40.74008)</td>\n",
       "    </tr>\n",
       "    <tr>\n",
       "      <th>1</th>\n",
       "      <td>school</td>\n",
       "      <td>Victory Schools</td>\n",
       "      <td>18 W 18th St, New York, NY 10011</td>\n",
       "      <td>118</td>\n",
       "      <td>40.738875</td>\n",
       "      <td>-73.993286</td>\n",
       "      <td>{'typepoint': {'type': 'Point', 'coordinates':...</td>\n",
       "      <td>POINT (-73.99329 40.73888)</td>\n",
       "    </tr>\n",
       "    <tr>\n",
       "      <th>2</th>\n",
       "      <td>school</td>\n",
       "      <td>Ps 340</td>\n",
       "      <td>590 Avenue of the Americas (17th St.), New Yor...</td>\n",
       "      <td>203</td>\n",
       "      <td>40.739036</td>\n",
       "      <td>-73.995301</td>\n",
       "      <td>{'typepoint': {'type': 'Point', 'coordinates':...</td>\n",
       "      <td>POINT (-73.99530 40.73904)</td>\n",
       "    </tr>\n",
       "    <tr>\n",
       "      <th>3</th>\n",
       "      <td>school</td>\n",
       "      <td>Kane School Of Core Integration</td>\n",
       "      <td>7 E 17th St, New York, NY 10003</td>\n",
       "      <td>256</td>\n",
       "      <td>40.737837</td>\n",
       "      <td>-73.991761</td>\n",
       "      <td>{'typepoint': {'type': 'Point', 'coordinates':...</td>\n",
       "      <td>POINT (-73.99176 40.73784)</td>\n",
       "    </tr>\n",
       "    <tr>\n",
       "      <th>4</th>\n",
       "      <td>school</td>\n",
       "      <td>Shield Institute</td>\n",
       "      <td>114 W 17th St, New York, NY 10011</td>\n",
       "      <td>277</td>\n",
       "      <td>40.739441</td>\n",
       "      <td>-73.996278</td>\n",
       "      <td>{'typepoint': {'type': 'Point', 'coordinates':...</td>\n",
       "      <td>POINT (-73.99628 40.73944)</td>\n",
       "    </tr>\n",
       "  </tbody>\n",
       "</table>\n",
       "</div>"
      ],
      "text/plain": [
       "    query                             name  \\\n",
       "0  school   Holocaust Education Foundation   \n",
       "1  school                  Victory Schools   \n",
       "2  school                           Ps 340   \n",
       "3  school  Kane School Of Core Integration   \n",
       "4  school                 Shield Institute   \n",
       "\n",
       "                                             address  distance        lat  \\\n",
       "0                   20 W 20th St, New York, NY 10011        52  40.740084   \n",
       "1                   18 W 18th St, New York, NY 10011       118  40.738875   \n",
       "2  590 Avenue of the Americas (17th St.), New Yor...       203  40.739036   \n",
       "3                    7 E 17th St, New York, NY 10003       256  40.737837   \n",
       "4                  114 W 17th St, New York, NY 10011       277  40.739441   \n",
       "\n",
       "         lon                                               type  \\\n",
       "0 -73.992460  {'typepoint': {'type': 'Point', 'coordinates':...   \n",
       "1 -73.993286  {'typepoint': {'type': 'Point', 'coordinates':...   \n",
       "2 -73.995301  {'typepoint': {'type': 'Point', 'coordinates':...   \n",
       "3 -73.991761  {'typepoint': {'type': 'Point', 'coordinates':...   \n",
       "4 -73.996278  {'typepoint': {'type': 'Point', 'coordinates':...   \n",
       "\n",
       "                     geometry  \n",
       "0  POINT (-73.99246 40.74008)  \n",
       "1  POINT (-73.99329 40.73888)  \n",
       "2  POINT (-73.99530 40.73904)  \n",
       "3  POINT (-73.99176 40.73784)  \n",
       "4  POINT (-73.99628 40.73944)  "
      ]
     },
     "execution_count": 22,
     "metadata": {},
     "output_type": "execute_result"
    }
   ],
   "source": [
    "newyork_df.head()"
   ]
  },
  {
   "cell_type": "markdown",
   "id": "eda57bdc",
   "metadata": {},
   "source": [
    "**Exporting dataset**"
   ]
  },
  {
   "cell_type": "code",
   "execution_count": 16,
   "id": "81393aaa",
   "metadata": {},
   "outputs": [],
   "source": [
    "# newyork_df.to_csv('../data/newyork_activities.csv', index = False)\n",
    "# newyork_geodf.to_csv('../data/newyork_geo_activities.csv', index = False)"
   ]
  },
  {
   "cell_type": "markdown",
   "id": "8bbd52f0",
   "metadata": {},
   "source": [
    "## London"
   ]
  },
  {
   "cell_type": "code",
   "execution_count": 17,
   "id": "ab54ccd8",
   "metadata": {},
   "outputs": [],
   "source": [
    "london_df = fsq.getEverythingFoursquare(london, token_fsq)"
   ]
  },
  {
   "cell_type": "code",
   "execution_count": 19,
   "id": "c80557e6",
   "metadata": {},
   "outputs": [],
   "source": [
    "london_geodf = fsq.geoDataframe(london_df)"
   ]
  },
  {
   "cell_type": "code",
   "execution_count": 21,
   "id": "fe86af36",
   "metadata": {},
   "outputs": [
    {
     "data": {
      "text/html": [
       "<div>\n",
       "<style scoped>\n",
       "    .dataframe tbody tr th:only-of-type {\n",
       "        vertical-align: middle;\n",
       "    }\n",
       "\n",
       "    .dataframe tbody tr th {\n",
       "        vertical-align: top;\n",
       "    }\n",
       "\n",
       "    .dataframe thead th {\n",
       "        text-align: right;\n",
       "    }\n",
       "</style>\n",
       "<table border=\"1\" class=\"dataframe\">\n",
       "  <thead>\n",
       "    <tr style=\"text-align: right;\">\n",
       "      <th></th>\n",
       "      <th>query</th>\n",
       "      <th>name</th>\n",
       "      <th>address</th>\n",
       "      <th>distance</th>\n",
       "      <th>lat</th>\n",
       "      <th>lon</th>\n",
       "      <th>type</th>\n",
       "      <th>geometry</th>\n",
       "    </tr>\n",
       "  </thead>\n",
       "  <tbody>\n",
       "    <tr>\n",
       "      <th>0</th>\n",
       "      <td>school</td>\n",
       "      <td>St Albans Primary School</td>\n",
       "      <td>Baldwins Gardens, London, EC1N 7SD</td>\n",
       "      <td>681</td>\n",
       "      <td>51.520223</td>\n",
       "      <td>-0.110579</td>\n",
       "      <td>{'typepoint': {'type': 'Point', 'coordinates':...</td>\n",
       "      <td>POINT (-0.11058 51.52022)</td>\n",
       "    </tr>\n",
       "    <tr>\n",
       "      <th>1</th>\n",
       "      <td>school</td>\n",
       "      <td>St Clement Danes C of E Primary School</td>\n",
       "      <td>Drury Lane, London, Greater London, WC2B 5SU</td>\n",
       "      <td>732</td>\n",
       "      <td>51.513546</td>\n",
       "      <td>-0.119311</td>\n",
       "      <td>{'typepoint': {'type': 'Point', 'coordinates':...</td>\n",
       "      <td>POINT (-0.11931 51.51355)</td>\n",
       "    </tr>\n",
       "    <tr>\n",
       "      <th>2</th>\n",
       "      <td>school</td>\n",
       "      <td>St Josephs R C Primary School</td>\n",
       "      <td>Macklin St, London, WC2B 5NA</td>\n",
       "      <td>921</td>\n",
       "      <td>51.516073</td>\n",
       "      <td>-0.121987</td>\n",
       "      <td>{'typepoint': {'type': 'Point', 'coordinates':...</td>\n",
       "      <td>POINT (-0.12199 51.51607)</td>\n",
       "    </tr>\n",
       "    <tr>\n",
       "      <th>3</th>\n",
       "      <td>school</td>\n",
       "      <td>Christopher Hatton Primary School</td>\n",
       "      <td>38 Laystall St, London, Greater London, EC1R 4PQ</td>\n",
       "      <td>985</td>\n",
       "      <td>51.522687</td>\n",
       "      <td>-0.112286</td>\n",
       "      <td>{'typepoint': {'type': 'Point', 'coordinates':...</td>\n",
       "      <td>POINT (-0.11229 51.52269)</td>\n",
       "    </tr>\n",
       "    <tr>\n",
       "      <th>4</th>\n",
       "      <td>school</td>\n",
       "      <td>The British School, Tehran</td>\n",
       "      <td>Devonshire House, 60 Goswell Rd, London, EC1M 7AD</td>\n",
       "      <td>1259</td>\n",
       "      <td>51.523182</td>\n",
       "      <td>-0.097971</td>\n",
       "      <td>{'typepoint': {'type': 'Point', 'coordinates':...</td>\n",
       "      <td>POINT (-0.09797 51.52318)</td>\n",
       "    </tr>\n",
       "  </tbody>\n",
       "</table>\n",
       "</div>"
      ],
      "text/plain": [
       "    query                                    name  \\\n",
       "0  school                St Albans Primary School   \n",
       "1  school  St Clement Danes C of E Primary School   \n",
       "2  school           St Josephs R C Primary School   \n",
       "3  school       Christopher Hatton Primary School   \n",
       "4  school              The British School, Tehran   \n",
       "\n",
       "                                             address  distance        lat  \\\n",
       "0                 Baldwins Gardens, London, EC1N 7SD       681  51.520223   \n",
       "1       Drury Lane, London, Greater London, WC2B 5SU       732  51.513546   \n",
       "2                       Macklin St, London, WC2B 5NA       921  51.516073   \n",
       "3   38 Laystall St, London, Greater London, EC1R 4PQ       985  51.522687   \n",
       "4  Devonshire House, 60 Goswell Rd, London, EC1M 7AD      1259  51.523182   \n",
       "\n",
       "        lon                                               type  \\\n",
       "0 -0.110579  {'typepoint': {'type': 'Point', 'coordinates':...   \n",
       "1 -0.119311  {'typepoint': {'type': 'Point', 'coordinates':...   \n",
       "2 -0.121987  {'typepoint': {'type': 'Point', 'coordinates':...   \n",
       "3 -0.112286  {'typepoint': {'type': 'Point', 'coordinates':...   \n",
       "4 -0.097971  {'typepoint': {'type': 'Point', 'coordinates':...   \n",
       "\n",
       "                    geometry  \n",
       "0  POINT (-0.11058 51.52022)  \n",
       "1  POINT (-0.11931 51.51355)  \n",
       "2  POINT (-0.12199 51.51607)  \n",
       "3  POINT (-0.11229 51.52269)  \n",
       "4  POINT (-0.09797 51.52318)  "
      ]
     },
     "execution_count": 21,
     "metadata": {},
     "output_type": "execute_result"
    }
   ],
   "source": [
    "london_df.head()"
   ]
  },
  {
   "cell_type": "markdown",
   "id": "9db45727",
   "metadata": {},
   "source": [
    "**Exporting dataset**"
   ]
  },
  {
   "cell_type": "code",
   "execution_count": 20,
   "id": "b0e8c7ed",
   "metadata": {},
   "outputs": [],
   "source": [
    "# london_df.to_csv('../data/london_activities.csv', index = False)\n",
    "# london_geodf.to_csv('../data/london_geo_activities.csv', index = False)"
   ]
  }
 ],
 "metadata": {
  "kernelspec": {
   "display_name": "Python 3 (ipykernel)",
   "language": "python",
   "name": "python3"
  },
  "language_info": {
   "codemirror_mode": {
    "name": "ipython",
    "version": 3
   },
   "file_extension": ".py",
   "mimetype": "text/x-python",
   "name": "python",
   "nbconvert_exporter": "python",
   "pygments_lexer": "ipython3",
   "version": "3.9.13"
  },
  "toc": {
   "base_numbering": 1,
   "nav_menu": {},
   "number_sections": true,
   "sideBar": true,
   "skip_h1_title": false,
   "title_cell": "Table of Contents",
   "title_sidebar": "Contents",
   "toc_cell": false,
   "toc_position": {},
   "toc_section_display": true,
   "toc_window_display": false
  }
 },
 "nbformat": 4,
 "nbformat_minor": 5
}
