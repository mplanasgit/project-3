{
 "cells": [
  {
   "cell_type": "markdown",
   "id": "ee93922b",
   "metadata": {},
   "source": [
    "**Notebook to compare the different cities**\n",
    "\n",
    "---\n"
   ]
  },
  {
   "cell_type": "markdown",
   "id": "8f51ebf1",
   "metadata": {},
   "source": [
    "**Libraries**"
   ]
  },
  {
   "cell_type": "code",
   "execution_count": 1,
   "id": "a7dd2a77",
   "metadata": {},
   "outputs": [],
   "source": [
    "import operation as op\n",
    "import os\n",
    "import pandas as pd\n",
    "import math\n",
    "import seaborn as sns\n",
    "import matplotlib.pyplot as plt\n",
    "# Matplotlib inline to visualize Matplotlib graphs\n",
    "%matplotlib inline\n",
    "%config Inlinebackend.figure_format= 'retina'\n",
    "sns.set_style('whitegrid')"
   ]
  },
  {
   "cell_type": "markdown",
   "id": "c072882c",
   "metadata": {},
   "source": [
    "**Datasets**"
   ]
  },
  {
   "cell_type": "code",
   "execution_count": 2,
   "id": "332259cf",
   "metadata": {},
   "outputs": [],
   "source": [
    "# Companies datasets:\n",
    "sanfran_companies = pd.read_csv('../data/companies_sanfrancisco.csv')\n",
    "newyork_companies = pd.read_csv('../data/companies_newyork.csv')\n",
    "london_companies = pd.read_csv('../data/companies_london.csv')\n",
    "south_sanfran_companies = pd.read_csv('../data/companies_south_sanfrancisco.csv')"
   ]
  },
  {
   "cell_type": "code",
   "execution_count": 3,
   "id": "07396c35",
   "metadata": {},
   "outputs": [],
   "source": [
    "# Activities/categories datasets:\n",
    "sanfran_activities = pd.read_csv(\"../data/sanfrancisco_activities.csv\")\n",
    "south_sanfran_activities = pd.read_csv(\"../data/south_sanfrancisco_activities.csv\")\n",
    "newyork_activities = pd.read_csv(\"../data/newyork_activities.csv\")\n",
    "london_activities = pd.read_csv(\"../data/london_activities.csv\")"
   ]
  },
  {
   "cell_type": "markdown",
   "id": "bf450c82",
   "metadata": {},
   "source": [
    "**Coordinates**"
   ]
  },
  {
   "cell_type": "code",
   "execution_count": 4,
   "id": "e11f8f54",
   "metadata": {},
   "outputs": [],
   "source": [
    "# Original, my company's coordinates\n",
    "sanfran_coord = [37.781929, -122.404176]\n",
    "south_sanfran_coord = [37.656246, -122.399735]\n",
    "newyork_coord = [40.739930, -73.993049]\n",
    "london_coord = [51.514165, -0.109017]"
   ]
  },
  {
   "cell_type": "code",
   "execution_count": 5,
   "id": "aff18a1d",
   "metadata": {},
   "outputs": [],
   "source": [
    "# Transformed for the distance function\n",
    "sanfran_hav = sanfran_coord[::-1]\n",
    "south_sanfran_hav = south_sanfran_coord[::-1]\n",
    "newyork_hav = newyork_coord[::-1]\n",
    "london_hav = london_coord[::-1]"
   ]
  },
  {
   "cell_type": "markdown",
   "id": "5e460ae9",
   "metadata": {},
   "source": [
    "---"
   ]
  },
  {
   "cell_type": "markdown",
   "id": "27a126c1",
   "metadata": {},
   "source": [
    "# Weighted distances table by City"
   ]
  },
  {
   "cell_type": "markdown",
   "id": "55ba4c3d",
   "metadata": {},
   "source": [
    "## Calculating distances"
   ]
  },
  {
   "cell_type": "markdown",
   "id": "1b5585d8",
   "metadata": {},
   "source": [
    "**Calculating the distance between my company and the gaming-tech-design companies.**"
   ]
  },
  {
   "cell_type": "code",
   "execution_count": 6,
   "id": "b34311f3",
   "metadata": {},
   "outputs": [],
   "source": [
    "sanfran_companies_dist = op.addDistanceHaversine(sanfran_companies, sanfran_hav)\n",
    "south_sanfran_companies_dist = op.addDistanceHaversine(south_sanfran_companies, south_sanfran_hav)\n",
    "newyork_companies_dist = op.addDistanceHaversine(newyork_companies, newyork_hav)\n",
    "london_companies_dist = op.addDistanceHaversine(london_companies, london_hav)"
   ]
  },
  {
   "cell_type": "markdown",
   "id": "f95e2af8",
   "metadata": {},
   "source": [
    "**Exporting tables for map visualization**"
   ]
  },
  {
   "cell_type": "code",
   "execution_count": 7,
   "id": "2164ed82",
   "metadata": {},
   "outputs": [],
   "source": [
    "# Renaming the columns\n",
    "sanfran_companies_dist = op.renameColumns(sanfran_companies_dist)\n",
    "newyork_companies_dist = op.renameColumns(newyork_companies_dist)\n",
    "london_companies_dist = op.renameColumns(london_companies_dist)\n",
    "south_sanfran_companies_dist = op.renameColumns(south_sanfran_companies_dist)"
   ]
  },
  {
   "cell_type": "code",
   "execution_count": 8,
   "id": "afe0d4e6",
   "metadata": {},
   "outputs": [],
   "source": [
    "# Exporting\n",
    "sanfran_companies_dist.to_csv('../data/companies_sanfrancisco_map.csv', index = False)\n",
    "newyork_companies_dist.to_csv('../data/companies_newyork_map.csv', index = False)\n",
    "london_companies_dist.to_csv('../data/companies_london_map.csv', index = False)\n",
    "south_sanfran_companies_dist.to_csv('../data/companies_south_sanfrancisco_map.csv', index = False)"
   ]
  },
  {
   "cell_type": "markdown",
   "id": "15367c8e",
   "metadata": {},
   "source": [
    "## Establishing the weights"
   ]
  },
  {
   "cell_type": "markdown",
   "id": "3f6843d2",
   "metadata": {},
   "source": [
    "**Establishing the weights and radius (used for penalizing NaN) for each activity/category**"
   ]
  },
  {
   "cell_type": "code",
   "execution_count": 9,
   "id": "f1a5f99f",
   "metadata": {},
   "outputs": [],
   "source": [
    "category_weight = {\"airport\" : 0.01,\n",
    "                    \"basketball\" : 0.05,\n",
    "                    \"club\" : 0.1,\n",
    "                    \"dog hairdresser\" : 0.04,\n",
    "                    \"school\" : 0.3,\n",
    "                    \"starbucks\" : 0.2,\n",
    "                    \"vegan restaurant\" : 0.1,\n",
    "                    \"companies nearby\" : 0.2}"
   ]
  },
  {
   "cell_type": "code",
   "execution_count": 10,
   "id": "df08f5e2",
   "metadata": {},
   "outputs": [],
   "source": [
    "category_radius = {\"airport\" : 50000,\n",
    "                    \"basketball\" : 10000,\n",
    "                    \"club\" : 2000,\n",
    "                    \"dog hairdresser\" : 10000,\n",
    "                    \"school\" : 2000,\n",
    "                    \"starbucks\" : 2000,\n",
    "                    \"vegan restaurant\" : 2000,\n",
    "                    \"companies nearby\" : 5000}"
   ]
  },
  {
   "cell_type": "markdown",
   "id": "70b579c8",
   "metadata": {},
   "source": [
    "## Applying the functions to calculate the weighted distance for each city"
   ]
  },
  {
   "cell_type": "markdown",
   "id": "262444b5",
   "metadata": {},
   "source": [
    "- **San Francisco**"
   ]
  },
  {
   "cell_type": "code",
   "execution_count": 11,
   "id": "f30397b7",
   "metadata": {},
   "outputs": [
    {
     "data": {
      "text/html": [
       "<div>\n",
       "<style scoped>\n",
       "    .dataframe tbody tr th:only-of-type {\n",
       "        vertical-align: middle;\n",
       "    }\n",
       "\n",
       "    .dataframe tbody tr th {\n",
       "        vertical-align: top;\n",
       "    }\n",
       "\n",
       "    .dataframe thead th {\n",
       "        text-align: right;\n",
       "    }\n",
       "</style>\n",
       "<table border=\"1\" class=\"dataframe\">\n",
       "  <thead>\n",
       "    <tr style=\"text-align: right;\">\n",
       "      <th></th>\n",
       "      <th>query</th>\n",
       "      <th>weight</th>\n",
       "      <th>radius</th>\n",
       "      <th>counts</th>\n",
       "      <th>sum_distance</th>\n",
       "      <th>avg_distance</th>\n",
       "      <th>weighted_avg_distance</th>\n",
       "    </tr>\n",
       "  </thead>\n",
       "  <tbody>\n",
       "    <tr>\n",
       "      <th>0</th>\n",
       "      <td>airport</td>\n",
       "      <td>0.01</td>\n",
       "      <td>50000.0</td>\n",
       "      <td>2</td>\n",
       "      <td>36893</td>\n",
       "      <td>18446.5</td>\n",
       "      <td>184.5</td>\n",
       "    </tr>\n",
       "    <tr>\n",
       "      <th>1</th>\n",
       "      <td>basketball</td>\n",
       "      <td>0.05</td>\n",
       "      <td>10000.0</td>\n",
       "      <td>4</td>\n",
       "      <td>11052</td>\n",
       "      <td>2763.0</td>\n",
       "      <td>138.2</td>\n",
       "    </tr>\n",
       "    <tr>\n",
       "      <th>2</th>\n",
       "      <td>club</td>\n",
       "      <td>0.10</td>\n",
       "      <td>2000.0</td>\n",
       "      <td>5</td>\n",
       "      <td>1869</td>\n",
       "      <td>373.8</td>\n",
       "      <td>37.4</td>\n",
       "    </tr>\n",
       "    <tr>\n",
       "      <th>3</th>\n",
       "      <td>dog hairdresser</td>\n",
       "      <td>0.04</td>\n",
       "      <td>10000.0</td>\n",
       "      <td>2</td>\n",
       "      <td>4118</td>\n",
       "      <td>2059.0</td>\n",
       "      <td>82.4</td>\n",
       "    </tr>\n",
       "    <tr>\n",
       "      <th>4</th>\n",
       "      <td>school</td>\n",
       "      <td>0.30</td>\n",
       "      <td>2000.0</td>\n",
       "      <td>5</td>\n",
       "      <td>2279</td>\n",
       "      <td>455.8</td>\n",
       "      <td>136.7</td>\n",
       "    </tr>\n",
       "    <tr>\n",
       "      <th>5</th>\n",
       "      <td>starbucks</td>\n",
       "      <td>0.20</td>\n",
       "      <td>2000.0</td>\n",
       "      <td>5</td>\n",
       "      <td>1916</td>\n",
       "      <td>383.2</td>\n",
       "      <td>76.6</td>\n",
       "    </tr>\n",
       "    <tr>\n",
       "      <th>6</th>\n",
       "      <td>vegan restaurant</td>\n",
       "      <td>0.10</td>\n",
       "      <td>2000.0</td>\n",
       "      <td>5</td>\n",
       "      <td>2780</td>\n",
       "      <td>556.0</td>\n",
       "      <td>55.6</td>\n",
       "    </tr>\n",
       "    <tr>\n",
       "      <th>7</th>\n",
       "      <td>companies nearby</td>\n",
       "      <td>0.20</td>\n",
       "      <td>5000.0</td>\n",
       "      <td>24</td>\n",
       "      <td>28282</td>\n",
       "      <td>1178.4</td>\n",
       "      <td>235.7</td>\n",
       "    </tr>\n",
       "  </tbody>\n",
       "</table>\n",
       "</div>"
      ],
      "text/plain": [
       "              query  weight   radius  counts  sum_distance  avg_distance  \\\n",
       "0           airport    0.01  50000.0       2         36893       18446.5   \n",
       "1        basketball    0.05  10000.0       4         11052        2763.0   \n",
       "2              club    0.10   2000.0       5          1869         373.8   \n",
       "3   dog hairdresser    0.04  10000.0       2          4118        2059.0   \n",
       "4            school    0.30   2000.0       5          2279         455.8   \n",
       "5         starbucks    0.20   2000.0       5          1916         383.2   \n",
       "6  vegan restaurant    0.10   2000.0       5          2780         556.0   \n",
       "7  companies nearby    0.20   5000.0      24         28282        1178.4   \n",
       "\n",
       "   weighted_avg_distance  \n",
       "0                  184.5  \n",
       "1                  138.2  \n",
       "2                   37.4  \n",
       "3                   82.4  \n",
       "4                  136.7  \n",
       "5                   76.6  \n",
       "6                   55.6  \n",
       "7                  235.7  "
      ]
     },
     "execution_count": 11,
     "metadata": {},
     "output_type": "execute_result"
    }
   ],
   "source": [
    "sanfran_concat = op.concatDataframes(sanfran_activities, sanfran_companies_dist)\n",
    "sanfran_t = op.createSummaryTable(sanfran_concat, category_weight, category_radius)\n",
    "sanfran_t"
   ]
  },
  {
   "cell_type": "markdown",
   "id": "3b409bcc",
   "metadata": {},
   "source": [
    "- **South San Francisco**"
   ]
  },
  {
   "cell_type": "code",
   "execution_count": 12,
   "id": "ec7857bb",
   "metadata": {},
   "outputs": [
    {
     "data": {
      "text/html": [
       "<div>\n",
       "<style scoped>\n",
       "    .dataframe tbody tr th:only-of-type {\n",
       "        vertical-align: middle;\n",
       "    }\n",
       "\n",
       "    .dataframe tbody tr th {\n",
       "        vertical-align: top;\n",
       "    }\n",
       "\n",
       "    .dataframe thead th {\n",
       "        text-align: right;\n",
       "    }\n",
       "</style>\n",
       "<table border=\"1\" class=\"dataframe\">\n",
       "  <thead>\n",
       "    <tr style=\"text-align: right;\">\n",
       "      <th></th>\n",
       "      <th>query</th>\n",
       "      <th>weight</th>\n",
       "      <th>radius</th>\n",
       "      <th>counts</th>\n",
       "      <th>sum_distance</th>\n",
       "      <th>avg_distance</th>\n",
       "      <th>weighted_avg_distance</th>\n",
       "    </tr>\n",
       "  </thead>\n",
       "  <tbody>\n",
       "    <tr>\n",
       "      <th>0</th>\n",
       "      <td>airport</td>\n",
       "      <td>0.01</td>\n",
       "      <td>50000.0</td>\n",
       "      <td>4.0</td>\n",
       "      <td>44084.0</td>\n",
       "      <td>11021.0</td>\n",
       "      <td>110.2</td>\n",
       "    </tr>\n",
       "    <tr>\n",
       "      <th>1</th>\n",
       "      <td>basketball</td>\n",
       "      <td>0.05</td>\n",
       "      <td>10000.0</td>\n",
       "      <td>NaN</td>\n",
       "      <td>NaN</td>\n",
       "      <td>10000.0</td>\n",
       "      <td>500.0</td>\n",
       "    </tr>\n",
       "    <tr>\n",
       "      <th>2</th>\n",
       "      <td>club</td>\n",
       "      <td>0.10</td>\n",
       "      <td>2000.0</td>\n",
       "      <td>2.0</td>\n",
       "      <td>2060.0</td>\n",
       "      <td>1030.0</td>\n",
       "      <td>103.0</td>\n",
       "    </tr>\n",
       "    <tr>\n",
       "      <th>3</th>\n",
       "      <td>dog hairdresser</td>\n",
       "      <td>0.04</td>\n",
       "      <td>10000.0</td>\n",
       "      <td>NaN</td>\n",
       "      <td>NaN</td>\n",
       "      <td>10000.0</td>\n",
       "      <td>400.0</td>\n",
       "    </tr>\n",
       "    <tr>\n",
       "      <th>4</th>\n",
       "      <td>school</td>\n",
       "      <td>0.30</td>\n",
       "      <td>2000.0</td>\n",
       "      <td>5.0</td>\n",
       "      <td>6862.0</td>\n",
       "      <td>1372.4</td>\n",
       "      <td>411.7</td>\n",
       "    </tr>\n",
       "    <tr>\n",
       "      <th>5</th>\n",
       "      <td>starbucks</td>\n",
       "      <td>0.20</td>\n",
       "      <td>2000.0</td>\n",
       "      <td>3.0</td>\n",
       "      <td>2265.0</td>\n",
       "      <td>755.0</td>\n",
       "      <td>151.0</td>\n",
       "    </tr>\n",
       "    <tr>\n",
       "      <th>6</th>\n",
       "      <td>vegan restaurant</td>\n",
       "      <td>0.10</td>\n",
       "      <td>2000.0</td>\n",
       "      <td>2.0</td>\n",
       "      <td>1709.0</td>\n",
       "      <td>854.5</td>\n",
       "      <td>85.4</td>\n",
       "    </tr>\n",
       "    <tr>\n",
       "      <th>7</th>\n",
       "      <td>companies nearby</td>\n",
       "      <td>0.20</td>\n",
       "      <td>5000.0</td>\n",
       "      <td>7.0</td>\n",
       "      <td>10959.0</td>\n",
       "      <td>1565.6</td>\n",
       "      <td>313.1</td>\n",
       "    </tr>\n",
       "  </tbody>\n",
       "</table>\n",
       "</div>"
      ],
      "text/plain": [
       "              query  weight   radius  counts  sum_distance  avg_distance  \\\n",
       "0           airport    0.01  50000.0     4.0       44084.0       11021.0   \n",
       "1        basketball    0.05  10000.0     NaN           NaN       10000.0   \n",
       "2              club    0.10   2000.0     2.0        2060.0        1030.0   \n",
       "3   dog hairdresser    0.04  10000.0     NaN           NaN       10000.0   \n",
       "4            school    0.30   2000.0     5.0        6862.0        1372.4   \n",
       "5         starbucks    0.20   2000.0     3.0        2265.0         755.0   \n",
       "6  vegan restaurant    0.10   2000.0     2.0        1709.0         854.5   \n",
       "7  companies nearby    0.20   5000.0     7.0       10959.0        1565.6   \n",
       "\n",
       "   weighted_avg_distance  \n",
       "0                  110.2  \n",
       "1                  500.0  \n",
       "2                  103.0  \n",
       "3                  400.0  \n",
       "4                  411.7  \n",
       "5                  151.0  \n",
       "6                   85.4  \n",
       "7                  313.1  "
      ]
     },
     "execution_count": 12,
     "metadata": {},
     "output_type": "execute_result"
    }
   ],
   "source": [
    "south_sanfran_concat = op.concatDataframes(south_sanfran_activities, south_sanfran_companies_dist)\n",
    "south_sanfran_t = op.createSummaryTable(south_sanfran_concat, category_weight, category_radius)\n",
    "south_sanfran_t"
   ]
  },
  {
   "cell_type": "markdown",
   "id": "3a2d4095",
   "metadata": {},
   "source": [
    "- **New York**"
   ]
  },
  {
   "cell_type": "code",
   "execution_count": 13,
   "id": "c30240bd",
   "metadata": {},
   "outputs": [
    {
     "data": {
      "text/html": [
       "<div>\n",
       "<style scoped>\n",
       "    .dataframe tbody tr th:only-of-type {\n",
       "        vertical-align: middle;\n",
       "    }\n",
       "\n",
       "    .dataframe tbody tr th {\n",
       "        vertical-align: top;\n",
       "    }\n",
       "\n",
       "    .dataframe thead th {\n",
       "        text-align: right;\n",
       "    }\n",
       "</style>\n",
       "<table border=\"1\" class=\"dataframe\">\n",
       "  <thead>\n",
       "    <tr style=\"text-align: right;\">\n",
       "      <th></th>\n",
       "      <th>query</th>\n",
       "      <th>weight</th>\n",
       "      <th>radius</th>\n",
       "      <th>counts</th>\n",
       "      <th>sum_distance</th>\n",
       "      <th>avg_distance</th>\n",
       "      <th>weighted_avg_distance</th>\n",
       "    </tr>\n",
       "  </thead>\n",
       "  <tbody>\n",
       "    <tr>\n",
       "      <th>0</th>\n",
       "      <td>airport</td>\n",
       "      <td>0.01</td>\n",
       "      <td>50000.0</td>\n",
       "      <td>3</td>\n",
       "      <td>47988</td>\n",
       "      <td>15996.0</td>\n",
       "      <td>160.0</td>\n",
       "    </tr>\n",
       "    <tr>\n",
       "      <th>1</th>\n",
       "      <td>basketball</td>\n",
       "      <td>0.05</td>\n",
       "      <td>10000.0</td>\n",
       "      <td>5</td>\n",
       "      <td>20903</td>\n",
       "      <td>4180.6</td>\n",
       "      <td>209.0</td>\n",
       "    </tr>\n",
       "    <tr>\n",
       "      <th>2</th>\n",
       "      <td>club</td>\n",
       "      <td>0.10</td>\n",
       "      <td>2000.0</td>\n",
       "      <td>5</td>\n",
       "      <td>1339</td>\n",
       "      <td>267.8</td>\n",
       "      <td>26.8</td>\n",
       "    </tr>\n",
       "    <tr>\n",
       "      <th>3</th>\n",
       "      <td>dog hairdresser</td>\n",
       "      <td>0.04</td>\n",
       "      <td>10000.0</td>\n",
       "      <td>5</td>\n",
       "      <td>22480</td>\n",
       "      <td>4496.0</td>\n",
       "      <td>179.8</td>\n",
       "    </tr>\n",
       "    <tr>\n",
       "      <th>4</th>\n",
       "      <td>school</td>\n",
       "      <td>0.30</td>\n",
       "      <td>2000.0</td>\n",
       "      <td>5</td>\n",
       "      <td>906</td>\n",
       "      <td>181.2</td>\n",
       "      <td>54.4</td>\n",
       "    </tr>\n",
       "    <tr>\n",
       "      <th>5</th>\n",
       "      <td>starbucks</td>\n",
       "      <td>0.20</td>\n",
       "      <td>2000.0</td>\n",
       "      <td>5</td>\n",
       "      <td>1799</td>\n",
       "      <td>359.8</td>\n",
       "      <td>72.0</td>\n",
       "    </tr>\n",
       "    <tr>\n",
       "      <th>6</th>\n",
       "      <td>vegan restaurant</td>\n",
       "      <td>0.10</td>\n",
       "      <td>2000.0</td>\n",
       "      <td>5</td>\n",
       "      <td>1777</td>\n",
       "      <td>355.4</td>\n",
       "      <td>35.5</td>\n",
       "    </tr>\n",
       "    <tr>\n",
       "      <th>7</th>\n",
       "      <td>companies nearby</td>\n",
       "      <td>0.20</td>\n",
       "      <td>5000.0</td>\n",
       "      <td>13</td>\n",
       "      <td>25866</td>\n",
       "      <td>1989.7</td>\n",
       "      <td>397.9</td>\n",
       "    </tr>\n",
       "  </tbody>\n",
       "</table>\n",
       "</div>"
      ],
      "text/plain": [
       "              query  weight   radius  counts  sum_distance  avg_distance  \\\n",
       "0           airport    0.01  50000.0       3         47988       15996.0   \n",
       "1        basketball    0.05  10000.0       5         20903        4180.6   \n",
       "2              club    0.10   2000.0       5          1339         267.8   \n",
       "3   dog hairdresser    0.04  10000.0       5         22480        4496.0   \n",
       "4            school    0.30   2000.0       5           906         181.2   \n",
       "5         starbucks    0.20   2000.0       5          1799         359.8   \n",
       "6  vegan restaurant    0.10   2000.0       5          1777         355.4   \n",
       "7  companies nearby    0.20   5000.0      13         25866        1989.7   \n",
       "\n",
       "   weighted_avg_distance  \n",
       "0                  160.0  \n",
       "1                  209.0  \n",
       "2                   26.8  \n",
       "3                  179.8  \n",
       "4                   54.4  \n",
       "5                   72.0  \n",
       "6                   35.5  \n",
       "7                  397.9  "
      ]
     },
     "execution_count": 13,
     "metadata": {},
     "output_type": "execute_result"
    }
   ],
   "source": [
    "newyork_concat = op.concatDataframes(newyork_activities, newyork_companies_dist)\n",
    "newyork_t = op.createSummaryTable(newyork_concat, category_weight, category_radius)\n",
    "newyork_t"
   ]
  },
  {
   "cell_type": "markdown",
   "id": "5cc4d1a6",
   "metadata": {},
   "source": [
    "- **London (GBR)**"
   ]
  },
  {
   "cell_type": "code",
   "execution_count": 14,
   "id": "75f4d5ee",
   "metadata": {},
   "outputs": [
    {
     "data": {
      "text/html": [
       "<div>\n",
       "<style scoped>\n",
       "    .dataframe tbody tr th:only-of-type {\n",
       "        vertical-align: middle;\n",
       "    }\n",
       "\n",
       "    .dataframe tbody tr th {\n",
       "        vertical-align: top;\n",
       "    }\n",
       "\n",
       "    .dataframe thead th {\n",
       "        text-align: right;\n",
       "    }\n",
       "</style>\n",
       "<table border=\"1\" class=\"dataframe\">\n",
       "  <thead>\n",
       "    <tr style=\"text-align: right;\">\n",
       "      <th></th>\n",
       "      <th>query</th>\n",
       "      <th>weight</th>\n",
       "      <th>radius</th>\n",
       "      <th>counts</th>\n",
       "      <th>sum_distance</th>\n",
       "      <th>avg_distance</th>\n",
       "      <th>weighted_avg_distance</th>\n",
       "    </tr>\n",
       "  </thead>\n",
       "  <tbody>\n",
       "    <tr>\n",
       "      <th>0</th>\n",
       "      <td>airport</td>\n",
       "      <td>0.01</td>\n",
       "      <td>50000.0</td>\n",
       "      <td>3.0</td>\n",
       "      <td>75537.0</td>\n",
       "      <td>25179.0</td>\n",
       "      <td>251.8</td>\n",
       "    </tr>\n",
       "    <tr>\n",
       "      <th>1</th>\n",
       "      <td>basketball</td>\n",
       "      <td>0.05</td>\n",
       "      <td>10000.0</td>\n",
       "      <td>NaN</td>\n",
       "      <td>NaN</td>\n",
       "      <td>10000.0</td>\n",
       "      <td>500.0</td>\n",
       "    </tr>\n",
       "    <tr>\n",
       "      <th>2</th>\n",
       "      <td>club</td>\n",
       "      <td>0.10</td>\n",
       "      <td>2000.0</td>\n",
       "      <td>5.0</td>\n",
       "      <td>2466.0</td>\n",
       "      <td>493.2</td>\n",
       "      <td>49.3</td>\n",
       "    </tr>\n",
       "    <tr>\n",
       "      <th>3</th>\n",
       "      <td>dog hairdresser</td>\n",
       "      <td>0.04</td>\n",
       "      <td>10000.0</td>\n",
       "      <td>NaN</td>\n",
       "      <td>NaN</td>\n",
       "      <td>10000.0</td>\n",
       "      <td>400.0</td>\n",
       "    </tr>\n",
       "    <tr>\n",
       "      <th>4</th>\n",
       "      <td>school</td>\n",
       "      <td>0.30</td>\n",
       "      <td>2000.0</td>\n",
       "      <td>5.0</td>\n",
       "      <td>4578.0</td>\n",
       "      <td>915.6</td>\n",
       "      <td>274.7</td>\n",
       "    </tr>\n",
       "    <tr>\n",
       "      <th>5</th>\n",
       "      <td>starbucks</td>\n",
       "      <td>0.20</td>\n",
       "      <td>2000.0</td>\n",
       "      <td>5.0</td>\n",
       "      <td>2145.0</td>\n",
       "      <td>429.0</td>\n",
       "      <td>85.8</td>\n",
       "    </tr>\n",
       "    <tr>\n",
       "      <th>6</th>\n",
       "      <td>vegan restaurant</td>\n",
       "      <td>0.10</td>\n",
       "      <td>2000.0</td>\n",
       "      <td>5.0</td>\n",
       "      <td>2772.0</td>\n",
       "      <td>554.4</td>\n",
       "      <td>55.4</td>\n",
       "    </tr>\n",
       "    <tr>\n",
       "      <th>7</th>\n",
       "      <td>companies nearby</td>\n",
       "      <td>0.20</td>\n",
       "      <td>5000.0</td>\n",
       "      <td>1.0</td>\n",
       "      <td>4168.0</td>\n",
       "      <td>4168.0</td>\n",
       "      <td>833.6</td>\n",
       "    </tr>\n",
       "  </tbody>\n",
       "</table>\n",
       "</div>"
      ],
      "text/plain": [
       "              query  weight   radius  counts  sum_distance  avg_distance  \\\n",
       "0           airport    0.01  50000.0     3.0       75537.0       25179.0   \n",
       "1        basketball    0.05  10000.0     NaN           NaN       10000.0   \n",
       "2              club    0.10   2000.0     5.0        2466.0         493.2   \n",
       "3   dog hairdresser    0.04  10000.0     NaN           NaN       10000.0   \n",
       "4            school    0.30   2000.0     5.0        4578.0         915.6   \n",
       "5         starbucks    0.20   2000.0     5.0        2145.0         429.0   \n",
       "6  vegan restaurant    0.10   2000.0     5.0        2772.0         554.4   \n",
       "7  companies nearby    0.20   5000.0     1.0        4168.0        4168.0   \n",
       "\n",
       "   weighted_avg_distance  \n",
       "0                  251.8  \n",
       "1                  500.0  \n",
       "2                   49.3  \n",
       "3                  400.0  \n",
       "4                  274.7  \n",
       "5                   85.8  \n",
       "6                   55.4  \n",
       "7                  833.6  "
      ]
     },
     "execution_count": 14,
     "metadata": {},
     "output_type": "execute_result"
    }
   ],
   "source": [
    "london_concat = op.concatDataframes(london_activities, london_companies_dist)\n",
    "london_t = op.createSummaryTable(london_concat, category_weight, category_radius)\n",
    "london_t"
   ]
  },
  {
   "cell_type": "markdown",
   "id": "66699bd2",
   "metadata": {},
   "source": [
    "# Summary table with the score of each city"
   ]
  },
  {
   "cell_type": "markdown",
   "id": "df983abb",
   "metadata": {},
   "source": [
    "**Naming the dataframes for the summary table**"
   ]
  },
  {
   "cell_type": "code",
   "execution_count": 15,
   "id": "1436bbfa",
   "metadata": {},
   "outputs": [],
   "source": [
    "sanfran_t.name = \"San Francisco\"\n",
    "south_sanfran_t.name = \"South San Francisco\"\n",
    "newyork_t.name = \"New York\"\n",
    "london_t.name = \"London\""
   ]
  },
  {
   "cell_type": "markdown",
   "id": "a6b3895b",
   "metadata": {},
   "source": [
    "**Calculating total score for each city:** \n",
    "- Score is expressed as % Avg distance and normalized based on the city with the minimum average distance to other things.\n",
    "- Percentages over 100 indicate that on average things are +% far away from my initial coordinates (my company's location).\n",
    "- The lower percentage (minimum is 100), the better.\n",
    "- For instance: in London, things are +159% more distant."
   ]
  },
  {
   "cell_type": "code",
   "execution_count": 16,
   "id": "9e80f8b4",
   "metadata": {},
   "outputs": [
    {
     "data": {
      "text/html": [
       "<div>\n",
       "<style scoped>\n",
       "    .dataframe tbody tr th:only-of-type {\n",
       "        vertical-align: middle;\n",
       "    }\n",
       "\n",
       "    .dataframe tbody tr th {\n",
       "        vertical-align: top;\n",
       "    }\n",
       "\n",
       "    .dataframe thead th {\n",
       "        text-align: right;\n",
       "    }\n",
       "</style>\n",
       "<table border=\"1\" class=\"dataframe\">\n",
       "  <thead>\n",
       "    <tr style=\"text-align: right;\">\n",
       "      <th></th>\n",
       "      <th>City</th>\n",
       "      <th>% Avg distance</th>\n",
       "    </tr>\n",
       "  </thead>\n",
       "  <tbody>\n",
       "    <tr>\n",
       "      <th>0</th>\n",
       "      <td>San Francisco</td>\n",
       "      <td>100</td>\n",
       "    </tr>\n",
       "    <tr>\n",
       "      <th>1</th>\n",
       "      <td>New York</td>\n",
       "      <td>120</td>\n",
       "    </tr>\n",
       "    <tr>\n",
       "      <th>2</th>\n",
       "      <td>South San Francisco</td>\n",
       "      <td>219</td>\n",
       "    </tr>\n",
       "    <tr>\n",
       "      <th>3</th>\n",
       "      <td>London</td>\n",
       "      <td>259</td>\n",
       "    </tr>\n",
       "  </tbody>\n",
       "</table>\n",
       "</div>"
      ],
      "text/plain": [
       "                  City  % Avg distance\n",
       "0        San Francisco             100\n",
       "1             New York             120\n",
       "2  South San Francisco             219\n",
       "3               London             259"
      ]
     },
     "execution_count": 16,
     "metadata": {},
     "output_type": "execute_result"
    }
   ],
   "source": [
    "total = op.calculateTotal(newyork_t, sanfran_t, london_t, south_sanfran_t)\n",
    "total"
   ]
  },
  {
   "cell_type": "code",
   "execution_count": 17,
   "id": "94c8c09e",
   "metadata": {},
   "outputs": [
    {
     "data": {
      "image/png": "[encoded data removed]",
      "text/plain": [
       "<Figure size 640x480 with 1 Axes>"
      ]
     },
     "metadata": {},
     "output_type": "display_data"
    }
   ],
   "source": [
    "fig = sns.barplot(x = \"City\", y = \"% Avg distance\", data = total, palette = \"mako\")\n",
    "fig.bar_label(fig.containers[0])\n",
    "fig.set(ylabel = '% distance', xlabel = \"\")\n",
    "fig.set_title('Final score of each city', weight = \"bold\")\n",
    "plt.xticks(ticks = [0,1,2,3], labels = [\"San Francisco\", \"New York\", \"South SF\", \"London\"])\n",
    "plt.show()\n",
    "\n",
    "fig.figure.savefig('../images/final_score.jpg', dpi=1000, bbox_inches='tight')"
   ]
  }
 ],
 "metadata": {
  "kernelspec": {
   "display_name": "Python 3 (ipykernel)",
   "language": "python",
   "name": "python3"
  },
  "language_info": {
   "codemirror_mode": {
    "name": "ipython",
    "version": 3
   },
   "file_extension": ".py",
   "mimetype": "text/x-python",
   "name": "python",
   "nbconvert_exporter": "python",
   "pygments_lexer": "ipython3",
   "version": "3.9.13"
  },
  "toc": {
   "base_numbering": 1,
   "nav_menu": {},
   "number_sections": true,
   "sideBar": true,
   "skip_h1_title": false,
   "title_cell": "Table of Contents",
   "title_sidebar": "Contents",
   "toc_cell": false,
   "toc_position": {},
   "toc_section_display": true,
   "toc_window_display": false
  }
 },
 "nbformat": 4,
 "nbformat_minor": 5
}
